{
 "cells": [
  {
   "cell_type": "markdown",
   "id": "90e5e9a9",
   "metadata": {
    "_cell_guid": "39a695fc-3dcd-4a6c-a821-3c7a3cb5785f",
    "_uuid": "ca9ffb29-61c3-4b46-83b9-e8f2e1d39cfc",
    "collapsed": false,
    "jupyter": {
     "outputs_hidden": false
    },
    "papermill": {
     "duration": 0.011197,
     "end_time": "2025-03-28T03:06:13.341463",
     "exception": false,
     "start_time": "2025-03-28T03:06:13.330266",
     "status": "completed"
    },
    "tags": []
   },
   "source": [
    "# PREPARATION"
   ]
  },
  {
   "cell_type": "markdown",
   "id": "0a9ae74e",
   "metadata": {
    "_cell_guid": "fce11d88-d87d-4eb1-bdf1-a5a6a9855bee",
    "_uuid": "b467a9a4-ca14-4e49-949c-a0c6526af8b1",
    "collapsed": false,
    "jupyter": {
     "outputs_hidden": false
    },
    "papermill": {
     "duration": 0.010058,
     "end_time": "2025-03-28T03:06:13.362197",
     "exception": false,
     "start_time": "2025-03-28T03:06:13.352139",
     "status": "completed"
    },
    "tags": []
   },
   "source": [
    "## Import Required Library"
   ]
  },
  {
   "cell_type": "code",
   "execution_count": 1,
   "id": "a8c1e5c6",
   "metadata": {
    "_cell_guid": "fafe2da4-9a20-40ff-8580-edf653acc3ec",
    "_uuid": "f4e83284-48fe-4618-9231-ad37d9a521ce",
    "collapsed": false,
    "execution": {
     "iopub.execute_input": "2025-03-28T03:06:13.384135Z",
     "iopub.status.busy": "2025-03-28T03:06:13.383643Z",
     "iopub.status.idle": "2025-03-28T03:06:14.499644Z",
     "shell.execute_reply": "2025-03-28T03:06:14.498679Z"
    },
    "jupyter": {
     "outputs_hidden": false
    },
    "papermill": {
     "duration": 1.129155,
     "end_time": "2025-03-28T03:06:14.501535",
     "exception": false,
     "start_time": "2025-03-28T03:06:13.372380",
     "status": "completed"
    },
    "tags": []
   },
   "outputs": [],
   "source": [
    "import math\n",
    "from itertools import permutations\n",
    "from itertools import product\n",
    "import pandas as pd\n",
    "import numpy as np\n",
    "import ipywidgets as widgets\n",
    "from IPython.display import display\n",
    "import json"
   ]
  },
  {
   "cell_type": "markdown",
   "id": "6fc0aca4",
   "metadata": {
    "_cell_guid": "eab40dd6-4b16-4e27-9c10-64287b0e064b",
    "_uuid": "ab2dca2f-75d7-495e-9632-a0a569093ade",
    "collapsed": false,
    "jupyter": {
     "outputs_hidden": false
    },
    "papermill": {
     "duration": 0.009961,
     "end_time": "2025-03-28T03:06:14.522166",
     "exception": false,
     "start_time": "2025-03-28T03:06:14.512205",
     "status": "completed"
    },
    "tags": []
   },
   "source": [
    "## Global Helper Function"
   ]
  },
  {
   "cell_type": "code",
   "execution_count": 2,
   "id": "f9604c18",
   "metadata": {
    "execution": {
     "iopub.execute_input": "2025-03-28T03:06:14.544154Z",
     "iopub.status.busy": "2025-03-28T03:06:14.543570Z",
     "iopub.status.idle": "2025-03-28T03:06:14.550681Z",
     "shell.execute_reply": "2025-03-28T03:06:14.549655Z"
    },
    "papermill": {
     "duration": 0.02025,
     "end_time": "2025-03-28T03:06:14.552639",
     "exception": false,
     "start_time": "2025-03-28T03:06:14.532389",
     "status": "completed"
    },
    "tags": []
   },
   "outputs": [],
   "source": [
    "def create_criteria_decision_form() -> None: \n",
    "    global total_criteria\n",
    "    \n",
    "    dropdowns = []\n",
    "    for i in range(total_criteria):\n",
    "        label = widgets.Label(value=f\"C{i+1}\", layout=widgets.Layout(width=\"50px\"))\n",
    "    \n",
    "        dropdown = widgets.Dropdown(options=['Benefit', 'Cost'], layout=widgets.Layout(width=\"100px\"))\n",
    "        dropdowns.append(dropdown)\n",
    "    \n",
    "        display(widgets.HBox([label, dropdown]))\n",
    "\n",
    "    def get_dropdown_values():\n",
    "        return [dropdown.value for dropdown in dropdowns]\n",
    "    \n",
    "    output = widgets.Output()\n",
    "    \n",
    "    def set_criteria(_):\n",
    "        global criterias\n",
    "        \n",
    "        criterias['type'] = get_dropdown_values()\n",
    "            \n",
    "        with output:\n",
    "            output.clear_output(wait=True)\n",
    "            print('Criterias')\n",
    "            print(criterias)\n",
    "        \n",
    "    set_criteria_btn = widgets.Button(description=\"Set Criteria!\")\n",
    "    set_criteria_btn.on_click(set_criteria)\n",
    "\n",
    "    display(set_criteria_btn, output)"
   ]
  },
  {
   "cell_type": "code",
   "execution_count": 3,
   "id": "326095fd",
   "metadata": {
    "_cell_guid": "b8406d14-e9bf-48fd-925d-71818a41ba59",
    "_uuid": "05791830-b3d2-49b4-89a1-06b161d5d2f5",
    "collapsed": false,
    "execution": {
     "iopub.execute_input": "2025-03-28T03:06:14.575391Z",
     "iopub.status.busy": "2025-03-28T03:06:14.575024Z",
     "iopub.status.idle": "2025-03-28T03:06:14.583296Z",
     "shell.execute_reply": "2025-03-28T03:06:14.582419Z"
    },
    "jupyter": {
     "outputs_hidden": false
    },
    "papermill": {
     "duration": 0.021148,
     "end_time": "2025-03-28T03:06:14.584668",
     "exception": false,
     "start_time": "2025-03-28T03:06:14.563520",
     "status": "completed"
    },
    "tags": []
   },
   "outputs": [],
   "source": [
    "def create_matrix_form() -> None:\n",
    "    global total_criteria, total_alternative, criteria_labels, alternative_labels\n",
    "\n",
    "    inputs = []\n",
    "    for i in range(total_alternative):\n",
    "        rows = []\n",
    "        for c in range(total_criteria):\n",
    "            rows.append(widgets.FloatText(value=0, layout=widgets.Layout(width=\"100px\")))\n",
    "        inputs.append(rows)\n",
    "\n",
    "    header_row = []\n",
    "    for i in range(len(criteria_labels) + 1):\n",
    "        header_row.append(widgets.Label(\n",
    "            value='' if i == 0 else criteria_labels[i - 1],\n",
    "            layout=widgets.Layout(width=\"100px\")\n",
    "        ))\n",
    "    \n",
    "    input_rows = []\n",
    "    for r in range(total_alternative):\n",
    "        row_widgets = [widgets.Label(value=alternative_labels[r], layout=widgets.Layout(width=\"50px\"))] + inputs[r]\n",
    "        input_rows.append(widgets.HBox(row_widgets))\n",
    "\n",
    "    def get_matrix():\n",
    "        return np.array([[cell.value for cell in row] for row in inputs])\n",
    "\n",
    "    output = widgets.Output()\n",
    "    \n",
    "    def update_matrix(_):\n",
    "        global decision_matrix\n",
    "        \n",
    "        decision_matrix.loc[:, :] = get_matrix()\n",
    "\n",
    "        with output:\n",
    "            print(\"Decision matrix:\")\n",
    "            print(decision_matrix)\n",
    "\n",
    "    set_matrix_btn = widgets.Button(description=\"Set Matrix!\")\n",
    "    set_matrix_btn.on_click(update_matrix)\n",
    "\n",
    "    display(widgets.HBox(header_row))\n",
    "    for row in input_rows:\n",
    "        display(row)\n",
    "        \n",
    "    display(set_matrix_btn, output)"
   ]
  },
  {
   "cell_type": "code",
   "execution_count": 4,
   "id": "ac8eca34",
   "metadata": {
    "execution": {
     "iopub.execute_input": "2025-03-28T03:06:14.606715Z",
     "iopub.status.busy": "2025-03-28T03:06:14.606373Z",
     "iopub.status.idle": "2025-03-28T03:06:14.613605Z",
     "shell.execute_reply": "2025-03-28T03:06:14.612734Z"
    },
    "papermill": {
     "duration": 0.019864,
     "end_time": "2025-03-28T03:06:14.615163",
     "exception": false,
     "start_time": "2025-03-28T03:06:14.595299",
     "status": "completed"
    },
    "tags": []
   },
   "outputs": [],
   "source": [
    "def create_matrix_weight() -> None:\n",
    "    global total_criteria, criteria_labels\n",
    "\n",
    "    inputs = []\n",
    "    for i in range(total_criteria):\n",
    "        inputs.append(widgets.FloatText(value=0, layout=widgets.Layout(width=\"100px\")))\n",
    "    \n",
    "    input_rows = []\n",
    "    for r in range(total_criteria):\n",
    "        row_widgets = [widgets.Label(value=criteria_labels[r], layout=widgets.Layout(width=\"100px\"))] + [inputs[r]]\n",
    "        input_rows.append(widgets.HBox(row_widgets))\n",
    "\n",
    "    def get_matrix():\n",
    "        return [row.value for row in inputs]\n",
    "\n",
    "    output = widgets.Output()\n",
    "    \n",
    "    def update_matrix(_):\n",
    "        global weights\n",
    "        \n",
    "        weights['weight'] = get_matrix()\n",
    "\n",
    "        with output:\n",
    "            print(\"Weight Criteria:\")\n",
    "            print(weights)\n",
    "\n",
    "    set_matrix_btn = widgets.Button(description=\"Set Matrix!\")\n",
    "    set_matrix_btn.on_click(update_matrix)\n",
    "\n",
    "    for row in input_rows:\n",
    "        display(row)\n",
    "        \n",
    "    display(set_matrix_btn, output)"
   ]
  },
  {
   "cell_type": "markdown",
   "id": "8bc0e552",
   "metadata": {
    "_cell_guid": "77dfe2dd-cd6c-4ca6-b7d3-faf30d13e537",
    "_uuid": "cb560df3-316d-4a52-a3ff-7c4ac2aab7ae",
    "collapsed": false,
    "jupyter": {
     "outputs_hidden": false
    },
    "papermill": {
     "duration": 0.010201,
     "end_time": "2025-03-28T03:06:14.635777",
     "exception": false,
     "start_time": "2025-03-28T03:06:14.625576",
     "status": "completed"
    },
    "tags": []
   },
   "source": [
    "---"
   ]
  },
  {
   "cell_type": "markdown",
   "id": "62fd0934",
   "metadata": {
    "_cell_guid": "acd22f63-d6d5-4786-b01b-e950bb515799",
    "_uuid": "ab7039be-5e8d-428c-835d-bb8efa964f5d",
    "collapsed": false,
    "jupyter": {
     "outputs_hidden": false
    },
    "papermill": {
     "duration": 0.00988,
     "end_time": "2025-03-28T03:06:14.656614",
     "exception": false,
     "start_time": "2025-03-28T03:06:14.646734",
     "status": "completed"
    },
    "tags": []
   },
   "source": [
    "# Input Starter Matrix-Like Data Structure of Criterias and Alternatives"
   ]
  },
  {
   "cell_type": "code",
   "execution_count": 5,
   "id": "9c23beef",
   "metadata": {
    "execution": {
     "iopub.execute_input": "2025-03-28T03:06:14.678107Z",
     "iopub.status.busy": "2025-03-28T03:06:14.677686Z",
     "iopub.status.idle": "2025-03-28T03:06:14.682267Z",
     "shell.execute_reply": "2025-03-28T03:06:14.681327Z"
    },
    "papermill": {
     "duration": 0.017108,
     "end_time": "2025-03-28T03:06:14.683803",
     "exception": false,
     "start_time": "2025-03-28T03:06:14.666695",
     "status": "completed"
    },
    "tags": []
   },
   "outputs": [],
   "source": [
    "total_criteria = 5\n",
    "total_alternative = 3\n",
    "\n",
    "criteria_labels = tuple(f\"C{i + 1}\" for i in range(total_criteria))\n",
    "alternative_labels = tuple(f\"A{i + 1}\" for i in range(total_alternative))"
   ]
  },
  {
   "cell_type": "markdown",
   "id": "ae3b08db",
   "metadata": {
    "papermill": {
     "duration": 0.00992,
     "end_time": "2025-03-28T03:06:14.704318",
     "exception": false,
     "start_time": "2025-03-28T03:06:14.694398",
     "status": "completed"
    },
    "tags": []
   },
   "source": [
    "Define criterias"
   ]
  },
  {
   "cell_type": "code",
   "execution_count": 6,
   "id": "da9a2483",
   "metadata": {
    "execution": {
     "iopub.execute_input": "2025-03-28T03:06:14.726198Z",
     "iopub.status.busy": "2025-03-28T03:06:14.725683Z",
     "iopub.status.idle": "2025-03-28T03:06:14.746266Z",
     "shell.execute_reply": "2025-03-28T03:06:14.745132Z"
    },
    "papermill": {
     "duration": 0.033377,
     "end_time": "2025-03-28T03:06:14.747980",
     "exception": false,
     "start_time": "2025-03-28T03:06:14.714603",
     "status": "completed"
    },
    "tags": []
   },
   "outputs": [
    {
     "name": "stdout",
     "output_type": "stream",
     "text": [
      "   type\n",
      "C1  NaN\n",
      "C2  NaN\n",
      "C3  NaN\n",
      "C4  NaN\n",
      "C5  NaN\n"
     ]
    }
   ],
   "source": [
    "criterias = pd.DataFrame(None, index=criteria_labels, columns=['type'])\n",
    "print(criterias)"
   ]
  },
  {
   "cell_type": "markdown",
   "id": "f16de38e",
   "metadata": {
    "papermill": {
     "duration": 0.010314,
     "end_time": "2025-03-28T03:06:14.769380",
     "exception": false,
     "start_time": "2025-03-28T03:06:14.759066",
     "status": "completed"
    },
    "tags": []
   },
   "source": [
    "Decide which criteria is benefit or cost"
   ]
  },
  {
   "cell_type": "code",
   "execution_count": 7,
   "id": "5ea07d99",
   "metadata": {
    "execution": {
     "iopub.execute_input": "2025-03-28T03:06:14.791202Z",
     "iopub.status.busy": "2025-03-28T03:06:14.790697Z",
     "iopub.status.idle": "2025-03-28T03:06:14.845969Z",
     "shell.execute_reply": "2025-03-28T03:06:14.844643Z"
    },
    "papermill": {
     "duration": 0.068121,
     "end_time": "2025-03-28T03:06:14.847744",
     "exception": false,
     "start_time": "2025-03-28T03:06:14.779623",
     "status": "completed"
    },
    "tags": []
   },
   "outputs": [
    {
     "data": {
      "application/vnd.jupyter.widget-view+json": {
       "model_id": "fad57333b8bf44d691c7795e38f0bc62",
       "version_major": 2,
       "version_minor": 0
      },
      "text/plain": [
       "HBox(children=(Label(value='C1', layout=Layout(width='50px')), Dropdown(layout=Layout(width='100px'), options=…"
      ]
     },
     "metadata": {},
     "output_type": "display_data"
    },
    {
     "data": {
      "application/vnd.jupyter.widget-view+json": {
       "model_id": "e4537197375446e2bbb956dff9106ceb",
       "version_major": 2,
       "version_minor": 0
      },
      "text/plain": [
       "HBox(children=(Label(value='C2', layout=Layout(width='50px')), Dropdown(layout=Layout(width='100px'), options=…"
      ]
     },
     "metadata": {},
     "output_type": "display_data"
    },
    {
     "data": {
      "application/vnd.jupyter.widget-view+json": {
       "model_id": "a0fc81b0fb934c9a9b2ef8826489dbca",
       "version_major": 2,
       "version_minor": 0
      },
      "text/plain": [
       "HBox(children=(Label(value='C3', layout=Layout(width='50px')), Dropdown(layout=Layout(width='100px'), options=…"
      ]
     },
     "metadata": {},
     "output_type": "display_data"
    },
    {
     "data": {
      "application/vnd.jupyter.widget-view+json": {
       "model_id": "f03336d61e944312b96f05d39c52c72f",
       "version_major": 2,
       "version_minor": 0
      },
      "text/plain": [
       "HBox(children=(Label(value='C4', layout=Layout(width='50px')), Dropdown(layout=Layout(width='100px'), options=…"
      ]
     },
     "metadata": {},
     "output_type": "display_data"
    },
    {
     "data": {
      "application/vnd.jupyter.widget-view+json": {
       "model_id": "422eb777fcb14636954eb8f8f26514ba",
       "version_major": 2,
       "version_minor": 0
      },
      "text/plain": [
       "HBox(children=(Label(value='C5', layout=Layout(width='50px')), Dropdown(layout=Layout(width='100px'), options=…"
      ]
     },
     "metadata": {},
     "output_type": "display_data"
    },
    {
     "data": {
      "application/vnd.jupyter.widget-view+json": {
       "model_id": "086edc1765034d948419a09983e43846",
       "version_major": 2,
       "version_minor": 0
      },
      "text/plain": [
       "Button(description='Set Criteria!', style=ButtonStyle())"
      ]
     },
     "metadata": {},
     "output_type": "display_data"
    },
    {
     "data": {
      "application/vnd.jupyter.widget-view+json": {
       "model_id": "0fba3eeb1fc646f9bb3a3fc47b4f1015",
       "version_major": 2,
       "version_minor": 0
      },
      "text/plain": [
       "Output()"
      ]
     },
     "metadata": {},
     "output_type": "display_data"
    }
   ],
   "source": [
    "create_criteria_decision_form()"
   ]
  },
  {
   "cell_type": "markdown",
   "id": "d33128d0",
   "metadata": {
    "papermill": {
     "duration": 0.010982,
     "end_time": "2025-03-28T03:06:14.870638",
     "exception": false,
     "start_time": "2025-03-28T03:06:14.859656",
     "status": "completed"
    },
    "tags": []
   },
   "source": [
    "Create matrix for decision"
   ]
  },
  {
   "cell_type": "code",
   "execution_count": 8,
   "id": "df4f703b",
   "metadata": {
    "execution": {
     "iopub.execute_input": "2025-03-28T03:06:14.894732Z",
     "iopub.status.busy": "2025-03-28T03:06:14.894375Z",
     "iopub.status.idle": "2025-03-28T03:06:14.902023Z",
     "shell.execute_reply": "2025-03-28T03:06:14.900882Z"
    },
    "papermill": {
     "duration": 0.021454,
     "end_time": "2025-03-28T03:06:14.903533",
     "exception": false,
     "start_time": "2025-03-28T03:06:14.882079",
     "status": "completed"
    },
    "tags": []
   },
   "outputs": [
    {
     "name": "stdout",
     "output_type": "stream",
     "text": [
      "    C1  C2  C3  C4  C5\n",
      "A1   0   0   0   0   0\n",
      "A2   0   0   0   0   0\n",
      "A3   0   0   0   0   0\n"
     ]
    }
   ],
   "source": [
    "decision_matrix = pd.DataFrame(0, index=alternative_labels, columns=criteria_labels)\n",
    "\n",
    "print(decision_matrix)"
   ]
  },
  {
   "cell_type": "code",
   "execution_count": 9,
   "id": "6e752f83",
   "metadata": {
    "_cell_guid": "01aefe37-09d0-4f70-b75e-25efa975345b",
    "_uuid": "7d0d3882-faef-46f1-b591-084920a53100",
    "collapsed": false,
    "execution": {
     "iopub.execute_input": "2025-03-28T03:06:14.927773Z",
     "iopub.status.busy": "2025-03-28T03:06:14.927423Z",
     "iopub.status.idle": "2025-03-28T03:06:15.016528Z",
     "shell.execute_reply": "2025-03-28T03:06:15.015650Z"
    },
    "jupyter": {
     "outputs_hidden": false
    },
    "papermill": {
     "duration": 0.114496,
     "end_time": "2025-03-28T03:06:15.029644",
     "exception": false,
     "start_time": "2025-03-28T03:06:14.915148",
     "status": "completed"
    },
    "tags": []
   },
   "outputs": [
    {
     "data": {
      "application/vnd.jupyter.widget-view+json": {
       "model_id": "b1d277def67d4a75a4834ae318061185",
       "version_major": 2,
       "version_minor": 0
      },
      "text/plain": [
       "HBox(children=(Label(value='', layout=Layout(width='100px')), Label(value='C1', layout=Layout(width='100px')),…"
      ]
     },
     "metadata": {},
     "output_type": "display_data"
    },
    {
     "data": {
      "application/vnd.jupyter.widget-view+json": {
       "model_id": "c984e31f3b67401db34cbc264230c4b4",
       "version_major": 2,
       "version_minor": 0
      },
      "text/plain": [
       "HBox(children=(Label(value='A1', layout=Layout(width='50px')), FloatText(value=0.0, layout=Layout(width='100px…"
      ]
     },
     "metadata": {},
     "output_type": "display_data"
    },
    {
     "data": {
      "application/vnd.jupyter.widget-view+json": {
       "model_id": "217515fc45f34bde813095a6260817c6",
       "version_major": 2,
       "version_minor": 0
      },
      "text/plain": [
       "HBox(children=(Label(value='A2', layout=Layout(width='50px')), FloatText(value=0.0, layout=Layout(width='100px…"
      ]
     },
     "metadata": {},
     "output_type": "display_data"
    },
    {
     "data": {
      "application/vnd.jupyter.widget-view+json": {
       "model_id": "c2725085da90480790ad48fce2b38bf1",
       "version_major": 2,
       "version_minor": 0
      },
      "text/plain": [
       "HBox(children=(Label(value='A3', layout=Layout(width='50px')), FloatText(value=0.0, layout=Layout(width='100px…"
      ]
     },
     "metadata": {},
     "output_type": "display_data"
    },
    {
     "data": {
      "application/vnd.jupyter.widget-view+json": {
       "model_id": "b4122a5e80134539b45f10cbff682150",
       "version_major": 2,
       "version_minor": 0
      },
      "text/plain": [
       "Button(description='Set Matrix!', style=ButtonStyle())"
      ]
     },
     "metadata": {},
     "output_type": "display_data"
    },
    {
     "data": {
      "application/vnd.jupyter.widget-view+json": {
       "model_id": "428e4321628b46fb9c9c669e1844924d",
       "version_major": 2,
       "version_minor": 0
      },
      "text/plain": [
       "Output()"
      ]
     },
     "metadata": {},
     "output_type": "display_data"
    }
   ],
   "source": [
    "create_matrix_form()"
   ]
  },
  {
   "cell_type": "markdown",
   "id": "cece9270",
   "metadata": {
    "_cell_guid": "03fcfb00-2090-4ff8-bbc9-7add6859812a",
    "_uuid": "1861aee0-7afd-4ce4-a0ec-06831073a837",
    "collapsed": false,
    "jupyter": {
     "outputs_hidden": false
    },
    "papermill": {
     "duration": 0.011945,
     "end_time": "2025-03-28T03:06:15.054358",
     "exception": false,
     "start_time": "2025-03-28T03:06:15.042413",
     "status": "completed"
    },
    "tags": []
   },
   "source": [
    "# Normalization"
   ]
  },
  {
   "cell_type": "markdown",
   "id": "a09e0ba9",
   "metadata": {
    "papermill": {
     "duration": 0.012005,
     "end_time": "2025-03-28T03:06:15.078617",
     "exception": false,
     "start_time": "2025-03-28T03:06:15.066612",
     "status": "completed"
    },
    "tags": []
   },
   "source": [
    "Formula:\n",
    "\n",
    "**Benefit criteria:**\n",
    "$$\n",
    "r_{ij} = \\frac{x_{ij}}{\\sqrt{\\Sigma_{i=1}^m x^2_{ij}}}\n",
    "$$\n",
    "\n",
    "**Cost criteria:**\n",
    "$$\n",
    "r_{ij} = 1 - \\frac{x_{ij}}{\\sqrt{\\Sigma_{i=1}^m x^2_{ij}}}\n",
    "$$"
   ]
  },
  {
   "cell_type": "code",
   "execution_count": 10,
   "id": "5108c13c",
   "metadata": {
    "execution": {
     "iopub.execute_input": "2025-03-28T03:06:15.105008Z",
     "iopub.status.busy": "2025-03-28T03:06:15.104600Z",
     "iopub.status.idle": "2025-03-28T03:06:15.125940Z",
     "shell.execute_reply": "2025-03-28T03:06:15.124702Z"
    },
    "papermill": {
     "duration": 0.036808,
     "end_time": "2025-03-28T03:06:15.127655",
     "exception": false,
     "start_time": "2025-03-28T03:06:15.090847",
     "status": "completed"
    },
    "tags": []
   },
   "outputs": [
    {
     "name": "stdout",
     "output_type": "stream",
     "text": [
      "    C1  C2  C3  C4  C5\n",
      "A1 NaN NaN NaN NaN NaN\n",
      "A2 NaN NaN NaN NaN NaN\n",
      "A3 NaN NaN NaN NaN NaN\n"
     ]
    },
    {
     "name": "stderr",
     "output_type": "stream",
     "text": [
      "<ipython-input-10-86887f51d4c0>:10: RuntimeWarning: invalid value encountered in divide\n",
      "  matrix_r.iloc[j, i] = 1 - (decision_matrix.iloc[j, i] / math.sqrt(sum_col)) # cost criteria normalization\n",
      "<ipython-input-10-86887f51d4c0>:10: RuntimeWarning: invalid value encountered in divide\n",
      "  matrix_r.iloc[j, i] = 1 - (decision_matrix.iloc[j, i] / math.sqrt(sum_col)) # cost criteria normalization\n",
      "<ipython-input-10-86887f51d4c0>:10: RuntimeWarning: invalid value encountered in divide\n",
      "  matrix_r.iloc[j, i] = 1 - (decision_matrix.iloc[j, i] / math.sqrt(sum_col)) # cost criteria normalization\n",
      "<ipython-input-10-86887f51d4c0>:10: RuntimeWarning: invalid value encountered in divide\n",
      "  matrix_r.iloc[j, i] = 1 - (decision_matrix.iloc[j, i] / math.sqrt(sum_col)) # cost criteria normalization\n",
      "<ipython-input-10-86887f51d4c0>:10: RuntimeWarning: invalid value encountered in divide\n",
      "  matrix_r.iloc[j, i] = 1 - (decision_matrix.iloc[j, i] / math.sqrt(sum_col)) # cost criteria normalization\n",
      "/usr/local/lib/python3.10/dist-packages/pandas/io/formats/format.py:1458: RuntimeWarning: invalid value encountered in greater\n",
      "  has_large_values = (abs_vals > 1e6).any()\n",
      "/usr/local/lib/python3.10/dist-packages/pandas/io/formats/format.py:1459: RuntimeWarning: invalid value encountered in less\n",
      "  has_small_values = ((abs_vals < 10 ** (-self.digits)) & (abs_vals > 0)).any()\n",
      "/usr/local/lib/python3.10/dist-packages/pandas/io/formats/format.py:1459: RuntimeWarning: invalid value encountered in greater\n",
      "  has_small_values = ((abs_vals < 10 ** (-self.digits)) & (abs_vals > 0)).any()\n"
     ]
    }
   ],
   "source": [
    "matrix_r = decision_matrix.copy(deep=True).astype(float)\n",
    "\n",
    "for i in range(total_criteria):\n",
    "    sum_col = (decision_matrix.iloc[:, i] ** 2).sum()\n",
    "\n",
    "    for j, row in enumerate(decision_matrix.itertuples(index=False)):\n",
    "        if criterias.iloc[i]['type'] == 'Benefit':\n",
    "            matrix_r.iloc[j, i] = decision_matrix.iloc[j, i] / math.sqrt(sum_col) # benefit criteria normalization\n",
    "        else:\n",
    "            matrix_r.iloc[j, i] = 1 - (decision_matrix.iloc[j, i] / math.sqrt(sum_col)) # cost criteria normalization\n",
    "\n",
    "print(matrix_r)"
   ]
  },
  {
   "cell_type": "markdown",
   "id": "e5552629",
   "metadata": {
    "papermill": {
     "duration": 0.012045,
     "end_time": "2025-03-28T03:06:15.152207",
     "exception": false,
     "start_time": "2025-03-28T03:06:15.140162",
     "status": "completed"
    },
    "tags": []
   },
   "source": [
    "# Define Weights"
   ]
  },
  {
   "cell_type": "code",
   "execution_count": 11,
   "id": "7f137575",
   "metadata": {
    "execution": {
     "iopub.execute_input": "2025-03-28T03:06:15.179736Z",
     "iopub.status.busy": "2025-03-28T03:06:15.179422Z",
     "iopub.status.idle": "2025-03-28T03:06:15.185789Z",
     "shell.execute_reply": "2025-03-28T03:06:15.184598Z"
    },
    "papermill": {
     "duration": 0.021768,
     "end_time": "2025-03-28T03:06:15.187579",
     "exception": false,
     "start_time": "2025-03-28T03:06:15.165811",
     "status": "completed"
    },
    "tags": []
   },
   "outputs": [
    {
     "name": "stdout",
     "output_type": "stream",
     "text": [
      "    weight\n",
      "C1       0\n",
      "C2       0\n",
      "C3       0\n",
      "C4       0\n",
      "C5       0\n"
     ]
    }
   ],
   "source": [
    "weights = pd.DataFrame(0, index=criteria_labels, columns=['weight'])\n",
    "print(weights)"
   ]
  },
  {
   "cell_type": "code",
   "execution_count": 12,
   "id": "3df29170",
   "metadata": {
    "execution": {
     "iopub.execute_input": "2025-03-28T03:06:15.214088Z",
     "iopub.status.busy": "2025-03-28T03:06:15.213669Z",
     "iopub.status.idle": "2025-03-28T03:06:15.267635Z",
     "shell.execute_reply": "2025-03-28T03:06:15.266519Z"
    },
    "papermill": {
     "duration": 0.074326,
     "end_time": "2025-03-28T03:06:15.274655",
     "exception": false,
     "start_time": "2025-03-28T03:06:15.200329",
     "status": "completed"
    },
    "tags": []
   },
   "outputs": [
    {
     "data": {
      "application/vnd.jupyter.widget-view+json": {
       "model_id": "e726a4de9edd4614a5b07a862e807ae3",
       "version_major": 2,
       "version_minor": 0
      },
      "text/plain": [
       "HBox(children=(Label(value='C1', layout=Layout(width='100px')), FloatText(value=0.0, layout=Layout(width='100p…"
      ]
     },
     "metadata": {},
     "output_type": "display_data"
    },
    {
     "data": {
      "application/vnd.jupyter.widget-view+json": {
       "model_id": "b770e9545cfd42d4a9c6787c5eac4872",
       "version_major": 2,
       "version_minor": 0
      },
      "text/plain": [
       "HBox(children=(Label(value='C2', layout=Layout(width='100px')), FloatText(value=0.0, layout=Layout(width='100p…"
      ]
     },
     "metadata": {},
     "output_type": "display_data"
    },
    {
     "data": {
      "application/vnd.jupyter.widget-view+json": {
       "model_id": "090189e69fd947a1a6df973787aa5d28",
       "version_major": 2,
       "version_minor": 0
      },
      "text/plain": [
       "HBox(children=(Label(value='C3', layout=Layout(width='100px')), FloatText(value=0.0, layout=Layout(width='100p…"
      ]
     },
     "metadata": {},
     "output_type": "display_data"
    },
    {
     "data": {
      "application/vnd.jupyter.widget-view+json": {
       "model_id": "9efb81321a074482873d03893f0c0a4c",
       "version_major": 2,
       "version_minor": 0
      },
      "text/plain": [
       "HBox(children=(Label(value='C4', layout=Layout(width='100px')), FloatText(value=0.0, layout=Layout(width='100p…"
      ]
     },
     "metadata": {},
     "output_type": "display_data"
    },
    {
     "data": {
      "application/vnd.jupyter.widget-view+json": {
       "model_id": "afcd3c1160144bc6ab75fb462793f4b7",
       "version_major": 2,
       "version_minor": 0
      },
      "text/plain": [
       "HBox(children=(Label(value='C5', layout=Layout(width='100px')), FloatText(value=0.0, layout=Layout(width='100p…"
      ]
     },
     "metadata": {},
     "output_type": "display_data"
    },
    {
     "data": {
      "application/vnd.jupyter.widget-view+json": {
       "model_id": "e1ae7aebeff644b2bbe319e396394f4b",
       "version_major": 2,
       "version_minor": 0
      },
      "text/plain": [
       "Button(description='Set Matrix!', style=ButtonStyle())"
      ]
     },
     "metadata": {},
     "output_type": "display_data"
    },
    {
     "data": {
      "application/vnd.jupyter.widget-view+json": {
       "model_id": "0f834d86c9b14d4bbfa769d989b0f15b",
       "version_major": 2,
       "version_minor": 0
      },
      "text/plain": [
       "Output()"
      ]
     },
     "metadata": {},
     "output_type": "display_data"
    }
   ],
   "source": [
    "create_matrix_weight()"
   ]
  },
  {
   "cell_type": "markdown",
   "id": "d41f49a1",
   "metadata": {
    "_cell_guid": "0f976666-8b5c-423c-b78c-bcd272051807",
    "_uuid": "39596287-41cc-4d65-b51d-ecdba814abfd",
    "collapsed": false,
    "jupyter": {
     "outputs_hidden": false
    },
    "papermill": {
     "duration": 0.012939,
     "end_time": "2025-03-28T03:06:15.301303",
     "exception": false,
     "start_time": "2025-03-28T03:06:15.288364",
     "status": "completed"
    },
    "tags": []
   },
   "source": [
    "# Calculate Weighted Matrix"
   ]
  },
  {
   "cell_type": "markdown",
   "id": "34e2d496",
   "metadata": {
    "papermill": {
     "duration": 0.013397,
     "end_time": "2025-03-28T03:06:15.328195",
     "exception": false,
     "start_time": "2025-03-28T03:06:15.314798",
     "status": "completed"
    },
    "tags": []
   },
   "source": [
    "Formula:\n",
    "\n",
    "$$\n",
    "v_{ij} = r_{ij} \\cdot w_{ij}\n",
    "$$"
   ]
  },
  {
   "cell_type": "code",
   "execution_count": 13,
   "id": "eac5a23e",
   "metadata": {
    "_cell_guid": "704b60ae-bfa1-4247-acbc-6cd23d6b512c",
    "_uuid": "fded85a8-4f87-40b1-ac13-02ec7f062845",
    "collapsed": false,
    "execution": {
     "iopub.execute_input": "2025-03-28T03:06:15.356067Z",
     "iopub.status.busy": "2025-03-28T03:06:15.355684Z",
     "iopub.status.idle": "2025-03-28T03:06:15.364318Z",
     "shell.execute_reply": "2025-03-28T03:06:15.362966Z"
    },
    "jupyter": {
     "outputs_hidden": false
    },
    "papermill": {
     "duration": 0.024704,
     "end_time": "2025-03-28T03:06:15.366260",
     "exception": false,
     "start_time": "2025-03-28T03:06:15.341556",
     "status": "completed"
    },
    "tags": []
   },
   "outputs": [
    {
     "name": "stdout",
     "output_type": "stream",
     "text": [
      "    C1  C2  C3  C4  C5\n",
      "A1 NaN NaN NaN NaN NaN\n",
      "A2 NaN NaN NaN NaN NaN\n",
      "A3 NaN NaN NaN NaN NaN\n"
     ]
    },
    {
     "name": "stderr",
     "output_type": "stream",
     "text": [
      "/usr/local/lib/python3.10/dist-packages/pandas/io/formats/format.py:1458: RuntimeWarning: invalid value encountered in greater\n",
      "  has_large_values = (abs_vals > 1e6).any()\n",
      "/usr/local/lib/python3.10/dist-packages/pandas/io/formats/format.py:1459: RuntimeWarning: invalid value encountered in less\n",
      "  has_small_values = ((abs_vals < 10 ** (-self.digits)) & (abs_vals > 0)).any()\n",
      "/usr/local/lib/python3.10/dist-packages/pandas/io/formats/format.py:1459: RuntimeWarning: invalid value encountered in greater\n",
      "  has_small_values = ((abs_vals < 10 ** (-self.digits)) & (abs_vals > 0)).any()\n"
     ]
    }
   ],
   "source": [
    "weighted_matrix = matrix_r.mul(weights['weight'], axis=1)\n",
    "print(weighted_matrix)"
   ]
  },
  {
   "cell_type": "markdown",
   "id": "ba49e895",
   "metadata": {
    "_cell_guid": "e1423134-0384-491e-a4c7-581ee4f013ee",
    "_uuid": "91ceabd7-322f-4f61-bb73-022609492354",
    "collapsed": false,
    "jupyter": {
     "outputs_hidden": false
    },
    "papermill": {
     "duration": 0.013397,
     "end_time": "2025-03-28T03:06:15.394543",
     "exception": false,
     "start_time": "2025-03-28T03:06:15.381146",
     "status": "completed"
    },
    "tags": []
   },
   "source": [
    "# Get The Concordance and Discordance Set"
   ]
  },
  {
   "cell_type": "markdown",
   "id": "ffff71f7",
   "metadata": {
    "papermill": {
     "duration": 0.013714,
     "end_time": "2025-03-28T03:06:15.421880",
     "exception": false,
     "start_time": "2025-03-28T03:06:15.408166",
     "status": "completed"
    },
    "tags": []
   },
   "source": [
    "Calculate the permutation of alternative to see how many group should concordance and discordance have"
   ]
  },
  {
   "cell_type": "code",
   "execution_count": 14,
   "id": "33c66353",
   "metadata": {
    "execution": {
     "iopub.execute_input": "2025-03-28T03:06:15.450426Z",
     "iopub.status.busy": "2025-03-28T03:06:15.450042Z",
     "iopub.status.idle": "2025-03-28T03:06:15.455217Z",
     "shell.execute_reply": "2025-03-28T03:06:15.454111Z"
    },
    "papermill": {
     "duration": 0.021305,
     "end_time": "2025-03-28T03:06:15.456715",
     "exception": false,
     "start_time": "2025-03-28T03:06:15.435410",
     "status": "completed"
    },
    "tags": []
   },
   "outputs": [
    {
     "name": "stdout",
     "output_type": "stream",
     "text": [
      "6\n"
     ]
    }
   ],
   "source": [
    "permutation_alternative = math.perm(total_alternative, 2)\n",
    "print(permutation_alternative)"
   ]
  },
  {
   "cell_type": "markdown",
   "id": "1ee293ee",
   "metadata": {
    "_cell_guid": "e232a7b9-54fa-48c5-9d29-75f9c320db1a",
    "_uuid": "b1e8c75b-e9c6-4264-9cb0-c1f237a5f29c",
    "collapsed": false,
    "jupyter": {
     "outputs_hidden": false
    },
    "papermill": {
     "duration": 0.01327,
     "end_time": "2025-03-28T03:06:15.484212",
     "exception": false,
     "start_time": "2025-03-28T03:06:15.470942",
     "status": "completed"
    },
    "tags": []
   },
   "source": [
    "## Concordance"
   ]
  },
  {
   "cell_type": "code",
   "execution_count": 15,
   "id": "fecbd55d",
   "metadata": {
    "execution": {
     "iopub.execute_input": "2025-03-28T03:06:15.512553Z",
     "iopub.status.busy": "2025-03-28T03:06:15.512172Z",
     "iopub.status.idle": "2025-03-28T03:06:15.523597Z",
     "shell.execute_reply": "2025-03-28T03:06:15.522468Z"
    },
    "papermill": {
     "duration": 0.027688,
     "end_time": "2025-03-28T03:06:15.525430",
     "exception": false,
     "start_time": "2025-03-28T03:06:15.497742",
     "status": "completed"
    },
    "tags": []
   },
   "outputs": [
    {
     "name": "stdout",
     "output_type": "stream",
     "text": [
      "  First Second Selected Criteria\n",
      "0    A1     A2              None\n",
      "1    A1     A3              None\n",
      "2    A2     A1              None\n",
      "3    A2     A3              None\n",
      "4    A3     A1              None\n",
      "5    A3     A2              None\n"
     ]
    }
   ],
   "source": [
    "concordances_data = []\n",
    "for a, b in permutations(alternative_labels, 2):\n",
    "    row_1 = int(a[-1]) - 1\n",
    "    row_2 = int(b[-1]) - 1\n",
    "\n",
    "    selected_criteria = []\n",
    "    for i in range(len(weighted_matrix.columns)):\n",
    "        if weighted_matrix.iloc[row_1, i] >= weighted_matrix.iloc[row_2, i]:\n",
    "            selected_criteria.append([a, b, f\"C{i+1}\"])\n",
    "\n",
    "    is_a_found = any(row[0] == a for row in selected_criteria)\n",
    "    is_b_found = any(row[1] == b for row in selected_criteria)\n",
    "\n",
    "    if is_a_found and is_b_found:\n",
    "        for i in selected_criteria:\n",
    "            concordances_data.append(i)\n",
    "    else:\n",
    "        concordances_data.append([a, b, None])\n",
    "\n",
    "concordances = pd.DataFrame(concordances_data, columns=['First', 'Second', 'Selected Criteria'])\n",
    "print(concordances)"
   ]
  },
  {
   "cell_type": "markdown",
   "id": "5ea2ae36",
   "metadata": {
    "_cell_guid": "345560d4-24fa-496f-b895-bec7c5040a97",
    "_uuid": "adc69ca9-29ff-4336-9689-3e7b3aa75ed7",
    "collapsed": false,
    "jupyter": {
     "outputs_hidden": false
    },
    "papermill": {
     "duration": 0.014271,
     "end_time": "2025-03-28T03:06:15.553456",
     "exception": false,
     "start_time": "2025-03-28T03:06:15.539185",
     "status": "completed"
    },
    "tags": []
   },
   "source": [
    "## Discordance"
   ]
  },
  {
   "cell_type": "code",
   "execution_count": 16,
   "id": "d2a4b131",
   "metadata": {
    "_cell_guid": "946e8f50-a690-4976-928b-47d229a5b497",
    "_uuid": "3d065407-de2f-40fd-8190-fb7b6d1bb88e",
    "collapsed": false,
    "execution": {
     "iopub.execute_input": "2025-03-28T03:06:15.582998Z",
     "iopub.status.busy": "2025-03-28T03:06:15.582606Z",
     "iopub.status.idle": "2025-03-28T03:06:15.594567Z",
     "shell.execute_reply": "2025-03-28T03:06:15.593265Z"
    },
    "jupyter": {
     "outputs_hidden": false
    },
    "papermill": {
     "duration": 0.028909,
     "end_time": "2025-03-28T03:06:15.596287",
     "exception": false,
     "start_time": "2025-03-28T03:06:15.567378",
     "status": "completed"
    },
    "tags": []
   },
   "outputs": [
    {
     "name": "stdout",
     "output_type": "stream",
     "text": [
      "  First Second Selected Criteria\n",
      "0    A1     A2              None\n",
      "1    A1     A3              None\n",
      "2    A2     A1              None\n",
      "3    A2     A3              None\n",
      "4    A3     A1              None\n",
      "5    A3     A2              None\n"
     ]
    }
   ],
   "source": [
    "discordances_data = []\n",
    "for a, b in permutations(alternative_labels, 2):\n",
    "    row_1 = int(a[-1]) - 1\n",
    "    row_2 = int(b[-1]) - 1\n",
    "\n",
    "    selected_criteria = []\n",
    "    for i in range(len(weighted_matrix.columns)):\n",
    "        if weighted_matrix.iloc[row_1, i] < weighted_matrix.iloc[row_2, i]:\n",
    "            selected_criteria.append([a, b, f\"C{i+1}\"])\n",
    "\n",
    "    is_a_found = any(row[0] == a for row in selected_criteria)\n",
    "    is_b_found = any(row[1] == b for row in selected_criteria)\n",
    "\n",
    "    if is_a_found and is_b_found:\n",
    "        for i in selected_criteria:\n",
    "            discordances_data.append(i)\n",
    "    else:\n",
    "        discordances_data.append([a, b, None])\n",
    "\n",
    "discordances = pd.DataFrame(discordances_data, columns=['First', 'Second', 'Selected Criteria'])\n",
    "print(discordances)"
   ]
  },
  {
   "cell_type": "markdown",
   "id": "7c77f65a",
   "metadata": {
    "papermill": {
     "duration": 0.013405,
     "end_time": "2025-03-28T03:06:15.623723",
     "exception": false,
     "start_time": "2025-03-28T03:06:15.610318",
     "status": "completed"
    },
    "tags": []
   },
   "source": [
    "# Define The Matrix of Concordance and Discordance"
   ]
  },
  {
   "cell_type": "markdown",
   "id": "0ca57156",
   "metadata": {
    "papermill": {
     "duration": 0.013408,
     "end_time": "2025-03-28T03:06:15.650906",
     "exception": false,
     "start_time": "2025-03-28T03:06:15.637498",
     "status": "completed"
    },
    "tags": []
   },
   "source": [
    "## Concordance"
   ]
  },
  {
   "cell_type": "markdown",
   "id": "48f4ff31",
   "metadata": {
    "papermill": {
     "duration": 0.067489,
     "end_time": "2025-03-28T03:06:15.732458",
     "exception": false,
     "start_time": "2025-03-28T03:06:15.664969",
     "status": "completed"
    },
    "tags": []
   },
   "source": [
    "Formula\n",
    "\n",
    "$$\n",
    "c_{kl} = \\Sigma_{j \\in c_{kl}} W_j\n",
    "$$"
   ]
  },
  {
   "cell_type": "code",
   "execution_count": 17,
   "id": "07865afd",
   "metadata": {
    "execution": {
     "iopub.execute_input": "2025-03-28T03:06:15.761165Z",
     "iopub.status.busy": "2025-03-28T03:06:15.760716Z",
     "iopub.status.idle": "2025-03-28T03:06:15.766485Z",
     "shell.execute_reply": "2025-03-28T03:06:15.765414Z"
    },
    "papermill": {
     "duration": 0.021974,
     "end_time": "2025-03-28T03:06:15.768138",
     "exception": false,
     "start_time": "2025-03-28T03:06:15.746164",
     "status": "completed"
    },
    "tags": []
   },
   "outputs": [],
   "source": [
    "sum_weights_concordance = {f\"{a[-1]}-{b[-1]}\" : 0 if a != b else None for a, b in product(alternative_labels, repeat=2)}\n",
    "\n",
    "for val in concordances.itertuples(index=False):\n",
    "    sum_weights_concordance[val[0][-1]+'-'+val[1][-1]] += weights.loc[val[2]].weight if val[2] != None else 0\n",
    "\n",
    "# print(json.dumps(sum_weights_concordance, indent=4))"
   ]
  },
  {
   "cell_type": "markdown",
   "id": "c72d153d",
   "metadata": {
    "papermill": {
     "duration": 0.014081,
     "end_time": "2025-03-28T03:06:15.796326",
     "exception": false,
     "start_time": "2025-03-28T03:06:15.782245",
     "status": "completed"
    },
    "tags": []
   },
   "source": [
    "Convert it to matrix-like data structure (Pandas DataFrame)"
   ]
  },
  {
   "cell_type": "code",
   "execution_count": 18,
   "id": "b40fa053",
   "metadata": {
    "execution": {
     "iopub.execute_input": "2025-03-28T03:06:15.826190Z",
     "iopub.status.busy": "2025-03-28T03:06:15.825771Z",
     "iopub.status.idle": "2025-03-28T03:06:15.837097Z",
     "shell.execute_reply": "2025-03-28T03:06:15.835906Z"
    },
    "papermill": {
     "duration": 0.028944,
     "end_time": "2025-03-28T03:06:15.839398",
     "exception": false,
     "start_time": "2025-03-28T03:06:15.810454",
     "status": "completed"
    },
    "tags": []
   },
   "outputs": [
    {
     "name": "stdout",
     "output_type": "stream",
     "text": [
      "     0    1    2\n",
      "0  NaN  0.0  0.0\n",
      "1  0.0  NaN  0.0\n",
      "2  0.0  0.0  NaN\n"
     ]
    },
    {
     "name": "stderr",
     "output_type": "stream",
     "text": [
      "/usr/local/lib/python3.10/dist-packages/pandas/io/formats/format.py:1458: RuntimeWarning: invalid value encountered in greater\n",
      "  has_large_values = (abs_vals > 1e6).any()\n",
      "/usr/local/lib/python3.10/dist-packages/pandas/io/formats/format.py:1459: RuntimeWarning: invalid value encountered in less\n",
      "  has_small_values = ((abs_vals < 10 ** (-self.digits)) & (abs_vals > 0)).any()\n",
      "/usr/local/lib/python3.10/dist-packages/pandas/io/formats/format.py:1459: RuntimeWarning: invalid value encountered in greater\n",
      "  has_small_values = ((abs_vals < 10 ** (-self.digits)) & (abs_vals > 0)).any()\n"
     ]
    }
   ],
   "source": [
    "last_dict_item_concordance = list(sum_weights_concordance.keys())[-1]\n",
    "\n",
    "concordance_matrix = pd.DataFrame(np.nan, index=range(int(last_dict_item_concordance[0])), columns=range(int(last_dict_item_concordance[-1])))\n",
    "\n",
    "for key, value in sum_weights_concordance.items():\n",
    "    row, col = map(int, key.split('-'))\n",
    "    concordance_matrix.at[row-1, col-1] = value\n",
    "    \n",
    "print(concordance_matrix)"
   ]
  },
  {
   "cell_type": "markdown",
   "id": "a152dcfa",
   "metadata": {
    "papermill": {
     "duration": 0.014115,
     "end_time": "2025-03-28T03:06:15.868411",
     "exception": false,
     "start_time": "2025-03-28T03:06:15.854296",
     "status": "completed"
    },
    "tags": []
   },
   "source": [
    "## Discordance"
   ]
  },
  {
   "cell_type": "markdown",
   "id": "b9cb50a3",
   "metadata": {
    "papermill": {
     "duration": 0.014798,
     "end_time": "2025-03-28T03:06:15.897325",
     "exception": false,
     "start_time": "2025-03-28T03:06:15.882527",
     "status": "completed"
    },
    "tags": []
   },
   "source": [
    "Formula\n",
    "\n",
    "$$\n",
    "d_{kl} = \\frac{max(|v_{kj} - v_{vj}|)_{j \\in D_{kl}}}{max(|v_{kj} - v_{lj}|)_{\\forall_{j}}}\n",
    "$$"
   ]
  },
  {
   "cell_type": "code",
   "execution_count": 19,
   "id": "9d335174",
   "metadata": {
    "execution": {
     "iopub.execute_input": "2025-03-28T03:06:15.927069Z",
     "iopub.status.busy": "2025-03-28T03:06:15.926667Z",
     "iopub.status.idle": "2025-03-28T03:06:15.931212Z",
     "shell.execute_reply": "2025-03-28T03:06:15.930178Z"
    },
    "papermill": {
     "duration": 0.021117,
     "end_time": "2025-03-28T03:06:15.932852",
     "exception": false,
     "start_time": "2025-03-28T03:06:15.911735",
     "status": "completed"
    },
    "tags": []
   },
   "outputs": [],
   "source": [
    "discordances_group = {f\"{a[-1]}-{b[-1]}\" : [] if a != b else None for a, b in product(alternative_labels, repeat=2)}\n",
    "# print(json.dumps(discordances_group, indent=4))"
   ]
  },
  {
   "cell_type": "code",
   "execution_count": 20,
   "id": "40929050",
   "metadata": {
    "execution": {
     "iopub.execute_input": "2025-03-28T03:06:15.961963Z",
     "iopub.status.busy": "2025-03-28T03:06:15.961569Z",
     "iopub.status.idle": "2025-03-28T03:06:15.966933Z",
     "shell.execute_reply": "2025-03-28T03:06:15.965789Z"
    },
    "papermill": {
     "duration": 0.021638,
     "end_time": "2025-03-28T03:06:15.968599",
     "exception": false,
     "start_time": "2025-03-28T03:06:15.946961",
     "status": "completed"
    },
    "tags": []
   },
   "outputs": [],
   "source": [
    "for val in discordances.itertuples(index=False):\n",
    "    a = val[0][-1]\n",
    "    b = val[1][-1]\n",
    "    discordances_group[a+'-'+b].append(val[2])\n",
    "\n",
    "# print(json.dumps(discordances_group, indent=4))"
   ]
  },
  {
   "cell_type": "code",
   "execution_count": 21,
   "id": "eaf12a18",
   "metadata": {
    "execution": {
     "iopub.execute_input": "2025-03-28T03:06:15.997846Z",
     "iopub.status.busy": "2025-03-28T03:06:15.997448Z",
     "iopub.status.idle": "2025-03-28T03:06:16.004087Z",
     "shell.execute_reply": "2025-03-28T03:06:16.002745Z"
    },
    "papermill": {
     "duration": 0.023349,
     "end_time": "2025-03-28T03:06:16.005986",
     "exception": false,
     "start_time": "2025-03-28T03:06:15.982637",
     "status": "completed"
    },
    "tags": []
   },
   "outputs": [],
   "source": [
    "discordance_matrix_data = {f\"{a[-1]}-{b[-1]}\" : 0 if a != b else None for a, b in product(alternative_labels, repeat=2)}\n",
    "\n",
    "for key, val in discordances_group.items():\n",
    "    if val == None: continue\n",
    "        \n",
    "    if tuple(val) not in weighted_matrix.columns: continue\n",
    "        \n",
    "    a1 = f\"A{key[0]}\"\n",
    "    a2 = f\"A{key[-1]}\"\n",
    "\n",
    "    max_difference_row = abs(weighted_matrix.loc[a1] - weighted_matrix.loc[a2]).max()\n",
    "    max_difference_criteria_discordance = abs(weighted_matrix.loc[a1, val] - weighted_matrix.loc[a2, val]).max()\n",
    "\n",
    "    discordance_matrix_data[key] = max_difference_criteria_discordance / max_difference_row\n",
    "\n",
    "# print(json.dumps(discordance_matrix_data, indent=4))"
   ]
  },
  {
   "cell_type": "markdown",
   "id": "739af45f",
   "metadata": {
    "papermill": {
     "duration": 0.013607,
     "end_time": "2025-03-28T03:06:16.034604",
     "exception": false,
     "start_time": "2025-03-28T03:06:16.020997",
     "status": "completed"
    },
    "tags": []
   },
   "source": [
    "Convert data structure to matrix-like data type (Pandas DataFrame)"
   ]
  },
  {
   "cell_type": "code",
   "execution_count": 22,
   "id": "60f62bd4",
   "metadata": {
    "execution": {
     "iopub.execute_input": "2025-03-28T03:06:16.065251Z",
     "iopub.status.busy": "2025-03-28T03:06:16.064865Z",
     "iopub.status.idle": "2025-03-28T03:06:16.075138Z",
     "shell.execute_reply": "2025-03-28T03:06:16.074002Z"
    },
    "papermill": {
     "duration": 0.027508,
     "end_time": "2025-03-28T03:06:16.076777",
     "exception": false,
     "start_time": "2025-03-28T03:06:16.049269",
     "status": "completed"
    },
    "tags": []
   },
   "outputs": [
    {
     "name": "stdout",
     "output_type": "stream",
     "text": [
      "     0    1    2\n",
      "0  NaN  0.0  0.0\n",
      "1  0.0  NaN  0.0\n",
      "2  0.0  0.0  NaN\n"
     ]
    },
    {
     "name": "stderr",
     "output_type": "stream",
     "text": [
      "/usr/local/lib/python3.10/dist-packages/pandas/io/formats/format.py:1458: RuntimeWarning: invalid value encountered in greater\n",
      "  has_large_values = (abs_vals > 1e6).any()\n",
      "/usr/local/lib/python3.10/dist-packages/pandas/io/formats/format.py:1459: RuntimeWarning: invalid value encountered in less\n",
      "  has_small_values = ((abs_vals < 10 ** (-self.digits)) & (abs_vals > 0)).any()\n",
      "/usr/local/lib/python3.10/dist-packages/pandas/io/formats/format.py:1459: RuntimeWarning: invalid value encountered in greater\n",
      "  has_small_values = ((abs_vals < 10 ** (-self.digits)) & (abs_vals > 0)).any()\n"
     ]
    }
   ],
   "source": [
    "last_dict_item_discordance = list(discordance_matrix_data.keys())[-1]\n",
    "\n",
    "discordance_matrix = pd.DataFrame(np.nan, index=range(int(last_dict_item_discordance[0])), columns=range(int(last_dict_item_discordance[-1])))\n",
    "\n",
    "for key, value in discordance_matrix_data.items():\n",
    "    row, col = map(int, key.split('-'))\n",
    "    discordance_matrix.at[row-1, col-1] = value\n",
    "    \n",
    "print(discordance_matrix)"
   ]
  },
  {
   "cell_type": "markdown",
   "id": "1712f61b",
   "metadata": {
    "_cell_guid": "35dcfd55-d16f-4c11-b14c-9eb6f452c6fb",
    "_uuid": "7bb42344-3f8d-4d3c-a110-892ae88cc883",
    "collapsed": false,
    "jupyter": {
     "outputs_hidden": false
    },
    "papermill": {
     "duration": 0.013619,
     "end_time": "2025-03-28T03:06:16.104639",
     "exception": false,
     "start_time": "2025-03-28T03:06:16.091020",
     "status": "completed"
    },
    "tags": []
   },
   "source": [
    "# Calculate the Dominant of The Matrix"
   ]
  },
  {
   "cell_type": "markdown",
   "id": "f04e1bc9",
   "metadata": {
    "papermill": {
     "duration": 0.01396,
     "end_time": "2025-03-28T03:06:16.133048",
     "exception": false,
     "start_time": "2025-03-28T03:06:16.119088",
     "status": "completed"
    },
    "tags": []
   },
   "source": [
    "Threshold formula:\n",
    "\n",
    "$$\n",
    "\\underline{c} = \\frac{\\Sigma_{k=1}^m \\Sigma_{l=1}^m c_{kl}}{m(m-1)}\n",
    "$$"
   ]
  },
  {
   "cell_type": "code",
   "execution_count": 23,
   "id": "093fc79f",
   "metadata": {
    "execution": {
     "iopub.execute_input": "2025-03-28T03:06:16.165796Z",
     "iopub.status.busy": "2025-03-28T03:06:16.165411Z",
     "iopub.status.idle": "2025-03-28T03:06:16.170155Z",
     "shell.execute_reply": "2025-03-28T03:06:16.169017Z"
    },
    "papermill": {
     "duration": 0.023307,
     "end_time": "2025-03-28T03:06:16.171952",
     "exception": false,
     "start_time": "2025-03-28T03:06:16.148645",
     "status": "completed"
    },
    "tags": []
   },
   "outputs": [],
   "source": [
    "def calculate_threshold(matrix: pd.DataFrame):\n",
    "    return matrix.sum().sum() / (matrix.shape[0] * (matrix.shape[0] - 1))"
   ]
  },
  {
   "cell_type": "markdown",
   "id": "7f75b83a",
   "metadata": {
    "papermill": {
     "duration": 0.013869,
     "end_time": "2025-03-28T03:06:16.200162",
     "exception": false,
     "start_time": "2025-03-28T03:06:16.186293",
     "status": "completed"
    },
    "tags": []
   },
   "source": [
    "## Concordance"
   ]
  },
  {
   "cell_type": "markdown",
   "id": "e949e0e4",
   "metadata": {
    "papermill": {
     "duration": 0.013714,
     "end_time": "2025-03-28T03:06:16.227884",
     "exception": false,
     "start_time": "2025-03-28T03:06:16.214170",
     "status": "completed"
    },
    "tags": []
   },
   "source": [
    "Compare each value in matrix with **threshold (c)**\n",
    "\n",
    "So, the value of matrix F is:\n",
    "$$\n",
    "f_{kl} = \n",
    "\\begin{cases}\n",
    "    1, \\text{if } c_{kl} \\geq \\underline{c} \\\\\n",
    "    0, \\text{if } c_{kl} \\lt \\underline{c}\n",
    "\\end{cases}\n",
    "$$"
   ]
  },
  {
   "cell_type": "code",
   "execution_count": 24,
   "id": "4cb5fd96",
   "metadata": {
    "execution": {
     "iopub.execute_input": "2025-03-28T03:06:16.257654Z",
     "iopub.status.busy": "2025-03-28T03:06:16.257272Z",
     "iopub.status.idle": "2025-03-28T03:06:16.265083Z",
     "shell.execute_reply": "2025-03-28T03:06:16.264120Z"
    },
    "papermill": {
     "duration": 0.024317,
     "end_time": "2025-03-28T03:06:16.266703",
     "exception": false,
     "start_time": "2025-03-28T03:06:16.242386",
     "status": "completed"
    },
    "tags": []
   },
   "outputs": [
    {
     "name": "stdout",
     "output_type": "stream",
     "text": [
      "0.0\n"
     ]
    }
   ],
   "source": [
    "concordance_threshold = calculate_threshold(concordance_matrix)\n",
    "print(concordance_threshold)"
   ]
  },
  {
   "cell_type": "code",
   "execution_count": 25,
   "id": "74ddec9f",
   "metadata": {
    "execution": {
     "iopub.execute_input": "2025-03-28T03:06:16.297124Z",
     "iopub.status.busy": "2025-03-28T03:06:16.296681Z",
     "iopub.status.idle": "2025-03-28T03:06:16.306081Z",
     "shell.execute_reply": "2025-03-28T03:06:16.305037Z"
    },
    "papermill": {
     "duration": 0.026841,
     "end_time": "2025-03-28T03:06:16.307932",
     "exception": false,
     "start_time": "2025-03-28T03:06:16.281091",
     "status": "completed"
    },
    "tags": []
   },
   "outputs": [
    {
     "name": "stdout",
     "output_type": "stream",
     "text": [
      "     0    1    2\n",
      "0  NaN  0.0  0.0\n",
      "1  0.0  NaN  0.0\n",
      "2  0.0  0.0  NaN\n"
     ]
    },
    {
     "name": "stderr",
     "output_type": "stream",
     "text": [
      "<ipython-input-25-6bcefaf94157>:1: FutureWarning: DataFrame.applymap has been deprecated. Use DataFrame.map instead.\n",
      "  dominant_concordance = concordance_matrix.applymap(lambda x: 1 if pd.notna(x) and x > concordance_threshold else (0 if pd.notna(x) else x))\n",
      "/usr/local/lib/python3.10/dist-packages/pandas/io/formats/format.py:1458: RuntimeWarning: invalid value encountered in greater\n",
      "  has_large_values = (abs_vals > 1e6).any()\n",
      "/usr/local/lib/python3.10/dist-packages/pandas/io/formats/format.py:1459: RuntimeWarning: invalid value encountered in less\n",
      "  has_small_values = ((abs_vals < 10 ** (-self.digits)) & (abs_vals > 0)).any()\n",
      "/usr/local/lib/python3.10/dist-packages/pandas/io/formats/format.py:1459: RuntimeWarning: invalid value encountered in greater\n",
      "  has_small_values = ((abs_vals < 10 ** (-self.digits)) & (abs_vals > 0)).any()\n"
     ]
    }
   ],
   "source": [
    "dominant_concordance = concordance_matrix.applymap(lambda x: 1 if pd.notna(x) and x > concordance_threshold else (0 if pd.notna(x) else x))\n",
    "print(dominant_concordance)"
   ]
  },
  {
   "cell_type": "markdown",
   "id": "40607996",
   "metadata": {
    "papermill": {
     "duration": 0.014076,
     "end_time": "2025-03-28T03:06:16.336838",
     "exception": false,
     "start_time": "2025-03-28T03:06:16.322762",
     "status": "completed"
    },
    "tags": []
   },
   "source": [
    "## Discordance"
   ]
  },
  {
   "cell_type": "markdown",
   "id": "931f314f",
   "metadata": {
    "papermill": {
     "duration": 0.014074,
     "end_time": "2025-03-28T03:06:16.365554",
     "exception": false,
     "start_time": "2025-03-28T03:06:16.351480",
     "status": "completed"
    },
    "tags": []
   },
   "source": [
    "Compare each value in matrix with **threshold (c)**.\n",
    "\n",
    "So, the value of matrix F is:\n",
    "$$\n",
    "g_{kl} = \n",
    "\\begin{cases}\n",
    "    1, \\text{if } d_{kl} \\geq \\underline{d} \\\\\n",
    "    0, \\text{if } d_{kl} \\lt \\underline{d}\n",
    "\\end{cases}\n",
    "$$"
   ]
  },
  {
   "cell_type": "code",
   "execution_count": 26,
   "id": "02f11b65",
   "metadata": {
    "execution": {
     "iopub.execute_input": "2025-03-28T03:06:16.395922Z",
     "iopub.status.busy": "2025-03-28T03:06:16.395545Z",
     "iopub.status.idle": "2025-03-28T03:06:16.400641Z",
     "shell.execute_reply": "2025-03-28T03:06:16.399611Z"
    },
    "papermill": {
     "duration": 0.021924,
     "end_time": "2025-03-28T03:06:16.402265",
     "exception": false,
     "start_time": "2025-03-28T03:06:16.380341",
     "status": "completed"
    },
    "tags": []
   },
   "outputs": [
    {
     "name": "stdout",
     "output_type": "stream",
     "text": [
      "0.0\n"
     ]
    }
   ],
   "source": [
    "discordance_threshold = calculate_threshold(discordance_matrix)\n",
    "print(discordance_threshold)"
   ]
  },
  {
   "cell_type": "code",
   "execution_count": 27,
   "id": "2b8e2086",
   "metadata": {
    "execution": {
     "iopub.execute_input": "2025-03-28T03:06:16.432908Z",
     "iopub.status.busy": "2025-03-28T03:06:16.432528Z",
     "iopub.status.idle": "2025-03-28T03:06:16.440662Z",
     "shell.execute_reply": "2025-03-28T03:06:16.439626Z"
    },
    "papermill": {
     "duration": 0.025877,
     "end_time": "2025-03-28T03:06:16.442882",
     "exception": false,
     "start_time": "2025-03-28T03:06:16.417005",
     "status": "completed"
    },
    "tags": []
   },
   "outputs": [
    {
     "name": "stdout",
     "output_type": "stream",
     "text": [
      "     0    1    2\n",
      "0  NaN  0.0  0.0\n",
      "1  0.0  NaN  0.0\n",
      "2  0.0  0.0  NaN\n"
     ]
    },
    {
     "name": "stderr",
     "output_type": "stream",
     "text": [
      "<ipython-input-27-045116bb379c>:1: FutureWarning: DataFrame.applymap has been deprecated. Use DataFrame.map instead.\n",
      "  dominant_discordance = discordance_matrix.applymap(lambda x: 1 if pd.notna(x) and x > discordance_threshold else (0 if pd.notna(x) else x))\n",
      "/usr/local/lib/python3.10/dist-packages/pandas/io/formats/format.py:1458: RuntimeWarning: invalid value encountered in greater\n",
      "  has_large_values = (abs_vals > 1e6).any()\n",
      "/usr/local/lib/python3.10/dist-packages/pandas/io/formats/format.py:1459: RuntimeWarning: invalid value encountered in less\n",
      "  has_small_values = ((abs_vals < 10 ** (-self.digits)) & (abs_vals > 0)).any()\n",
      "/usr/local/lib/python3.10/dist-packages/pandas/io/formats/format.py:1459: RuntimeWarning: invalid value encountered in greater\n",
      "  has_small_values = ((abs_vals < 10 ** (-self.digits)) & (abs_vals > 0)).any()\n"
     ]
    }
   ],
   "source": [
    "dominant_discordance = discordance_matrix.applymap(lambda x: 1 if pd.notna(x) and x > discordance_threshold else (0 if pd.notna(x) else x))\n",
    "print(dominant_discordance)"
   ]
  },
  {
   "cell_type": "markdown",
   "id": "c241209d",
   "metadata": {
    "papermill": {
     "duration": 0.014438,
     "end_time": "2025-03-28T03:06:16.472500",
     "exception": false,
     "start_time": "2025-03-28T03:06:16.458062",
     "status": "completed"
    },
    "tags": []
   },
   "source": [
    "# Calculate Aggregate Dominant Matrix"
   ]
  },
  {
   "cell_type": "markdown",
   "id": "60db0a9b",
   "metadata": {
    "papermill": {
     "duration": 0.014998,
     "end_time": "2025-03-28T03:06:16.502156",
     "exception": false,
     "start_time": "2025-03-28T03:06:16.487158",
     "status": "completed"
    },
    "tags": []
   },
   "source": [
    "Formula:\n",
    "\n",
    "$$\n",
    "e_{kl} = f_{kl} \\times g_{kl}\n",
    "$$\n",
    "or\n",
    "$$\n",
    "E = F \\odot G\n",
    "$$"
   ]
  },
  {
   "cell_type": "code",
   "execution_count": 28,
   "id": "af59cc60",
   "metadata": {
    "execution": {
     "iopub.execute_input": "2025-03-28T03:06:16.532781Z",
     "iopub.status.busy": "2025-03-28T03:06:16.532449Z",
     "iopub.status.idle": "2025-03-28T03:06:16.539480Z",
     "shell.execute_reply": "2025-03-28T03:06:16.538434Z"
    },
    "papermill": {
     "duration": 0.025254,
     "end_time": "2025-03-28T03:06:16.541941",
     "exception": false,
     "start_time": "2025-03-28T03:06:16.516687",
     "status": "completed"
    },
    "tags": []
   },
   "outputs": [
    {
     "name": "stdout",
     "output_type": "stream",
     "text": [
      "     0    1    2\n",
      "0  NaN  0.0  0.0\n",
      "1  0.0  NaN  0.0\n",
      "2  0.0  0.0  NaN\n"
     ]
    },
    {
     "name": "stderr",
     "output_type": "stream",
     "text": [
      "/usr/local/lib/python3.10/dist-packages/pandas/io/formats/format.py:1458: RuntimeWarning: invalid value encountered in greater\n",
      "  has_large_values = (abs_vals > 1e6).any()\n",
      "/usr/local/lib/python3.10/dist-packages/pandas/io/formats/format.py:1459: RuntimeWarning: invalid value encountered in less\n",
      "  has_small_values = ((abs_vals < 10 ** (-self.digits)) & (abs_vals > 0)).any()\n",
      "/usr/local/lib/python3.10/dist-packages/pandas/io/formats/format.py:1459: RuntimeWarning: invalid value encountered in greater\n",
      "  has_small_values = ((abs_vals < 10 ** (-self.digits)) & (abs_vals > 0)).any()\n"
     ]
    }
   ],
   "source": [
    "aggregate_dominant_matrix = dominant_concordance * dominant_discordance\n",
    "print(aggregate_dominant_matrix)"
   ]
  },
  {
   "cell_type": "markdown",
   "id": "0385a210",
   "metadata": {
    "_cell_guid": "de5b40c5-2a7f-4b97-9294-a537c6e7fa66",
    "_uuid": "b69eac96-34e8-4665-a8ba-4b1f7e44b00d",
    "collapsed": false,
    "jupyter": {
     "outputs_hidden": false
    },
    "papermill": {
     "duration": 0.013983,
     "end_time": "2025-03-28T03:06:16.570478",
     "exception": false,
     "start_time": "2025-03-28T03:06:16.556495",
     "status": "completed"
    },
    "tags": []
   },
   "source": [
    "# Eliminate Less Favourable Alternatives"
   ]
  },
  {
   "cell_type": "code",
   "execution_count": 29,
   "id": "f74ac4f9",
   "metadata": {
    "_cell_guid": "9ee3cbe5-35cd-4399-a325-984335be9e0a",
    "_uuid": "2d917b5e-94b2-459a-b3a1-7ec7d5a0db83",
    "collapsed": false,
    "execution": {
     "iopub.execute_input": "2025-03-28T03:06:16.601074Z",
     "iopub.status.busy": "2025-03-28T03:06:16.600696Z",
     "iopub.status.idle": "2025-03-28T03:06:16.610795Z",
     "shell.execute_reply": "2025-03-28T03:06:16.609738Z"
    },
    "jupyter": {
     "outputs_hidden": false
    },
    "papermill": {
     "duration": 0.027705,
     "end_time": "2025-03-28T03:06:16.612716",
     "exception": false,
     "start_time": "2025-03-28T03:06:16.585011",
     "status": "completed"
    },
    "tags": []
   },
   "outputs": [
    {
     "name": "stdout",
     "output_type": "stream",
     "text": [
      "Empty DataFrame\n",
      "Columns: [0, 1, 2]\n",
      "Index: []\n",
      "\n",
      "You should evaluate and rank the alternatives before deciding!\n"
     ]
    }
   ],
   "source": [
    "selected_alternatives = aggregate_dominant_matrix[aggregate_dominant_matrix.eq(1).any(axis=1)]\n",
    "print(selected_alternatives)\n",
    "\n",
    "if selected_alternatives.empty:\n",
    "    print('\\nYou should evaluate and rank the alternatives before deciding!')\n",
    "else:\n",
    "    potential_alternatives = selected_alternatives[selected_alternatives.eq(1).any(axis=1)]\n",
    "    print(potential_alternatives)"
   ]
  },
  {
   "cell_type": "markdown",
   "id": "b87971c3",
   "metadata": {
    "_cell_guid": "8ca75ba6-0286-4191-8d4b-0ed8e6965304",
    "_uuid": "3c508889-c941-4d5a-98bd-825ff31aa6e0",
    "collapsed": false,
    "jupyter": {
     "outputs_hidden": false
    },
    "papermill": {
     "duration": 0.014533,
     "end_time": "2025-03-28T03:06:16.642844",
     "exception": false,
     "start_time": "2025-03-28T03:06:16.628311",
     "status": "completed"
    },
    "tags": []
   },
   "source": [
    "# Ranking Alternative"
   ]
  },
  {
   "cell_type": "code",
   "execution_count": 30,
   "id": "d174032b",
   "metadata": {
    "_cell_guid": "4d763e61-261e-4cfb-9f4d-0af539be6b04",
    "_uuid": "b959b4fc-170e-421a-8fcf-de00b0cd0f85",
    "collapsed": false,
    "execution": {
     "iopub.execute_input": "2025-03-28T03:06:16.674896Z",
     "iopub.status.busy": "2025-03-28T03:06:16.674488Z",
     "iopub.status.idle": "2025-03-28T03:06:16.689976Z",
     "shell.execute_reply": "2025-03-28T03:06:16.688862Z"
    },
    "jupyter": {
     "outputs_hidden": false
    },
    "papermill": {
     "duration": 0.032865,
     "end_time": "2025-03-28T03:06:16.691548",
     "exception": false,
     "start_time": "2025-03-28T03:06:16.658683",
     "status": "completed"
    },
    "tags": []
   },
   "outputs": [
    {
     "name": "stdout",
     "output_type": "stream",
     "text": [
      "     0    1    2  total_point  rank alternative_name\n",
      "0  NaN  0.0  0.0          0.0     1               A2\n",
      "1  0.0  NaN  0.0          0.0     2               A3\n",
      "2  0.0  0.0  NaN          0.0     3               A4\n"
     ]
    },
    {
     "name": "stderr",
     "output_type": "stream",
     "text": [
      "/usr/local/lib/python3.10/dist-packages/pandas/io/formats/format.py:1458: RuntimeWarning: invalid value encountered in greater\n",
      "  has_large_values = (abs_vals > 1e6).any()\n",
      "/usr/local/lib/python3.10/dist-packages/pandas/io/formats/format.py:1459: RuntimeWarning: invalid value encountered in less\n",
      "  has_small_values = ((abs_vals < 10 ** (-self.digits)) & (abs_vals > 0)).any()\n",
      "/usr/local/lib/python3.10/dist-packages/pandas/io/formats/format.py:1459: RuntimeWarning: invalid value encountered in greater\n",
      "  has_small_values = ((abs_vals < 10 ** (-self.digits)) & (abs_vals > 0)).any()\n"
     ]
    }
   ],
   "source": [
    "rank_table = concordance_matrix - discordance_matrix\n",
    "\n",
    "rank_table['total_point'] = rank_table.sum(axis=1)\n",
    "\n",
    "rank_table = rank_table.sort_values(by='total_point', ascending=False)\n",
    "rank_table['rank'] = range(1, len(rank_table) + 1)\n",
    "\n",
    "rank_table['alternative_name'] = rank_table['rank'].apply(lambda x: f\"A{x+1}\")\n",
    "\n",
    "print(rank_table)"
   ]
  }
 ],
 "metadata": {
  "kaggle": {
   "accelerator": "none",
   "dataSources": [],
   "dockerImageVersionId": 30918,
   "isGpuEnabled": false,
   "isInternetEnabled": true,
   "language": "python",
   "sourceType": "notebook"
  },
  "kernelspec": {
   "display_name": "Python 3",
   "language": "python",
   "name": "python3"
  },
  "language_info": {
   "codemirror_mode": {
    "name": "ipython",
    "version": 3
   },
   "file_extension": ".py",
   "mimetype": "text/x-python",
   "name": "python",
   "nbconvert_exporter": "python",
   "pygments_lexer": "ipython3",
   "version": "3.10.12"
  },
  "papermill": {
   "default_parameters": {},
   "duration": 6.799723,
   "end_time": "2025-03-28T03:06:17.330183",
   "environment_variables": {},
   "exception": null,
   "input_path": "__notebook__.ipynb",
   "output_path": "__notebook__.ipynb",
   "parameters": {},
   "start_time": "2025-03-28T03:06:10.530460",
   "version": "2.6.0"
  },
  "widgets": {
   "application/vnd.jupyter.widget-state+json": {
    "state": {
     "00e1c503fed34962b874021b1ff384a7": {
      "model_module": "@jupyter-widgets/controls",
      "model_module_version": "2.0.0",
      "model_name": "LabelStyleModel",
      "state": {
       "_model_module": "@jupyter-widgets/controls",
       "_model_module_version": "2.0.0",
       "_model_name": "LabelStyleModel",
       "_view_count": null,
       "_view_module": "@jupyter-widgets/base",
       "_view_module_version": "2.0.0",
       "_view_name": "StyleView",
       "background": null,
       "description_width": "",
       "font_family": null,
       "font_size": null,
       "font_style": null,
       "font_variant": null,
       "font_weight": null,
       "text_color": null,
       "text_decoration": null
      }
     },
     "04ff3f7c722c4c509a62facfcc49279d": {
      "model_module": "@jupyter-widgets/controls",
      "model_module_version": "2.0.0",
      "model_name": "FloatTextModel",
      "state": {
       "_dom_classes": [],
       "_model_module": "@jupyter-widgets/controls",
       "_model_module_version": "2.0.0",
       "_model_name": "FloatTextModel",
       "_view_count": null,
       "_view_module": "@jupyter-widgets/controls",
       "_view_module_version": "2.0.0",
       "_view_name": "FloatTextView",
       "continuous_update": false,
       "description": "",
       "description_allow_html": false,
       "disabled": false,
       "layout": "IPY_MODEL_a446fd615f484845af665e485018ee75",
       "step": null,
       "style": "IPY_MODEL_3b254ce9e3e249de9888071010bd405e",
       "tabbable": null,
       "tooltip": null,
       "value": 0.0
      }
     },
     "086edc1765034d948419a09983e43846": {
      "model_module": "@jupyter-widgets/controls",
      "model_module_version": "2.0.0",
      "model_name": "ButtonModel",
      "state": {
       "_dom_classes": [],
       "_model_module": "@jupyter-widgets/controls",
       "_model_module_version": "2.0.0",
       "_model_name": "ButtonModel",
       "_view_count": null,
       "_view_module": "@jupyter-widgets/controls",
       "_view_module_version": "2.0.0",
       "_view_name": "ButtonView",
       "button_style": "",
       "description": "Set Criteria!",
       "disabled": false,
       "icon": "",
       "layout": "IPY_MODEL_f1e6c94f98c24f0fa6b2a503623e46e5",
       "style": "IPY_MODEL_7408be00164a4cc286c2504dcea4a18f",
       "tabbable": null,
       "tooltip": null
      }
     },
     "090189e69fd947a1a6df973787aa5d28": {
      "model_module": "@jupyter-widgets/controls",
      "model_module_version": "2.0.0",
      "model_name": "HBoxModel",
      "state": {
       "_dom_classes": [],
       "_model_module": "@jupyter-widgets/controls",
       "_model_module_version": "2.0.0",
       "_model_name": "HBoxModel",
       "_view_count": null,
       "_view_module": "@jupyter-widgets/controls",
       "_view_module_version": "2.0.0",
       "_view_name": "HBoxView",
       "box_style": "",
       "children": [
        "IPY_MODEL_2c1d2c7739924685a30ba34e492467ed",
        "IPY_MODEL_d8bdbfbce1d8456e92e3b11f91b75845"
       ],
       "layout": "IPY_MODEL_e4732a4cf0c544d29da865ececd135ac",
       "tabbable": null,
       "tooltip": null
      }
     },
     "0966863bbf95459481fca3d7d747a9ae": {
      "model_module": "@jupyter-widgets/base",
      "model_module_version": "2.0.0",
      "model_name": "LayoutModel",
      "state": {
       "_model_module": "@jupyter-widgets/base",
       "_model_module_version": "2.0.0",
       "_model_name": "LayoutModel",
       "_view_count": null,
       "_view_module": "@jupyter-widgets/base",
       "_view_module_version": "2.0.0",
       "_view_name": "LayoutView",
       "align_content": null,
       "align_items": null,
       "align_self": null,
       "border_bottom": null,
       "border_left": null,
       "border_right": null,
       "border_top": null,
       "bottom": null,
       "display": null,
       "flex": null,
       "flex_flow": null,
       "grid_area": null,
       "grid_auto_columns": null,
       "grid_auto_flow": null,
       "grid_auto_rows": null,
       "grid_column": null,
       "grid_gap": null,
       "grid_row": null,
       "grid_template_areas": null,
       "grid_template_columns": null,
       "grid_template_rows": null,
       "height": null,
       "justify_content": null,
       "justify_items": null,
       "left": null,
       "margin": null,
       "max_height": null,
       "max_width": null,
       "min_height": null,
       "min_width": null,
       "object_fit": null,
       "object_position": null,
       "order": null,
       "overflow": null,
       "padding": null,
       "right": null,
       "top": null,
       "visibility": null,
       "width": null
      }
     },
     "0a4379d6fb534206b3f73c471dd872b0": {
      "model_module": "@jupyter-widgets/base",
      "model_module_version": "2.0.0",
      "model_name": "LayoutModel",
      "state": {
       "_model_module": "@jupyter-widgets/base",
       "_model_module_version": "2.0.0",
       "_model_name": "LayoutModel",
       "_view_count": null,
       "_view_module": "@jupyter-widgets/base",
       "_view_module_version": "2.0.0",
       "_view_name": "LayoutView",
       "align_content": null,
       "align_items": null,
       "align_self": null,
       "border_bottom": null,
       "border_left": null,
       "border_right": null,
       "border_top": null,
       "bottom": null,
       "display": null,
       "flex": null,
       "flex_flow": null,
       "grid_area": null,
       "grid_auto_columns": null,
       "grid_auto_flow": null,
       "grid_auto_rows": null,
       "grid_column": null,
       "grid_gap": null,
       "grid_row": null,
       "grid_template_areas": null,
       "grid_template_columns": null,
       "grid_template_rows": null,
       "height": null,
       "justify_content": null,
       "justify_items": null,
       "left": null,
       "margin": null,
       "max_height": null,
       "max_width": null,
       "min_height": null,
       "min_width": null,
       "object_fit": null,
       "object_position": null,
       "order": null,
       "overflow": null,
       "padding": null,
       "right": null,
       "top": null,
       "visibility": null,
       "width": "100px"
      }
     },
     "0f7a716d4ab1442088b3d3ae27b8e216": {
      "model_module": "@jupyter-widgets/controls",
      "model_module_version": "2.0.0",
      "model_name": "DescriptionStyleModel",
      "state": {
       "_model_module": "@jupyter-widgets/controls",
       "_model_module_version": "2.0.0",
       "_model_name": "DescriptionStyleModel",
       "_view_count": null,
       "_view_module": "@jupyter-widgets/base",
       "_view_module_version": "2.0.0",
       "_view_name": "StyleView",
       "description_width": ""
      }
     },
     "0f834d86c9b14d4bbfa769d989b0f15b": {
      "model_module": "@jupyter-widgets/output",
      "model_module_version": "1.0.0",
      "model_name": "OutputModel",
      "state": {
       "_dom_classes": [],
       "_model_module": "@jupyter-widgets/output",
       "_model_module_version": "1.0.0",
       "_model_name": "OutputModel",
       "_view_count": null,
       "_view_module": "@jupyter-widgets/output",
       "_view_module_version": "1.0.0",
       "_view_name": "OutputView",
       "layout": "IPY_MODEL_cbb0abe8fc1c4520867372ad8c86cece",
       "msg_id": "",
       "outputs": [],
       "tabbable": null,
       "tooltip": null
      }
     },
     "0fba3eeb1fc646f9bb3a3fc47b4f1015": {
      "model_module": "@jupyter-widgets/output",
      "model_module_version": "1.0.0",
      "model_name": "OutputModel",
      "state": {
       "_dom_classes": [],
       "_model_module": "@jupyter-widgets/output",
       "_model_module_version": "1.0.0",
       "_model_name": "OutputModel",
       "_view_count": null,
       "_view_module": "@jupyter-widgets/output",
       "_view_module_version": "1.0.0",
       "_view_name": "OutputView",
       "layout": "IPY_MODEL_da3d77b4f8784bc088223eaeff28bb05",
       "msg_id": "",
       "outputs": [],
       "tabbable": null,
       "tooltip": null
      }
     },
     "154dc1739f39443089f9a959c01e846a": {
      "model_module": "@jupyter-widgets/base",
      "model_module_version": "2.0.0",
      "model_name": "LayoutModel",
      "state": {
       "_model_module": "@jupyter-widgets/base",
       "_model_module_version": "2.0.0",
       "_model_name": "LayoutModel",
       "_view_count": null,
       "_view_module": "@jupyter-widgets/base",
       "_view_module_version": "2.0.0",
       "_view_name": "LayoutView",
       "align_content": null,
       "align_items": null,
       "align_self": null,
       "border_bottom": null,
       "border_left": null,
       "border_right": null,
       "border_top": null,
       "bottom": null,
       "display": null,
       "flex": null,
       "flex_flow": null,
       "grid_area": null,
       "grid_auto_columns": null,
       "grid_auto_flow": null,
       "grid_auto_rows": null,
       "grid_column": null,
       "grid_gap": null,
       "grid_row": null,
       "grid_template_areas": null,
       "grid_template_columns": null,
       "grid_template_rows": null,
       "height": null,
       "justify_content": null,
       "justify_items": null,
       "left": null,
       "margin": null,
       "max_height": null,
       "max_width": null,
       "min_height": null,
       "min_width": null,
       "object_fit": null,
       "object_position": null,
       "order": null,
       "overflow": null,
       "padding": null,
       "right": null,
       "top": null,
       "visibility": null,
       "width": null
      }
     },
     "17d1437f95d248cf8746bff6545587c1": {
      "model_module": "@jupyter-widgets/controls",
      "model_module_version": "2.0.0",
      "model_name": "LabelStyleModel",
      "state": {
       "_model_module": "@jupyter-widgets/controls",
       "_model_module_version": "2.0.0",
       "_model_name": "LabelStyleModel",
       "_view_count": null,
       "_view_module": "@jupyter-widgets/base",
       "_view_module_version": "2.0.0",
       "_view_name": "StyleView",
       "background": null,
       "description_width": "",
       "font_family": null,
       "font_size": null,
       "font_style": null,
       "font_variant": null,
       "font_weight": null,
       "text_color": null,
       "text_decoration": null
      }
     },
     "1aeab8b1a62b4884984489631c66ebf4": {
      "model_module": "@jupyter-widgets/base",
      "model_module_version": "2.0.0",
      "model_name": "LayoutModel",
      "state": {
       "_model_module": "@jupyter-widgets/base",
       "_model_module_version": "2.0.0",
       "_model_name": "LayoutModel",
       "_view_count": null,
       "_view_module": "@jupyter-widgets/base",
       "_view_module_version": "2.0.0",
       "_view_name": "LayoutView",
       "align_content": null,
       "align_items": null,
       "align_self": null,
       "border_bottom": null,
       "border_left": null,
       "border_right": null,
       "border_top": null,
       "bottom": null,
       "display": null,
       "flex": null,
       "flex_flow": null,
       "grid_area": null,
       "grid_auto_columns": null,
       "grid_auto_flow": null,
       "grid_auto_rows": null,
       "grid_column": null,
       "grid_gap": null,
       "grid_row": null,
       "grid_template_areas": null,
       "grid_template_columns": null,
       "grid_template_rows": null,
       "height": null,
       "justify_content": null,
       "justify_items": null,
       "left": null,
       "margin": null,
       "max_height": null,
       "max_width": null,
       "min_height": null,
       "min_width": null,
       "object_fit": null,
       "object_position": null,
       "order": null,
       "overflow": null,
       "padding": null,
       "right": null,
       "top": null,
       "visibility": null,
       "width": "100px"
      }
     },
     "1b471e9b533a4b81b345238d98e47d56": {
      "model_module": "@jupyter-widgets/base",
      "model_module_version": "2.0.0",
      "model_name": "LayoutModel",
      "state": {
       "_model_module": "@jupyter-widgets/base",
       "_model_module_version": "2.0.0",
       "_model_name": "LayoutModel",
       "_view_count": null,
       "_view_module": "@jupyter-widgets/base",
       "_view_module_version": "2.0.0",
       "_view_name": "LayoutView",
       "align_content": null,
       "align_items": null,
       "align_self": null,
       "border_bottom": null,
       "border_left": null,
       "border_right": null,
       "border_top": null,
       "bottom": null,
       "display": null,
       "flex": null,
       "flex_flow": null,
       "grid_area": null,
       "grid_auto_columns": null,
       "grid_auto_flow": null,
       "grid_auto_rows": null,
       "grid_column": null,
       "grid_gap": null,
       "grid_row": null,
       "grid_template_areas": null,
       "grid_template_columns": null,
       "grid_template_rows": null,
       "height": null,
       "justify_content": null,
       "justify_items": null,
       "left": null,
       "margin": null,
       "max_height": null,
       "max_width": null,
       "min_height": null,
       "min_width": null,
       "object_fit": null,
       "object_position": null,
       "order": null,
       "overflow": null,
       "padding": null,
       "right": null,
       "top": null,
       "visibility": null,
       "width": null
      }
     },
     "1d3e080014c04754b18ecae705220b82": {
      "model_module": "@jupyter-widgets/base",
      "model_module_version": "2.0.0",
      "model_name": "LayoutModel",
      "state": {
       "_model_module": "@jupyter-widgets/base",
       "_model_module_version": "2.0.0",
       "_model_name": "LayoutModel",
       "_view_count": null,
       "_view_module": "@jupyter-widgets/base",
       "_view_module_version": "2.0.0",
       "_view_name": "LayoutView",
       "align_content": null,
       "align_items": null,
       "align_self": null,
       "border_bottom": null,
       "border_left": null,
       "border_right": null,
       "border_top": null,
       "bottom": null,
       "display": null,
       "flex": null,
       "flex_flow": null,
       "grid_area": null,
       "grid_auto_columns": null,
       "grid_auto_flow": null,
       "grid_auto_rows": null,
       "grid_column": null,
       "grid_gap": null,
       "grid_row": null,
       "grid_template_areas": null,
       "grid_template_columns": null,
       "grid_template_rows": null,
       "height": null,
       "justify_content": null,
       "justify_items": null,
       "left": null,
       "margin": null,
       "max_height": null,
       "max_width": null,
       "min_height": null,
       "min_width": null,
       "object_fit": null,
       "object_position": null,
       "order": null,
       "overflow": null,
       "padding": null,
       "right": null,
       "top": null,
       "visibility": null,
       "width": null
      }
     },
     "1d790c263b8649d4914412be31c43045": {
      "model_module": "@jupyter-widgets/controls",
      "model_module_version": "2.0.0",
      "model_name": "LabelModel",
      "state": {
       "_dom_classes": [],
       "_model_module": "@jupyter-widgets/controls",
       "_model_module_version": "2.0.0",
       "_model_name": "LabelModel",
       "_view_count": null,
       "_view_module": "@jupyter-widgets/controls",
       "_view_module_version": "2.0.0",
       "_view_name": "LabelView",
       "description": "",
       "description_allow_html": false,
       "layout": "IPY_MODEL_e270f7afa7be45b7952e1307520e4d11",
       "placeholder": "​",
       "style": "IPY_MODEL_17d1437f95d248cf8746bff6545587c1",
       "tabbable": null,
       "tooltip": null,
       "value": "C3"
      }
     },
     "211c56c68df54756832e7ef9d35bc926": {
      "model_module": "@jupyter-widgets/base",
      "model_module_version": "2.0.0",
      "model_name": "LayoutModel",
      "state": {
       "_model_module": "@jupyter-widgets/base",
       "_model_module_version": "2.0.0",
       "_model_name": "LayoutModel",
       "_view_count": null,
       "_view_module": "@jupyter-widgets/base",
       "_view_module_version": "2.0.0",
       "_view_name": "LayoutView",
       "align_content": null,
       "align_items": null,
       "align_self": null,
       "border_bottom": null,
       "border_left": null,
       "border_right": null,
       "border_top": null,
       "bottom": null,
       "display": null,
       "flex": null,
       "flex_flow": null,
       "grid_area": null,
       "grid_auto_columns": null,
       "grid_auto_flow": null,
       "grid_auto_rows": null,
       "grid_column": null,
       "grid_gap": null,
       "grid_row": null,
       "grid_template_areas": null,
       "grid_template_columns": null,
       "grid_template_rows": null,
       "height": null,
       "justify_content": null,
       "justify_items": null,
       "left": null,
       "margin": null,
       "max_height": null,
       "max_width": null,
       "min_height": null,
       "min_width": null,
       "object_fit": null,
       "object_position": null,
       "order": null,
       "overflow": null,
       "padding": null,
       "right": null,
       "top": null,
       "visibility": null,
       "width": "100px"
      }
     },
     "217515fc45f34bde813095a6260817c6": {
      "model_module": "@jupyter-widgets/controls",
      "model_module_version": "2.0.0",
      "model_name": "HBoxModel",
      "state": {
       "_dom_classes": [],
       "_model_module": "@jupyter-widgets/controls",
       "_model_module_version": "2.0.0",
       "_model_name": "HBoxModel",
       "_view_count": null,
       "_view_module": "@jupyter-widgets/controls",
       "_view_module_version": "2.0.0",
       "_view_name": "HBoxView",
       "box_style": "",
       "children": [
        "IPY_MODEL_a545bcce155d4cc38aecfe29d4d6ac6e",
        "IPY_MODEL_5ff3dd86be034c49b639abcba7a1784a",
        "IPY_MODEL_f7617264487f455e816879dd62cd2982",
        "IPY_MODEL_6ed0453b780e492ca0de33199c814f32",
        "IPY_MODEL_9433ccce6e954ac4bee78c776ab5de45",
        "IPY_MODEL_eaadaa09142a44a9ba77c8fc25c97b5b"
       ],
       "layout": "IPY_MODEL_1d3e080014c04754b18ecae705220b82",
       "tabbable": null,
       "tooltip": null
      }
     },
     "225eeb86362240ab9fcee36a93bc6cbc": {
      "model_module": "@jupyter-widgets/controls",
      "model_module_version": "2.0.0",
      "model_name": "LabelStyleModel",
      "state": {
       "_model_module": "@jupyter-widgets/controls",
       "_model_module_version": "2.0.0",
       "_model_name": "LabelStyleModel",
       "_view_count": null,
       "_view_module": "@jupyter-widgets/base",
       "_view_module_version": "2.0.0",
       "_view_name": "StyleView",
       "background": null,
       "description_width": "",
       "font_family": null,
       "font_size": null,
       "font_style": null,
       "font_variant": null,
       "font_weight": null,
       "text_color": null,
       "text_decoration": null
      }
     },
     "244897612f1444aca90ae5646ce48819": {
      "model_module": "@jupyter-widgets/controls",
      "model_module_version": "2.0.0",
      "model_name": "LabelModel",
      "state": {
       "_dom_classes": [],
       "_model_module": "@jupyter-widgets/controls",
       "_model_module_version": "2.0.0",
       "_model_name": "LabelModel",
       "_view_count": null,
       "_view_module": "@jupyter-widgets/controls",
       "_view_module_version": "2.0.0",
       "_view_name": "LabelView",
       "description": "",
       "description_allow_html": false,
       "layout": "IPY_MODEL_54850d1086884b6f8b8c959c9d02e4bd",
       "placeholder": "​",
       "style": "IPY_MODEL_46132e6039ff44d0bbb586622f690e9c",
       "tabbable": null,
       "tooltip": null,
       "value": "C5"
      }
     },
     "255b1452ff7d417db6a5f2ec7e57126e": {
      "model_module": "@jupyter-widgets/controls",
      "model_module_version": "2.0.0",
      "model_name": "LabelModel",
      "state": {
       "_dom_classes": [],
       "_model_module": "@jupyter-widgets/controls",
       "_model_module_version": "2.0.0",
       "_model_name": "LabelModel",
       "_view_count": null,
       "_view_module": "@jupyter-widgets/controls",
       "_view_module_version": "2.0.0",
       "_view_name": "LabelView",
       "description": "",
       "description_allow_html": false,
       "layout": "IPY_MODEL_ee8a4043213d4c68a57ada0b3e222945",
       "placeholder": "​",
       "style": "IPY_MODEL_d0d634e980a746929e5f5c8fe1d6a67d",
       "tabbable": null,
       "tooltip": null,
       "value": "C1"
      }
     },
     "2625186537ef461db774a269979fa33a": {
      "model_module": "@jupyter-widgets/controls",
      "model_module_version": "2.0.0",
      "model_name": "FloatTextModel",
      "state": {
       "_dom_classes": [],
       "_model_module": "@jupyter-widgets/controls",
       "_model_module_version": "2.0.0",
       "_model_name": "FloatTextModel",
       "_view_count": null,
       "_view_module": "@jupyter-widgets/controls",
       "_view_module_version": "2.0.0",
       "_view_name": "FloatTextView",
       "continuous_update": false,
       "description": "",
       "description_allow_html": false,
       "disabled": false,
       "layout": "IPY_MODEL_676b52c9ce734bbd841398d9b81f9187",
       "step": null,
       "style": "IPY_MODEL_fef05e4263034fbdad2a910e84592ffb",
       "tabbable": null,
       "tooltip": null,
       "value": 0.0
      }
     },
     "2c1d2c7739924685a30ba34e492467ed": {
      "model_module": "@jupyter-widgets/controls",
      "model_module_version": "2.0.0",
      "model_name": "LabelModel",
      "state": {
       "_dom_classes": [],
       "_model_module": "@jupyter-widgets/controls",
       "_model_module_version": "2.0.0",
       "_model_name": "LabelModel",
       "_view_count": null,
       "_view_module": "@jupyter-widgets/controls",
       "_view_module_version": "2.0.0",
       "_view_name": "LabelView",
       "description": "",
       "description_allow_html": false,
       "layout": "IPY_MODEL_acc786bae40e41fc8e29d2cbe6dd2bf6",
       "placeholder": "​",
       "style": "IPY_MODEL_92766db9a14f41b582295fb3b59344d6",
       "tabbable": null,
       "tooltip": null,
       "value": "C3"
      }
     },
     "2f0e6645962942978eca20cab67e7bf8": {
      "model_module": "@jupyter-widgets/base",
      "model_module_version": "2.0.0",
      "model_name": "LayoutModel",
      "state": {
       "_model_module": "@jupyter-widgets/base",
       "_model_module_version": "2.0.0",
       "_model_name": "LayoutModel",
       "_view_count": null,
       "_view_module": "@jupyter-widgets/base",
       "_view_module_version": "2.0.0",
       "_view_name": "LayoutView",
       "align_content": null,
       "align_items": null,
       "align_self": null,
       "border_bottom": null,
       "border_left": null,
       "border_right": null,
       "border_top": null,
       "bottom": null,
       "display": null,
       "flex": null,
       "flex_flow": null,
       "grid_area": null,
       "grid_auto_columns": null,
       "grid_auto_flow": null,
       "grid_auto_rows": null,
       "grid_column": null,
       "grid_gap": null,
       "grid_row": null,
       "grid_template_areas": null,
       "grid_template_columns": null,
       "grid_template_rows": null,
       "height": null,
       "justify_content": null,
       "justify_items": null,
       "left": null,
       "margin": null,
       "max_height": null,
       "max_width": null,
       "min_height": null,
       "min_width": null,
       "object_fit": null,
       "object_position": null,
       "order": null,
       "overflow": null,
       "padding": null,
       "right": null,
       "top": null,
       "visibility": null,
       "width": "50px"
      }
     },
     "2f3741f8168746a99333e16946b28d74": {
      "model_module": "@jupyter-widgets/controls",
      "model_module_version": "2.0.0",
      "model_name": "LabelStyleModel",
      "state": {
       "_model_module": "@jupyter-widgets/controls",
       "_model_module_version": "2.0.0",
       "_model_name": "LabelStyleModel",
       "_view_count": null,
       "_view_module": "@jupyter-widgets/base",
       "_view_module_version": "2.0.0",
       "_view_name": "StyleView",
       "background": null,
       "description_width": "",
       "font_family": null,
       "font_size": null,
       "font_style": null,
       "font_variant": null,
       "font_weight": null,
       "text_color": null,
       "text_decoration": null
      }
     },
     "2f898ed5bc714a83bc55a7c5e8eedc73": {
      "model_module": "@jupyter-widgets/base",
      "model_module_version": "2.0.0",
      "model_name": "LayoutModel",
      "state": {
       "_model_module": "@jupyter-widgets/base",
       "_model_module_version": "2.0.0",
       "_model_name": "LayoutModel",
       "_view_count": null,
       "_view_module": "@jupyter-widgets/base",
       "_view_module_version": "2.0.0",
       "_view_name": "LayoutView",
       "align_content": null,
       "align_items": null,
       "align_self": null,
       "border_bottom": null,
       "border_left": null,
       "border_right": null,
       "border_top": null,
       "bottom": null,
       "display": null,
       "flex": null,
       "flex_flow": null,
       "grid_area": null,
       "grid_auto_columns": null,
       "grid_auto_flow": null,
       "grid_auto_rows": null,
       "grid_column": null,
       "grid_gap": null,
       "grid_row": null,
       "grid_template_areas": null,
       "grid_template_columns": null,
       "grid_template_rows": null,
       "height": null,
       "justify_content": null,
       "justify_items": null,
       "left": null,
       "margin": null,
       "max_height": null,
       "max_width": null,
       "min_height": null,
       "min_width": null,
       "object_fit": null,
       "object_position": null,
       "order": null,
       "overflow": null,
       "padding": null,
       "right": null,
       "top": null,
       "visibility": null,
       "width": "100px"
      }
     },
     "2fe96d86820e4d29a38c1ca817d7dfd5": {
      "model_module": "@jupyter-widgets/base",
      "model_module_version": "2.0.0",
      "model_name": "LayoutModel",
      "state": {
       "_model_module": "@jupyter-widgets/base",
       "_model_module_version": "2.0.0",
       "_model_name": "LayoutModel",
       "_view_count": null,
       "_view_module": "@jupyter-widgets/base",
       "_view_module_version": "2.0.0",
       "_view_name": "LayoutView",
       "align_content": null,
       "align_items": null,
       "align_self": null,
       "border_bottom": null,
       "border_left": null,
       "border_right": null,
       "border_top": null,
       "bottom": null,
       "display": null,
       "flex": null,
       "flex_flow": null,
       "grid_area": null,
       "grid_auto_columns": null,
       "grid_auto_flow": null,
       "grid_auto_rows": null,
       "grid_column": null,
       "grid_gap": null,
       "grid_row": null,
       "grid_template_areas": null,
       "grid_template_columns": null,
       "grid_template_rows": null,
       "height": null,
       "justify_content": null,
       "justify_items": null,
       "left": null,
       "margin": null,
       "max_height": null,
       "max_width": null,
       "min_height": null,
       "min_width": null,
       "object_fit": null,
       "object_position": null,
       "order": null,
       "overflow": null,
       "padding": null,
       "right": null,
       "top": null,
       "visibility": null,
       "width": "50px"
      }
     },
     "31aef1e40aa544c1b640da8154b0c9cc": {
      "model_module": "@jupyter-widgets/base",
      "model_module_version": "2.0.0",
      "model_name": "LayoutModel",
      "state": {
       "_model_module": "@jupyter-widgets/base",
       "_model_module_version": "2.0.0",
       "_model_name": "LayoutModel",
       "_view_count": null,
       "_view_module": "@jupyter-widgets/base",
       "_view_module_version": "2.0.0",
       "_view_name": "LayoutView",
       "align_content": null,
       "align_items": null,
       "align_self": null,
       "border_bottom": null,
       "border_left": null,
       "border_right": null,
       "border_top": null,
       "bottom": null,
       "display": null,
       "flex": null,
       "flex_flow": null,
       "grid_area": null,
       "grid_auto_columns": null,
       "grid_auto_flow": null,
       "grid_auto_rows": null,
       "grid_column": null,
       "grid_gap": null,
       "grid_row": null,
       "grid_template_areas": null,
       "grid_template_columns": null,
       "grid_template_rows": null,
       "height": null,
       "justify_content": null,
       "justify_items": null,
       "left": null,
       "margin": null,
       "max_height": null,
       "max_width": null,
       "min_height": null,
       "min_width": null,
       "object_fit": null,
       "object_position": null,
       "order": null,
       "overflow": null,
       "padding": null,
       "right": null,
       "top": null,
       "visibility": null,
       "width": "100px"
      }
     },
     "3355e76ef37f4490b9ec9a1ae8877c65": {
      "model_module": "@jupyter-widgets/controls",
      "model_module_version": "2.0.0",
      "model_name": "FloatTextModel",
      "state": {
       "_dom_classes": [],
       "_model_module": "@jupyter-widgets/controls",
       "_model_module_version": "2.0.0",
       "_model_name": "FloatTextModel",
       "_view_count": null,
       "_view_module": "@jupyter-widgets/controls",
       "_view_module_version": "2.0.0",
       "_view_name": "FloatTextView",
       "continuous_update": false,
       "description": "",
       "description_allow_html": false,
       "disabled": false,
       "layout": "IPY_MODEL_b2f77eccb4484cb68577f7075670298e",
       "step": null,
       "style": "IPY_MODEL_f2b7d8ac965049ec9d338bff7995a757",
       "tabbable": null,
       "tooltip": null,
       "value": 0.0
      }
     },
     "37cf15bf020b438596c5ebc4ba45b0c4": {
      "model_module": "@jupyter-widgets/base",
      "model_module_version": "2.0.0",
      "model_name": "LayoutModel",
      "state": {
       "_model_module": "@jupyter-widgets/base",
       "_model_module_version": "2.0.0",
       "_model_name": "LayoutModel",
       "_view_count": null,
       "_view_module": "@jupyter-widgets/base",
       "_view_module_version": "2.0.0",
       "_view_name": "LayoutView",
       "align_content": null,
       "align_items": null,
       "align_self": null,
       "border_bottom": null,
       "border_left": null,
       "border_right": null,
       "border_top": null,
       "bottom": null,
       "display": null,
       "flex": null,
       "flex_flow": null,
       "grid_area": null,
       "grid_auto_columns": null,
       "grid_auto_flow": null,
       "grid_auto_rows": null,
       "grid_column": null,
       "grid_gap": null,
       "grid_row": null,
       "grid_template_areas": null,
       "grid_template_columns": null,
       "grid_template_rows": null,
       "height": null,
       "justify_content": null,
       "justify_items": null,
       "left": null,
       "margin": null,
       "max_height": null,
       "max_width": null,
       "min_height": null,
       "min_width": null,
       "object_fit": null,
       "object_position": null,
       "order": null,
       "overflow": null,
       "padding": null,
       "right": null,
       "top": null,
       "visibility": null,
       "width": "100px"
      }
     },
     "39110354577f4e33ae26c7be1071b5c4": {
      "model_module": "@jupyter-widgets/base",
      "model_module_version": "2.0.0",
      "model_name": "LayoutModel",
      "state": {
       "_model_module": "@jupyter-widgets/base",
       "_model_module_version": "2.0.0",
       "_model_name": "LayoutModel",
       "_view_count": null,
       "_view_module": "@jupyter-widgets/base",
       "_view_module_version": "2.0.0",
       "_view_name": "LayoutView",
       "align_content": null,
       "align_items": null,
       "align_self": null,
       "border_bottom": null,
       "border_left": null,
       "border_right": null,
       "border_top": null,
       "bottom": null,
       "display": null,
       "flex": null,
       "flex_flow": null,
       "grid_area": null,
       "grid_auto_columns": null,
       "grid_auto_flow": null,
       "grid_auto_rows": null,
       "grid_column": null,
       "grid_gap": null,
       "grid_row": null,
       "grid_template_areas": null,
       "grid_template_columns": null,
       "grid_template_rows": null,
       "height": null,
       "justify_content": null,
       "justify_items": null,
       "left": null,
       "margin": null,
       "max_height": null,
       "max_width": null,
       "min_height": null,
       "min_width": null,
       "object_fit": null,
       "object_position": null,
       "order": null,
       "overflow": null,
       "padding": null,
       "right": null,
       "top": null,
       "visibility": null,
       "width": "100px"
      }
     },
     "3945e4ac191442efa554f77072a1c620": {
      "model_module": "@jupyter-widgets/controls",
      "model_module_version": "2.0.0",
      "model_name": "LabelModel",
      "state": {
       "_dom_classes": [],
       "_model_module": "@jupyter-widgets/controls",
       "_model_module_version": "2.0.0",
       "_model_name": "LabelModel",
       "_view_count": null,
       "_view_module": "@jupyter-widgets/controls",
       "_view_module_version": "2.0.0",
       "_view_name": "LabelView",
       "description": "",
       "description_allow_html": false,
       "layout": "IPY_MODEL_f253e605bb294f47aada7cae5a25d208",
       "placeholder": "​",
       "style": "IPY_MODEL_9014079588014be9914a3328ec240d6f",
       "tabbable": null,
       "tooltip": null,
       "value": "C5"
      }
     },
     "3b254ce9e3e249de9888071010bd405e": {
      "model_module": "@jupyter-widgets/controls",
      "model_module_version": "2.0.0",
      "model_name": "DescriptionStyleModel",
      "state": {
       "_model_module": "@jupyter-widgets/controls",
       "_model_module_version": "2.0.0",
       "_model_name": "DescriptionStyleModel",
       "_view_count": null,
       "_view_module": "@jupyter-widgets/base",
       "_view_module_version": "2.0.0",
       "_view_name": "StyleView",
       "description_width": ""
      }
     },
     "3cb542449576407b86bc4de3c658e4f2": {
      "model_module": "@jupyter-widgets/controls",
      "model_module_version": "2.0.0",
      "model_name": "LabelStyleModel",
      "state": {
       "_model_module": "@jupyter-widgets/controls",
       "_model_module_version": "2.0.0",
       "_model_name": "LabelStyleModel",
       "_view_count": null,
       "_view_module": "@jupyter-widgets/base",
       "_view_module_version": "2.0.0",
       "_view_name": "StyleView",
       "background": null,
       "description_width": "",
       "font_family": null,
       "font_size": null,
       "font_style": null,
       "font_variant": null,
       "font_weight": null,
       "text_color": null,
       "text_decoration": null
      }
     },
     "3e3ed1e5c22346df99b5cdac04260ec8": {
      "model_module": "@jupyter-widgets/controls",
      "model_module_version": "2.0.0",
      "model_name": "DescriptionStyleModel",
      "state": {
       "_model_module": "@jupyter-widgets/controls",
       "_model_module_version": "2.0.0",
       "_model_name": "DescriptionStyleModel",
       "_view_count": null,
       "_view_module": "@jupyter-widgets/base",
       "_view_module_version": "2.0.0",
       "_view_name": "StyleView",
       "description_width": ""
      }
     },
     "40dfc350f23a4892b744c6bc99118a01": {
      "model_module": "@jupyter-widgets/base",
      "model_module_version": "2.0.0",
      "model_name": "LayoutModel",
      "state": {
       "_model_module": "@jupyter-widgets/base",
       "_model_module_version": "2.0.0",
       "_model_name": "LayoutModel",
       "_view_count": null,
       "_view_module": "@jupyter-widgets/base",
       "_view_module_version": "2.0.0",
       "_view_name": "LayoutView",
       "align_content": null,
       "align_items": null,
       "align_self": null,
       "border_bottom": null,
       "border_left": null,
       "border_right": null,
       "border_top": null,
       "bottom": null,
       "display": null,
       "flex": null,
       "flex_flow": null,
       "grid_area": null,
       "grid_auto_columns": null,
       "grid_auto_flow": null,
       "grid_auto_rows": null,
       "grid_column": null,
       "grid_gap": null,
       "grid_row": null,
       "grid_template_areas": null,
       "grid_template_columns": null,
       "grid_template_rows": null,
       "height": null,
       "justify_content": null,
       "justify_items": null,
       "left": null,
       "margin": null,
       "max_height": null,
       "max_width": null,
       "min_height": null,
       "min_width": null,
       "object_fit": null,
       "object_position": null,
       "order": null,
       "overflow": null,
       "padding": null,
       "right": null,
       "top": null,
       "visibility": null,
       "width": "100px"
      }
     },
     "422eb777fcb14636954eb8f8f26514ba": {
      "model_module": "@jupyter-widgets/controls",
      "model_module_version": "2.0.0",
      "model_name": "HBoxModel",
      "state": {
       "_dom_classes": [],
       "_model_module": "@jupyter-widgets/controls",
       "_model_module_version": "2.0.0",
       "_model_name": "HBoxModel",
       "_view_count": null,
       "_view_module": "@jupyter-widgets/controls",
       "_view_module_version": "2.0.0",
       "_view_name": "HBoxView",
       "box_style": "",
       "children": [
        "IPY_MODEL_3945e4ac191442efa554f77072a1c620",
        "IPY_MODEL_d4396072753945adb4572584341eda94"
       ],
       "layout": "IPY_MODEL_154dc1739f39443089f9a959c01e846a",
       "tabbable": null,
       "tooltip": null
      }
     },
     "428e4321628b46fb9c9c669e1844924d": {
      "model_module": "@jupyter-widgets/output",
      "model_module_version": "1.0.0",
      "model_name": "OutputModel",
      "state": {
       "_dom_classes": [],
       "_model_module": "@jupyter-widgets/output",
       "_model_module_version": "1.0.0",
       "_model_name": "OutputModel",
       "_view_count": null,
       "_view_module": "@jupyter-widgets/output",
       "_view_module_version": "1.0.0",
       "_view_name": "OutputView",
       "layout": "IPY_MODEL_1b471e9b533a4b81b345238d98e47d56",
       "msg_id": "",
       "outputs": [],
       "tabbable": null,
       "tooltip": null
      }
     },
     "46132e6039ff44d0bbb586622f690e9c": {
      "model_module": "@jupyter-widgets/controls",
      "model_module_version": "2.0.0",
      "model_name": "LabelStyleModel",
      "state": {
       "_model_module": "@jupyter-widgets/controls",
       "_model_module_version": "2.0.0",
       "_model_name": "LabelStyleModel",
       "_view_count": null,
       "_view_module": "@jupyter-widgets/base",
       "_view_module_version": "2.0.0",
       "_view_name": "StyleView",
       "background": null,
       "description_width": "",
       "font_family": null,
       "font_size": null,
       "font_style": null,
       "font_variant": null,
       "font_weight": null,
       "text_color": null,
       "text_decoration": null
      }
     },
     "46d503d5cedc4901b1490549aedc2c00": {
      "model_module": "@jupyter-widgets/controls",
      "model_module_version": "2.0.0",
      "model_name": "ButtonStyleModel",
      "state": {
       "_model_module": "@jupyter-widgets/controls",
       "_model_module_version": "2.0.0",
       "_model_name": "ButtonStyleModel",
       "_view_count": null,
       "_view_module": "@jupyter-widgets/base",
       "_view_module_version": "2.0.0",
       "_view_name": "StyleView",
       "button_color": null,
       "font_family": null,
       "font_size": null,
       "font_style": null,
       "font_variant": null,
       "font_weight": null,
       "text_color": null,
       "text_decoration": null
      }
     },
     "471f722fb8a24c75b41394e6c9f80e34": {
      "model_module": "@jupyter-widgets/controls",
      "model_module_version": "2.0.0",
      "model_name": "DescriptionStyleModel",
      "state": {
       "_model_module": "@jupyter-widgets/controls",
       "_model_module_version": "2.0.0",
       "_model_name": "DescriptionStyleModel",
       "_view_count": null,
       "_view_module": "@jupyter-widgets/base",
       "_view_module_version": "2.0.0",
       "_view_name": "StyleView",
       "description_width": ""
      }
     },
     "489df3b89da34db6a072a4c0bf01035a": {
      "model_module": "@jupyter-widgets/base",
      "model_module_version": "2.0.0",
      "model_name": "LayoutModel",
      "state": {
       "_model_module": "@jupyter-widgets/base",
       "_model_module_version": "2.0.0",
       "_model_name": "LayoutModel",
       "_view_count": null,
       "_view_module": "@jupyter-widgets/base",
       "_view_module_version": "2.0.0",
       "_view_name": "LayoutView",
       "align_content": null,
       "align_items": null,
       "align_self": null,
       "border_bottom": null,
       "border_left": null,
       "border_right": null,
       "border_top": null,
       "bottom": null,
       "display": null,
       "flex": null,
       "flex_flow": null,
       "grid_area": null,
       "grid_auto_columns": null,
       "grid_auto_flow": null,
       "grid_auto_rows": null,
       "grid_column": null,
       "grid_gap": null,
       "grid_row": null,
       "grid_template_areas": null,
       "grid_template_columns": null,
       "grid_template_rows": null,
       "height": null,
       "justify_content": null,
       "justify_items": null,
       "left": null,
       "margin": null,
       "max_height": null,
       "max_width": null,
       "min_height": null,
       "min_width": null,
       "object_fit": null,
       "object_position": null,
       "order": null,
       "overflow": null,
       "padding": null,
       "right": null,
       "top": null,
       "visibility": null,
       "width": "100px"
      }
     },
     "49383d2a1b1c47638daa9b5dd6ae91c3": {
      "model_module": "@jupyter-widgets/controls",
      "model_module_version": "2.0.0",
      "model_name": "FloatTextModel",
      "state": {
       "_dom_classes": [],
       "_model_module": "@jupyter-widgets/controls",
       "_model_module_version": "2.0.0",
       "_model_name": "FloatTextModel",
       "_view_count": null,
       "_view_module": "@jupyter-widgets/controls",
       "_view_module_version": "2.0.0",
       "_view_name": "FloatTextView",
       "continuous_update": false,
       "description": "",
       "description_allow_html": false,
       "disabled": false,
       "layout": "IPY_MODEL_9dd5a1e01b00486eb5196801a61bb1f7",
       "step": null,
       "style": "IPY_MODEL_471f722fb8a24c75b41394e6c9f80e34",
       "tabbable": null,
       "tooltip": null,
       "value": 0.0
      }
     },
     "50671e61b16a40e9a34a8e869c971ce7": {
      "model_module": "@jupyter-widgets/controls",
      "model_module_version": "2.0.0",
      "model_name": "DescriptionStyleModel",
      "state": {
       "_model_module": "@jupyter-widgets/controls",
       "_model_module_version": "2.0.0",
       "_model_name": "DescriptionStyleModel",
       "_view_count": null,
       "_view_module": "@jupyter-widgets/base",
       "_view_module_version": "2.0.0",
       "_view_name": "StyleView",
       "description_width": ""
      }
     },
     "50edaca9431b48e78a1352c7cf1f7f80": {
      "model_module": "@jupyter-widgets/controls",
      "model_module_version": "2.0.0",
      "model_name": "LabelModel",
      "state": {
       "_dom_classes": [],
       "_model_module": "@jupyter-widgets/controls",
       "_model_module_version": "2.0.0",
       "_model_name": "LabelModel",
       "_view_count": null,
       "_view_module": "@jupyter-widgets/controls",
       "_view_module_version": "2.0.0",
       "_view_name": "LabelView",
       "description": "",
       "description_allow_html": false,
       "layout": "IPY_MODEL_6c008a658893408aa733ecc04925d6f1",
       "placeholder": "​",
       "style": "IPY_MODEL_e3e7ad9f4aa74269b05c7ab746a2ec06",
       "tabbable": null,
       "tooltip": null,
       "value": "C3"
      }
     },
     "5182f993b5124e1ab65eb56f3c99b526": {
      "model_module": "@jupyter-widgets/controls",
      "model_module_version": "2.0.0",
      "model_name": "DescriptionStyleModel",
      "state": {
       "_model_module": "@jupyter-widgets/controls",
       "_model_module_version": "2.0.0",
       "_model_name": "DescriptionStyleModel",
       "_view_count": null,
       "_view_module": "@jupyter-widgets/base",
       "_view_module_version": "2.0.0",
       "_view_name": "StyleView",
       "description_width": ""
      }
     },
     "519fba39a22f4884a280296ff486ced4": {
      "model_module": "@jupyter-widgets/controls",
      "model_module_version": "2.0.0",
      "model_name": "LabelStyleModel",
      "state": {
       "_model_module": "@jupyter-widgets/controls",
       "_model_module_version": "2.0.0",
       "_model_name": "LabelStyleModel",
       "_view_count": null,
       "_view_module": "@jupyter-widgets/base",
       "_view_module_version": "2.0.0",
       "_view_name": "StyleView",
       "background": null,
       "description_width": "",
       "font_family": null,
       "font_size": null,
       "font_style": null,
       "font_variant": null,
       "font_weight": null,
       "text_color": null,
       "text_decoration": null
      }
     },
     "523232db766a4e4e95308ebfad6c9ee8": {
      "model_module": "@jupyter-widgets/controls",
      "model_module_version": "2.0.0",
      "model_name": "LabelStyleModel",
      "state": {
       "_model_module": "@jupyter-widgets/controls",
       "_model_module_version": "2.0.0",
       "_model_name": "LabelStyleModel",
       "_view_count": null,
       "_view_module": "@jupyter-widgets/base",
       "_view_module_version": "2.0.0",
       "_view_name": "StyleView",
       "background": null,
       "description_width": "",
       "font_family": null,
       "font_size": null,
       "font_style": null,
       "font_variant": null,
       "font_weight": null,
       "text_color": null,
       "text_decoration": null
      }
     },
     "53b41b93988c4f4189813431c82ea869": {
      "model_module": "@jupyter-widgets/controls",
      "model_module_version": "2.0.0",
      "model_name": "DescriptionStyleModel",
      "state": {
       "_model_module": "@jupyter-widgets/controls",
       "_model_module_version": "2.0.0",
       "_model_name": "DescriptionStyleModel",
       "_view_count": null,
       "_view_module": "@jupyter-widgets/base",
       "_view_module_version": "2.0.0",
       "_view_name": "StyleView",
       "description_width": ""
      }
     },
     "53e5eecce1c7429d954e2834b8bfeb64": {
      "model_module": "@jupyter-widgets/base",
      "model_module_version": "2.0.0",
      "model_name": "LayoutModel",
      "state": {
       "_model_module": "@jupyter-widgets/base",
       "_model_module_version": "2.0.0",
       "_model_name": "LayoutModel",
       "_view_count": null,
       "_view_module": "@jupyter-widgets/base",
       "_view_module_version": "2.0.0",
       "_view_name": "LayoutView",
       "align_content": null,
       "align_items": null,
       "align_self": null,
       "border_bottom": null,
       "border_left": null,
       "border_right": null,
       "border_top": null,
       "bottom": null,
       "display": null,
       "flex": null,
       "flex_flow": null,
       "grid_area": null,
       "grid_auto_columns": null,
       "grid_auto_flow": null,
       "grid_auto_rows": null,
       "grid_column": null,
       "grid_gap": null,
       "grid_row": null,
       "grid_template_areas": null,
       "grid_template_columns": null,
       "grid_template_rows": null,
       "height": null,
       "justify_content": null,
       "justify_items": null,
       "left": null,
       "margin": null,
       "max_height": null,
       "max_width": null,
       "min_height": null,
       "min_width": null,
       "object_fit": null,
       "object_position": null,
       "order": null,
       "overflow": null,
       "padding": null,
       "right": null,
       "top": null,
       "visibility": null,
       "width": null
      }
     },
     "54850d1086884b6f8b8c959c9d02e4bd": {
      "model_module": "@jupyter-widgets/base",
      "model_module_version": "2.0.0",
      "model_name": "LayoutModel",
      "state": {
       "_model_module": "@jupyter-widgets/base",
       "_model_module_version": "2.0.0",
       "_model_name": "LayoutModel",
       "_view_count": null,
       "_view_module": "@jupyter-widgets/base",
       "_view_module_version": "2.0.0",
       "_view_name": "LayoutView",
       "align_content": null,
       "align_items": null,
       "align_self": null,
       "border_bottom": null,
       "border_left": null,
       "border_right": null,
       "border_top": null,
       "bottom": null,
       "display": null,
       "flex": null,
       "flex_flow": null,
       "grid_area": null,
       "grid_auto_columns": null,
       "grid_auto_flow": null,
       "grid_auto_rows": null,
       "grid_column": null,
       "grid_gap": null,
       "grid_row": null,
       "grid_template_areas": null,
       "grid_template_columns": null,
       "grid_template_rows": null,
       "height": null,
       "justify_content": null,
       "justify_items": null,
       "left": null,
       "margin": null,
       "max_height": null,
       "max_width": null,
       "min_height": null,
       "min_width": null,
       "object_fit": null,
       "object_position": null,
       "order": null,
       "overflow": null,
       "padding": null,
       "right": null,
       "top": null,
       "visibility": null,
       "width": "100px"
      }
     },
     "551b00f9cd3e45a3a185ee0e72591371": {
      "model_module": "@jupyter-widgets/controls",
      "model_module_version": "2.0.0",
      "model_name": "FloatTextModel",
      "state": {
       "_dom_classes": [],
       "_model_module": "@jupyter-widgets/controls",
       "_model_module_version": "2.0.0",
       "_model_name": "FloatTextModel",
       "_view_count": null,
       "_view_module": "@jupyter-widgets/controls",
       "_view_module_version": "2.0.0",
       "_view_name": "FloatTextView",
       "continuous_update": false,
       "description": "",
       "description_allow_html": false,
       "disabled": false,
       "layout": "IPY_MODEL_5ad79dd120d44e72ac1744eaa8389dca",
       "step": null,
       "style": "IPY_MODEL_f2f499ae8fec444980fa98512d3dfebb",
       "tabbable": null,
       "tooltip": null,
       "value": 0.0
      }
     },
     "573f13cc073944938e5ea2ccc1ddda8d": {
      "model_module": "@jupyter-widgets/controls",
      "model_module_version": "2.0.0",
      "model_name": "FloatTextModel",
      "state": {
       "_dom_classes": [],
       "_model_module": "@jupyter-widgets/controls",
       "_model_module_version": "2.0.0",
       "_model_name": "FloatTextModel",
       "_view_count": null,
       "_view_module": "@jupyter-widgets/controls",
       "_view_module_version": "2.0.0",
       "_view_name": "FloatTextView",
       "continuous_update": false,
       "description": "",
       "description_allow_html": false,
       "disabled": false,
       "layout": "IPY_MODEL_489df3b89da34db6a072a4c0bf01035a",
       "step": null,
       "style": "IPY_MODEL_b51d4057e6d940e681707df6b63f7b2c",
       "tabbable": null,
       "tooltip": null,
       "value": 0.0
      }
     },
     "5ad79dd120d44e72ac1744eaa8389dca": {
      "model_module": "@jupyter-widgets/base",
      "model_module_version": "2.0.0",
      "model_name": "LayoutModel",
      "state": {
       "_model_module": "@jupyter-widgets/base",
       "_model_module_version": "2.0.0",
       "_model_name": "LayoutModel",
       "_view_count": null,
       "_view_module": "@jupyter-widgets/base",
       "_view_module_version": "2.0.0",
       "_view_name": "LayoutView",
       "align_content": null,
       "align_items": null,
       "align_self": null,
       "border_bottom": null,
       "border_left": null,
       "border_right": null,
       "border_top": null,
       "bottom": null,
       "display": null,
       "flex": null,
       "flex_flow": null,
       "grid_area": null,
       "grid_auto_columns": null,
       "grid_auto_flow": null,
       "grid_auto_rows": null,
       "grid_column": null,
       "grid_gap": null,
       "grid_row": null,
       "grid_template_areas": null,
       "grid_template_columns": null,
       "grid_template_rows": null,
       "height": null,
       "justify_content": null,
       "justify_items": null,
       "left": null,
       "margin": null,
       "max_height": null,
       "max_width": null,
       "min_height": null,
       "min_width": null,
       "object_fit": null,
       "object_position": null,
       "order": null,
       "overflow": null,
       "padding": null,
       "right": null,
       "top": null,
       "visibility": null,
       "width": "100px"
      }
     },
     "5c940136e7854b65812317cf9dd4a9e8": {
      "model_module": "@jupyter-widgets/controls",
      "model_module_version": "2.0.0",
      "model_name": "LabelStyleModel",
      "state": {
       "_model_module": "@jupyter-widgets/controls",
       "_model_module_version": "2.0.0",
       "_model_name": "LabelStyleModel",
       "_view_count": null,
       "_view_module": "@jupyter-widgets/base",
       "_view_module_version": "2.0.0",
       "_view_name": "StyleView",
       "background": null,
       "description_width": "",
       "font_family": null,
       "font_size": null,
       "font_style": null,
       "font_variant": null,
       "font_weight": null,
       "text_color": null,
       "text_decoration": null
      }
     },
     "5c956111264b496d9fe0643d75af1db1": {
      "model_module": "@jupyter-widgets/controls",
      "model_module_version": "2.0.0",
      "model_name": "LabelModel",
      "state": {
       "_dom_classes": [],
       "_model_module": "@jupyter-widgets/controls",
       "_model_module_version": "2.0.0",
       "_model_name": "LabelModel",
       "_view_count": null,
       "_view_module": "@jupyter-widgets/controls",
       "_view_module_version": "2.0.0",
       "_view_name": "LabelView",
       "description": "",
       "description_allow_html": false,
       "layout": "IPY_MODEL_2f898ed5bc714a83bc55a7c5e8eedc73",
       "placeholder": "​",
       "style": "IPY_MODEL_81f8b5621a174554b0096569bdbc39b1",
       "tabbable": null,
       "tooltip": null,
       "value": "C2"
      }
     },
     "5d63b0cbf1154b5ebcf49b3fc326dced": {
      "model_module": "@jupyter-widgets/base",
      "model_module_version": "2.0.0",
      "model_name": "LayoutModel",
      "state": {
       "_model_module": "@jupyter-widgets/base",
       "_model_module_version": "2.0.0",
       "_model_name": "LayoutModel",
       "_view_count": null,
       "_view_module": "@jupyter-widgets/base",
       "_view_module_version": "2.0.0",
       "_view_name": "LayoutView",
       "align_content": null,
       "align_items": null,
       "align_self": null,
       "border_bottom": null,
       "border_left": null,
       "border_right": null,
       "border_top": null,
       "bottom": null,
       "display": null,
       "flex": null,
       "flex_flow": null,
       "grid_area": null,
       "grid_auto_columns": null,
       "grid_auto_flow": null,
       "grid_auto_rows": null,
       "grid_column": null,
       "grid_gap": null,
       "grid_row": null,
       "grid_template_areas": null,
       "grid_template_columns": null,
       "grid_template_rows": null,
       "height": null,
       "justify_content": null,
       "justify_items": null,
       "left": null,
       "margin": null,
       "max_height": null,
       "max_width": null,
       "min_height": null,
       "min_width": null,
       "object_fit": null,
       "object_position": null,
       "order": null,
       "overflow": null,
       "padding": null,
       "right": null,
       "top": null,
       "visibility": null,
       "width": "100px"
      }
     },
     "5ff3dd86be034c49b639abcba7a1784a": {
      "model_module": "@jupyter-widgets/controls",
      "model_module_version": "2.0.0",
      "model_name": "FloatTextModel",
      "state": {
       "_dom_classes": [],
       "_model_module": "@jupyter-widgets/controls",
       "_model_module_version": "2.0.0",
       "_model_name": "FloatTextModel",
       "_view_count": null,
       "_view_module": "@jupyter-widgets/controls",
       "_view_module_version": "2.0.0",
       "_view_name": "FloatTextView",
       "continuous_update": false,
       "description": "",
       "description_allow_html": false,
       "disabled": false,
       "layout": "IPY_MODEL_37cf15bf020b438596c5ebc4ba45b0c4",
       "step": null,
       "style": "IPY_MODEL_adf1ebbb7fe44337ad62011324426155",
       "tabbable": null,
       "tooltip": null,
       "value": 0.0
      }
     },
     "605a6df758ed46139f1e698062657f6c": {
      "model_module": "@jupyter-widgets/base",
      "model_module_version": "2.0.0",
      "model_name": "LayoutModel",
      "state": {
       "_model_module": "@jupyter-widgets/base",
       "_model_module_version": "2.0.0",
       "_model_name": "LayoutModel",
       "_view_count": null,
       "_view_module": "@jupyter-widgets/base",
       "_view_module_version": "2.0.0",
       "_view_name": "LayoutView",
       "align_content": null,
       "align_items": null,
       "align_self": null,
       "border_bottom": null,
       "border_left": null,
       "border_right": null,
       "border_top": null,
       "bottom": null,
       "display": null,
       "flex": null,
       "flex_flow": null,
       "grid_area": null,
       "grid_auto_columns": null,
       "grid_auto_flow": null,
       "grid_auto_rows": null,
       "grid_column": null,
       "grid_gap": null,
       "grid_row": null,
       "grid_template_areas": null,
       "grid_template_columns": null,
       "grid_template_rows": null,
       "height": null,
       "justify_content": null,
       "justify_items": null,
       "left": null,
       "margin": null,
       "max_height": null,
       "max_width": null,
       "min_height": null,
       "min_width": null,
       "object_fit": null,
       "object_position": null,
       "order": null,
       "overflow": null,
       "padding": null,
       "right": null,
       "top": null,
       "visibility": null,
       "width": null
      }
     },
     "607bcc539c6047bbab64c8fabd719d23": {
      "model_module": "@jupyter-widgets/base",
      "model_module_version": "2.0.0",
      "model_name": "LayoutModel",
      "state": {
       "_model_module": "@jupyter-widgets/base",
       "_model_module_version": "2.0.0",
       "_model_name": "LayoutModel",
       "_view_count": null,
       "_view_module": "@jupyter-widgets/base",
       "_view_module_version": "2.0.0",
       "_view_name": "LayoutView",
       "align_content": null,
       "align_items": null,
       "align_self": null,
       "border_bottom": null,
       "border_left": null,
       "border_right": null,
       "border_top": null,
       "bottom": null,
       "display": null,
       "flex": null,
       "flex_flow": null,
       "grid_area": null,
       "grid_auto_columns": null,
       "grid_auto_flow": null,
       "grid_auto_rows": null,
       "grid_column": null,
       "grid_gap": null,
       "grid_row": null,
       "grid_template_areas": null,
       "grid_template_columns": null,
       "grid_template_rows": null,
       "height": null,
       "justify_content": null,
       "justify_items": null,
       "left": null,
       "margin": null,
       "max_height": null,
       "max_width": null,
       "min_height": null,
       "min_width": null,
       "object_fit": null,
       "object_position": null,
       "order": null,
       "overflow": null,
       "padding": null,
       "right": null,
       "top": null,
       "visibility": null,
       "width": "100px"
      }
     },
     "646599536a9b465b9fe7b90a3da7958d": {
      "model_module": "@jupyter-widgets/controls",
      "model_module_version": "2.0.0",
      "model_name": "LabelStyleModel",
      "state": {
       "_model_module": "@jupyter-widgets/controls",
       "_model_module_version": "2.0.0",
       "_model_name": "LabelStyleModel",
       "_view_count": null,
       "_view_module": "@jupyter-widgets/base",
       "_view_module_version": "2.0.0",
       "_view_name": "StyleView",
       "background": null,
       "description_width": "",
       "font_family": null,
       "font_size": null,
       "font_style": null,
       "font_variant": null,
       "font_weight": null,
       "text_color": null,
       "text_decoration": null
      }
     },
     "676b52c9ce734bbd841398d9b81f9187": {
      "model_module": "@jupyter-widgets/base",
      "model_module_version": "2.0.0",
      "model_name": "LayoutModel",
      "state": {
       "_model_module": "@jupyter-widgets/base",
       "_model_module_version": "2.0.0",
       "_model_name": "LayoutModel",
       "_view_count": null,
       "_view_module": "@jupyter-widgets/base",
       "_view_module_version": "2.0.0",
       "_view_name": "LayoutView",
       "align_content": null,
       "align_items": null,
       "align_self": null,
       "border_bottom": null,
       "border_left": null,
       "border_right": null,
       "border_top": null,
       "bottom": null,
       "display": null,
       "flex": null,
       "flex_flow": null,
       "grid_area": null,
       "grid_auto_columns": null,
       "grid_auto_flow": null,
       "grid_auto_rows": null,
       "grid_column": null,
       "grid_gap": null,
       "grid_row": null,
       "grid_template_areas": null,
       "grid_template_columns": null,
       "grid_template_rows": null,
       "height": null,
       "justify_content": null,
       "justify_items": null,
       "left": null,
       "margin": null,
       "max_height": null,
       "max_width": null,
       "min_height": null,
       "min_width": null,
       "object_fit": null,
       "object_position": null,
       "order": null,
       "overflow": null,
       "padding": null,
       "right": null,
       "top": null,
       "visibility": null,
       "width": "100px"
      }
     },
     "677010fc484b4f8bb20f9387cf2f279f": {
      "model_module": "@jupyter-widgets/base",
      "model_module_version": "2.0.0",
      "model_name": "LayoutModel",
      "state": {
       "_model_module": "@jupyter-widgets/base",
       "_model_module_version": "2.0.0",
       "_model_name": "LayoutModel",
       "_view_count": null,
       "_view_module": "@jupyter-widgets/base",
       "_view_module_version": "2.0.0",
       "_view_name": "LayoutView",
       "align_content": null,
       "align_items": null,
       "align_self": null,
       "border_bottom": null,
       "border_left": null,
       "border_right": null,
       "border_top": null,
       "bottom": null,
       "display": null,
       "flex": null,
       "flex_flow": null,
       "grid_area": null,
       "grid_auto_columns": null,
       "grid_auto_flow": null,
       "grid_auto_rows": null,
       "grid_column": null,
       "grid_gap": null,
       "grid_row": null,
       "grid_template_areas": null,
       "grid_template_columns": null,
       "grid_template_rows": null,
       "height": null,
       "justify_content": null,
       "justify_items": null,
       "left": null,
       "margin": null,
       "max_height": null,
       "max_width": null,
       "min_height": null,
       "min_width": null,
       "object_fit": null,
       "object_position": null,
       "order": null,
       "overflow": null,
       "padding": null,
       "right": null,
       "top": null,
       "visibility": null,
       "width": "50px"
      }
     },
     "67e19a8c88ec486cab3f29f0d80128cb": {
      "model_module": "@jupyter-widgets/controls",
      "model_module_version": "2.0.0",
      "model_name": "DescriptionStyleModel",
      "state": {
       "_model_module": "@jupyter-widgets/controls",
       "_model_module_version": "2.0.0",
       "_model_name": "DescriptionStyleModel",
       "_view_count": null,
       "_view_module": "@jupyter-widgets/base",
       "_view_module_version": "2.0.0",
       "_view_name": "StyleView",
       "description_width": ""
      }
     },
     "6889e90887584907bd9af841c36eb75d": {
      "model_module": "@jupyter-widgets/controls",
      "model_module_version": "2.0.0",
      "model_name": "LabelModel",
      "state": {
       "_dom_classes": [],
       "_model_module": "@jupyter-widgets/controls",
       "_model_module_version": "2.0.0",
       "_model_name": "LabelModel",
       "_view_count": null,
       "_view_module": "@jupyter-widgets/controls",
       "_view_module_version": "2.0.0",
       "_view_name": "LabelView",
       "description": "",
       "description_allow_html": false,
       "layout": "IPY_MODEL_734f263c6dc44a819158745be2b487ae",
       "placeholder": "​",
       "style": "IPY_MODEL_646599536a9b465b9fe7b90a3da7958d",
       "tabbable": null,
       "tooltip": null,
       "value": "C5"
      }
     },
     "68e70830f4ae49b3b55e6096cfa4404b": {
      "model_module": "@jupyter-widgets/controls",
      "model_module_version": "2.0.0",
      "model_name": "DescriptionStyleModel",
      "state": {
       "_model_module": "@jupyter-widgets/controls",
       "_model_module_version": "2.0.0",
       "_model_name": "DescriptionStyleModel",
       "_view_count": null,
       "_view_module": "@jupyter-widgets/base",
       "_view_module_version": "2.0.0",
       "_view_name": "StyleView",
       "description_width": ""
      }
     },
     "6af1cd76c4dc498f8a9cd421ece4453b": {
      "model_module": "@jupyter-widgets/base",
      "model_module_version": "2.0.0",
      "model_name": "LayoutModel",
      "state": {
       "_model_module": "@jupyter-widgets/base",
       "_model_module_version": "2.0.0",
       "_model_name": "LayoutModel",
       "_view_count": null,
       "_view_module": "@jupyter-widgets/base",
       "_view_module_version": "2.0.0",
       "_view_name": "LayoutView",
       "align_content": null,
       "align_items": null,
       "align_self": null,
       "border_bottom": null,
       "border_left": null,
       "border_right": null,
       "border_top": null,
       "bottom": null,
       "display": null,
       "flex": null,
       "flex_flow": null,
       "grid_area": null,
       "grid_auto_columns": null,
       "grid_auto_flow": null,
       "grid_auto_rows": null,
       "grid_column": null,
       "grid_gap": null,
       "grid_row": null,
       "grid_template_areas": null,
       "grid_template_columns": null,
       "grid_template_rows": null,
       "height": null,
       "justify_content": null,
       "justify_items": null,
       "left": null,
       "margin": null,
       "max_height": null,
       "max_width": null,
       "min_height": null,
       "min_width": null,
       "object_fit": null,
       "object_position": null,
       "order": null,
       "overflow": null,
       "padding": null,
       "right": null,
       "top": null,
       "visibility": null,
       "width": null
      }
     },
     "6c008a658893408aa733ecc04925d6f1": {
      "model_module": "@jupyter-widgets/base",
      "model_module_version": "2.0.0",
      "model_name": "LayoutModel",
      "state": {
       "_model_module": "@jupyter-widgets/base",
       "_model_module_version": "2.0.0",
       "_model_name": "LayoutModel",
       "_view_count": null,
       "_view_module": "@jupyter-widgets/base",
       "_view_module_version": "2.0.0",
       "_view_name": "LayoutView",
       "align_content": null,
       "align_items": null,
       "align_self": null,
       "border_bottom": null,
       "border_left": null,
       "border_right": null,
       "border_top": null,
       "bottom": null,
       "display": null,
       "flex": null,
       "flex_flow": null,
       "grid_area": null,
       "grid_auto_columns": null,
       "grid_auto_flow": null,
       "grid_auto_rows": null,
       "grid_column": null,
       "grid_gap": null,
       "grid_row": null,
       "grid_template_areas": null,
       "grid_template_columns": null,
       "grid_template_rows": null,
       "height": null,
       "justify_content": null,
       "justify_items": null,
       "left": null,
       "margin": null,
       "max_height": null,
       "max_width": null,
       "min_height": null,
       "min_width": null,
       "object_fit": null,
       "object_position": null,
       "order": null,
       "overflow": null,
       "padding": null,
       "right": null,
       "top": null,
       "visibility": null,
       "width": "100px"
      }
     },
     "6ed0453b780e492ca0de33199c814f32": {
      "model_module": "@jupyter-widgets/controls",
      "model_module_version": "2.0.0",
      "model_name": "FloatTextModel",
      "state": {
       "_dom_classes": [],
       "_model_module": "@jupyter-widgets/controls",
       "_model_module_version": "2.0.0",
       "_model_name": "FloatTextModel",
       "_view_count": null,
       "_view_module": "@jupyter-widgets/controls",
       "_view_module_version": "2.0.0",
       "_view_name": "FloatTextView",
       "continuous_update": false,
       "description": "",
       "description_allow_html": false,
       "disabled": false,
       "layout": "IPY_MODEL_1aeab8b1a62b4884984489631c66ebf4",
       "step": null,
       "style": "IPY_MODEL_969725f0e72b4184adf64c0ff3c5cebc",
       "tabbable": null,
       "tooltip": null,
       "value": 0.0
      }
     },
     "6fe3fe6d06fb4d98b1f16c7d0f5cfd03": {
      "model_module": "@jupyter-widgets/base",
      "model_module_version": "2.0.0",
      "model_name": "LayoutModel",
      "state": {
       "_model_module": "@jupyter-widgets/base",
       "_model_module_version": "2.0.0",
       "_model_name": "LayoutModel",
       "_view_count": null,
       "_view_module": "@jupyter-widgets/base",
       "_view_module_version": "2.0.0",
       "_view_name": "LayoutView",
       "align_content": null,
       "align_items": null,
       "align_self": null,
       "border_bottom": null,
       "border_left": null,
       "border_right": null,
       "border_top": null,
       "bottom": null,
       "display": null,
       "flex": null,
       "flex_flow": null,
       "grid_area": null,
       "grid_auto_columns": null,
       "grid_auto_flow": null,
       "grid_auto_rows": null,
       "grid_column": null,
       "grid_gap": null,
       "grid_row": null,
       "grid_template_areas": null,
       "grid_template_columns": null,
       "grid_template_rows": null,
       "height": null,
       "justify_content": null,
       "justify_items": null,
       "left": null,
       "margin": null,
       "max_height": null,
       "max_width": null,
       "min_height": null,
       "min_width": null,
       "object_fit": null,
       "object_position": null,
       "order": null,
       "overflow": null,
       "padding": null,
       "right": null,
       "top": null,
       "visibility": null,
       "width": "100px"
      }
     },
     "70280dd458c442ce8fc7fdb1bc969075": {
      "model_module": "@jupyter-widgets/controls",
      "model_module_version": "2.0.0",
      "model_name": "FloatTextModel",
      "state": {
       "_dom_classes": [],
       "_model_module": "@jupyter-widgets/controls",
       "_model_module_version": "2.0.0",
       "_model_name": "FloatTextModel",
       "_view_count": null,
       "_view_module": "@jupyter-widgets/controls",
       "_view_module_version": "2.0.0",
       "_view_name": "FloatTextView",
       "continuous_update": false,
       "description": "",
       "description_allow_html": false,
       "disabled": false,
       "layout": "IPY_MODEL_39110354577f4e33ae26c7be1071b5c4",
       "step": null,
       "style": "IPY_MODEL_50671e61b16a40e9a34a8e869c971ce7",
       "tabbable": null,
       "tooltip": null,
       "value": 0.0
      }
     },
     "7234d931dbc343bcaa7a529da5a0bec1": {
      "model_module": "@jupyter-widgets/controls",
      "model_module_version": "2.0.0",
      "model_name": "FloatTextModel",
      "state": {
       "_dom_classes": [],
       "_model_module": "@jupyter-widgets/controls",
       "_model_module_version": "2.0.0",
       "_model_name": "FloatTextModel",
       "_view_count": null,
       "_view_module": "@jupyter-widgets/controls",
       "_view_module_version": "2.0.0",
       "_view_name": "FloatTextView",
       "continuous_update": false,
       "description": "",
       "description_allow_html": false,
       "disabled": false,
       "layout": "IPY_MODEL_85cb719fd5cf48caa1ea9833fac6614b",
       "step": null,
       "style": "IPY_MODEL_b7f191a8e2f244119c2fc110bffaf2b8",
       "tabbable": null,
       "tooltip": null,
       "value": 0.0
      }
     },
     "734f263c6dc44a819158745be2b487ae": {
      "model_module": "@jupyter-widgets/base",
      "model_module_version": "2.0.0",
      "model_name": "LayoutModel",
      "state": {
       "_model_module": "@jupyter-widgets/base",
       "_model_module_version": "2.0.0",
       "_model_name": "LayoutModel",
       "_view_count": null,
       "_view_module": "@jupyter-widgets/base",
       "_view_module_version": "2.0.0",
       "_view_name": "LayoutView",
       "align_content": null,
       "align_items": null,
       "align_self": null,
       "border_bottom": null,
       "border_left": null,
       "border_right": null,
       "border_top": null,
       "bottom": null,
       "display": null,
       "flex": null,
       "flex_flow": null,
       "grid_area": null,
       "grid_auto_columns": null,
       "grid_auto_flow": null,
       "grid_auto_rows": null,
       "grid_column": null,
       "grid_gap": null,
       "grid_row": null,
       "grid_template_areas": null,
       "grid_template_columns": null,
       "grid_template_rows": null,
       "height": null,
       "justify_content": null,
       "justify_items": null,
       "left": null,
       "margin": null,
       "max_height": null,
       "max_width": null,
       "min_height": null,
       "min_width": null,
       "object_fit": null,
       "object_position": null,
       "order": null,
       "overflow": null,
       "padding": null,
       "right": null,
       "top": null,
       "visibility": null,
       "width": "100px"
      }
     },
     "735fcb7b3b24437f8d5bc51aced49752": {
      "model_module": "@jupyter-widgets/controls",
      "model_module_version": "2.0.0",
      "model_name": "LabelStyleModel",
      "state": {
       "_model_module": "@jupyter-widgets/controls",
       "_model_module_version": "2.0.0",
       "_model_name": "LabelStyleModel",
       "_view_count": null,
       "_view_module": "@jupyter-widgets/base",
       "_view_module_version": "2.0.0",
       "_view_name": "StyleView",
       "background": null,
       "description_width": "",
       "font_family": null,
       "font_size": null,
       "font_style": null,
       "font_variant": null,
       "font_weight": null,
       "text_color": null,
       "text_decoration": null
      }
     },
     "7408be00164a4cc286c2504dcea4a18f": {
      "model_module": "@jupyter-widgets/controls",
      "model_module_version": "2.0.0",
      "model_name": "ButtonStyleModel",
      "state": {
       "_model_module": "@jupyter-widgets/controls",
       "_model_module_version": "2.0.0",
       "_model_name": "ButtonStyleModel",
       "_view_count": null,
       "_view_module": "@jupyter-widgets/base",
       "_view_module_version": "2.0.0",
       "_view_name": "StyleView",
       "button_color": null,
       "font_family": null,
       "font_size": null,
       "font_style": null,
       "font_variant": null,
       "font_weight": null,
       "text_color": null,
       "text_decoration": null
      }
     },
     "760f9f57f9ae433281f2db2617a223e7": {
      "model_module": "@jupyter-widgets/controls",
      "model_module_version": "2.0.0",
      "model_name": "DropdownModel",
      "state": {
       "_dom_classes": [],
       "_model_module": "@jupyter-widgets/controls",
       "_model_module_version": "2.0.0",
       "_model_name": "DropdownModel",
       "_options_labels": [
        "Benefit",
        "Cost"
       ],
       "_view_count": null,
       "_view_module": "@jupyter-widgets/controls",
       "_view_module_version": "2.0.0",
       "_view_name": "DropdownView",
       "description": "",
       "description_allow_html": false,
       "disabled": false,
       "index": 0,
       "layout": "IPY_MODEL_40dfc350f23a4892b744c6bc99118a01",
       "style": "IPY_MODEL_957b24a1ba8748ec89204eaa363bbb38",
       "tabbable": null,
       "tooltip": null
      }
     },
     "7a654c7f641945d48729f2d6a487e74d": {
      "model_module": "@jupyter-widgets/controls",
      "model_module_version": "2.0.0",
      "model_name": "DropdownModel",
      "state": {
       "_dom_classes": [],
       "_model_module": "@jupyter-widgets/controls",
       "_model_module_version": "2.0.0",
       "_model_name": "DropdownModel",
       "_options_labels": [
        "Benefit",
        "Cost"
       ],
       "_view_count": null,
       "_view_module": "@jupyter-widgets/controls",
       "_view_module_version": "2.0.0",
       "_view_name": "DropdownView",
       "description": "",
       "description_allow_html": false,
       "disabled": false,
       "index": 0,
       "layout": "IPY_MODEL_dcc7e622d9f7495092ec2fbdc6ed4808",
       "style": "IPY_MODEL_3e3ed1e5c22346df99b5cdac04260ec8",
       "tabbable": null,
       "tooltip": null
      }
     },
     "7fd93d75719b4527b3741ab6b34df692": {
      "model_module": "@jupyter-widgets/controls",
      "model_module_version": "2.0.0",
      "model_name": "LabelModel",
      "state": {
       "_dom_classes": [],
       "_model_module": "@jupyter-widgets/controls",
       "_model_module_version": "2.0.0",
       "_model_name": "LabelModel",
       "_view_count": null,
       "_view_module": "@jupyter-widgets/controls",
       "_view_module_version": "2.0.0",
       "_view_name": "LabelView",
       "description": "",
       "description_allow_html": false,
       "layout": "IPY_MODEL_2fe96d86820e4d29a38c1ca817d7dfd5",
       "placeholder": "​",
       "style": "IPY_MODEL_3cb542449576407b86bc4de3c658e4f2",
       "tabbable": null,
       "tooltip": null,
       "value": "C2"
      }
     },
     "80de1e635c5747538bc19edb4857a431": {
      "model_module": "@jupyter-widgets/controls",
      "model_module_version": "2.0.0",
      "model_name": "DescriptionStyleModel",
      "state": {
       "_model_module": "@jupyter-widgets/controls",
       "_model_module_version": "2.0.0",
       "_model_name": "DescriptionStyleModel",
       "_view_count": null,
       "_view_module": "@jupyter-widgets/base",
       "_view_module_version": "2.0.0",
       "_view_name": "StyleView",
       "description_width": ""
      }
     },
     "81f8b5621a174554b0096569bdbc39b1": {
      "model_module": "@jupyter-widgets/controls",
      "model_module_version": "2.0.0",
      "model_name": "LabelStyleModel",
      "state": {
       "_model_module": "@jupyter-widgets/controls",
       "_model_module_version": "2.0.0",
       "_model_name": "LabelStyleModel",
       "_view_count": null,
       "_view_module": "@jupyter-widgets/base",
       "_view_module_version": "2.0.0",
       "_view_name": "StyleView",
       "background": null,
       "description_width": "",
       "font_family": null,
       "font_size": null,
       "font_style": null,
       "font_variant": null,
       "font_weight": null,
       "text_color": null,
       "text_decoration": null
      }
     },
     "834fd6ce83d74e6f94614e69754147c9": {
      "model_module": "@jupyter-widgets/controls",
      "model_module_version": "2.0.0",
      "model_name": "FloatTextModel",
      "state": {
       "_dom_classes": [],
       "_model_module": "@jupyter-widgets/controls",
       "_model_module_version": "2.0.0",
       "_model_name": "FloatTextModel",
       "_view_count": null,
       "_view_module": "@jupyter-widgets/controls",
       "_view_module_version": "2.0.0",
       "_view_name": "FloatTextView",
       "continuous_update": false,
       "description": "",
       "description_allow_html": false,
       "disabled": false,
       "layout": "IPY_MODEL_211c56c68df54756832e7ef9d35bc926",
       "step": null,
       "style": "IPY_MODEL_68e70830f4ae49b3b55e6096cfa4404b",
       "tabbable": null,
       "tooltip": null,
       "value": 0.0
      }
     },
     "85cb719fd5cf48caa1ea9833fac6614b": {
      "model_module": "@jupyter-widgets/base",
      "model_module_version": "2.0.0",
      "model_name": "LayoutModel",
      "state": {
       "_model_module": "@jupyter-widgets/base",
       "_model_module_version": "2.0.0",
       "_model_name": "LayoutModel",
       "_view_count": null,
       "_view_module": "@jupyter-widgets/base",
       "_view_module_version": "2.0.0",
       "_view_name": "LayoutView",
       "align_content": null,
       "align_items": null,
       "align_self": null,
       "border_bottom": null,
       "border_left": null,
       "border_right": null,
       "border_top": null,
       "bottom": null,
       "display": null,
       "flex": null,
       "flex_flow": null,
       "grid_area": null,
       "grid_auto_columns": null,
       "grid_auto_flow": null,
       "grid_auto_rows": null,
       "grid_column": null,
       "grid_gap": null,
       "grid_row": null,
       "grid_template_areas": null,
       "grid_template_columns": null,
       "grid_template_rows": null,
       "height": null,
       "justify_content": null,
       "justify_items": null,
       "left": null,
       "margin": null,
       "max_height": null,
       "max_width": null,
       "min_height": null,
       "min_width": null,
       "object_fit": null,
       "object_position": null,
       "order": null,
       "overflow": null,
       "padding": null,
       "right": null,
       "top": null,
       "visibility": null,
       "width": "100px"
      }
     },
     "89d47e77d02d499095a47e3333deca95": {
      "model_module": "@jupyter-widgets/base",
      "model_module_version": "2.0.0",
      "model_name": "LayoutModel",
      "state": {
       "_model_module": "@jupyter-widgets/base",
       "_model_module_version": "2.0.0",
       "_model_name": "LayoutModel",
       "_view_count": null,
       "_view_module": "@jupyter-widgets/base",
       "_view_module_version": "2.0.0",
       "_view_name": "LayoutView",
       "align_content": null,
       "align_items": null,
       "align_self": null,
       "border_bottom": null,
       "border_left": null,
       "border_right": null,
       "border_top": null,
       "bottom": null,
       "display": null,
       "flex": null,
       "flex_flow": null,
       "grid_area": null,
       "grid_auto_columns": null,
       "grid_auto_flow": null,
       "grid_auto_rows": null,
       "grid_column": null,
       "grid_gap": null,
       "grid_row": null,
       "grid_template_areas": null,
       "grid_template_columns": null,
       "grid_template_rows": null,
       "height": null,
       "justify_content": null,
       "justify_items": null,
       "left": null,
       "margin": null,
       "max_height": null,
       "max_width": null,
       "min_height": null,
       "min_width": null,
       "object_fit": null,
       "object_position": null,
       "order": null,
       "overflow": null,
       "padding": null,
       "right": null,
       "top": null,
       "visibility": null,
       "width": null
      }
     },
     "8b945a84047a468fb27af248ad424f15": {
      "model_module": "@jupyter-widgets/base",
      "model_module_version": "2.0.0",
      "model_name": "LayoutModel",
      "state": {
       "_model_module": "@jupyter-widgets/base",
       "_model_module_version": "2.0.0",
       "_model_name": "LayoutModel",
       "_view_count": null,
       "_view_module": "@jupyter-widgets/base",
       "_view_module_version": "2.0.0",
       "_view_name": "LayoutView",
       "align_content": null,
       "align_items": null,
       "align_self": null,
       "border_bottom": null,
       "border_left": null,
       "border_right": null,
       "border_top": null,
       "bottom": null,
       "display": null,
       "flex": null,
       "flex_flow": null,
       "grid_area": null,
       "grid_auto_columns": null,
       "grid_auto_flow": null,
       "grid_auto_rows": null,
       "grid_column": null,
       "grid_gap": null,
       "grid_row": null,
       "grid_template_areas": null,
       "grid_template_columns": null,
       "grid_template_rows": null,
       "height": null,
       "justify_content": null,
       "justify_items": null,
       "left": null,
       "margin": null,
       "max_height": null,
       "max_width": null,
       "min_height": null,
       "min_width": null,
       "object_fit": null,
       "object_position": null,
       "order": null,
       "overflow": null,
       "padding": null,
       "right": null,
       "top": null,
       "visibility": null,
       "width": "100px"
      }
     },
     "8bc1898181a448c6b3cbfbab70eb93d3": {
      "model_module": "@jupyter-widgets/base",
      "model_module_version": "2.0.0",
      "model_name": "LayoutModel",
      "state": {
       "_model_module": "@jupyter-widgets/base",
       "_model_module_version": "2.0.0",
       "_model_name": "LayoutModel",
       "_view_count": null,
       "_view_module": "@jupyter-widgets/base",
       "_view_module_version": "2.0.0",
       "_view_name": "LayoutView",
       "align_content": null,
       "align_items": null,
       "align_self": null,
       "border_bottom": null,
       "border_left": null,
       "border_right": null,
       "border_top": null,
       "bottom": null,
       "display": null,
       "flex": null,
       "flex_flow": null,
       "grid_area": null,
       "grid_auto_columns": null,
       "grid_auto_flow": null,
       "grid_auto_rows": null,
       "grid_column": null,
       "grid_gap": null,
       "grid_row": null,
       "grid_template_areas": null,
       "grid_template_columns": null,
       "grid_template_rows": null,
       "height": null,
       "justify_content": null,
       "justify_items": null,
       "left": null,
       "margin": null,
       "max_height": null,
       "max_width": null,
       "min_height": null,
       "min_width": null,
       "object_fit": null,
       "object_position": null,
       "order": null,
       "overflow": null,
       "padding": null,
       "right": null,
       "top": null,
       "visibility": null,
       "width": "50px"
      }
     },
     "8da7b5f2790c49c481e1fce1e621faea": {
      "model_module": "@jupyter-widgets/controls",
      "model_module_version": "2.0.0",
      "model_name": "LabelModel",
      "state": {
       "_dom_classes": [],
       "_model_module": "@jupyter-widgets/controls",
       "_model_module_version": "2.0.0",
       "_model_name": "LabelModel",
       "_view_count": null,
       "_view_module": "@jupyter-widgets/controls",
       "_view_module_version": "2.0.0",
       "_view_name": "LabelView",
       "description": "",
       "description_allow_html": false,
       "layout": "IPY_MODEL_dc02248104d94171806a16f348659096",
       "placeholder": "​",
       "style": "IPY_MODEL_ddea3b52a80a49ac867106d52863184c",
       "tabbable": null,
       "tooltip": null,
       "value": "C4"
      }
     },
     "8f6cb280495f4335a74063162a09aeac": {
      "model_module": "@jupyter-widgets/controls",
      "model_module_version": "2.0.0",
      "model_name": "LabelModel",
      "state": {
       "_dom_classes": [],
       "_model_module": "@jupyter-widgets/controls",
       "_model_module_version": "2.0.0",
       "_model_name": "LabelModel",
       "_view_count": null,
       "_view_module": "@jupyter-widgets/controls",
       "_view_module_version": "2.0.0",
       "_view_name": "LabelView",
       "description": "",
       "description_allow_html": false,
       "layout": "IPY_MODEL_8bc1898181a448c6b3cbfbab70eb93d3",
       "placeholder": "​",
       "style": "IPY_MODEL_519fba39a22f4884a280296ff486ced4",
       "tabbable": null,
       "tooltip": null,
       "value": "C4"
      }
     },
     "8ffe8c207c9140a584109a9139147a35": {
      "model_module": "@jupyter-widgets/base",
      "model_module_version": "2.0.0",
      "model_name": "LayoutModel",
      "state": {
       "_model_module": "@jupyter-widgets/base",
       "_model_module_version": "2.0.0",
       "_model_name": "LayoutModel",
       "_view_count": null,
       "_view_module": "@jupyter-widgets/base",
       "_view_module_version": "2.0.0",
       "_view_name": "LayoutView",
       "align_content": null,
       "align_items": null,
       "align_self": null,
       "border_bottom": null,
       "border_left": null,
       "border_right": null,
       "border_top": null,
       "bottom": null,
       "display": null,
       "flex": null,
       "flex_flow": null,
       "grid_area": null,
       "grid_auto_columns": null,
       "grid_auto_flow": null,
       "grid_auto_rows": null,
       "grid_column": null,
       "grid_gap": null,
       "grid_row": null,
       "grid_template_areas": null,
       "grid_template_columns": null,
       "grid_template_rows": null,
       "height": null,
       "justify_content": null,
       "justify_items": null,
       "left": null,
       "margin": null,
       "max_height": null,
       "max_width": null,
       "min_height": null,
       "min_width": null,
       "object_fit": null,
       "object_position": null,
       "order": null,
       "overflow": null,
       "padding": null,
       "right": null,
       "top": null,
       "visibility": null,
       "width": "100px"
      }
     },
     "9014079588014be9914a3328ec240d6f": {
      "model_module": "@jupyter-widgets/controls",
      "model_module_version": "2.0.0",
      "model_name": "LabelStyleModel",
      "state": {
       "_model_module": "@jupyter-widgets/controls",
       "_model_module_version": "2.0.0",
       "_model_name": "LabelStyleModel",
       "_view_count": null,
       "_view_module": "@jupyter-widgets/base",
       "_view_module_version": "2.0.0",
       "_view_name": "StyleView",
       "background": null,
       "description_width": "",
       "font_family": null,
       "font_size": null,
       "font_style": null,
       "font_variant": null,
       "font_weight": null,
       "text_color": null,
       "text_decoration": null
      }
     },
     "908c4be42a3e44559c95d3e745db9755": {
      "model_module": "@jupyter-widgets/base",
      "model_module_version": "2.0.0",
      "model_name": "LayoutModel",
      "state": {
       "_model_module": "@jupyter-widgets/base",
       "_model_module_version": "2.0.0",
       "_model_name": "LayoutModel",
       "_view_count": null,
       "_view_module": "@jupyter-widgets/base",
       "_view_module_version": "2.0.0",
       "_view_name": "LayoutView",
       "align_content": null,
       "align_items": null,
       "align_self": null,
       "border_bottom": null,
       "border_left": null,
       "border_right": null,
       "border_top": null,
       "bottom": null,
       "display": null,
       "flex": null,
       "flex_flow": null,
       "grid_area": null,
       "grid_auto_columns": null,
       "grid_auto_flow": null,
       "grid_auto_rows": null,
       "grid_column": null,
       "grid_gap": null,
       "grid_row": null,
       "grid_template_areas": null,
       "grid_template_columns": null,
       "grid_template_rows": null,
       "height": null,
       "justify_content": null,
       "justify_items": null,
       "left": null,
       "margin": null,
       "max_height": null,
       "max_width": null,
       "min_height": null,
       "min_width": null,
       "object_fit": null,
       "object_position": null,
       "order": null,
       "overflow": null,
       "padding": null,
       "right": null,
       "top": null,
       "visibility": null,
       "width": "100px"
      }
     },
     "91b0e7dea6db4709833df022bc4ec605": {
      "model_module": "@jupyter-widgets/base",
      "model_module_version": "2.0.0",
      "model_name": "LayoutModel",
      "state": {
       "_model_module": "@jupyter-widgets/base",
       "_model_module_version": "2.0.0",
       "_model_name": "LayoutModel",
       "_view_count": null,
       "_view_module": "@jupyter-widgets/base",
       "_view_module_version": "2.0.0",
       "_view_name": "LayoutView",
       "align_content": null,
       "align_items": null,
       "align_self": null,
       "border_bottom": null,
       "border_left": null,
       "border_right": null,
       "border_top": null,
       "bottom": null,
       "display": null,
       "flex": null,
       "flex_flow": null,
       "grid_area": null,
       "grid_auto_columns": null,
       "grid_auto_flow": null,
       "grid_auto_rows": null,
       "grid_column": null,
       "grid_gap": null,
       "grid_row": null,
       "grid_template_areas": null,
       "grid_template_columns": null,
       "grid_template_rows": null,
       "height": null,
       "justify_content": null,
       "justify_items": null,
       "left": null,
       "margin": null,
       "max_height": null,
       "max_width": null,
       "min_height": null,
       "min_width": null,
       "object_fit": null,
       "object_position": null,
       "order": null,
       "overflow": null,
       "padding": null,
       "right": null,
       "top": null,
       "visibility": null,
       "width": null
      }
     },
     "92766db9a14f41b582295fb3b59344d6": {
      "model_module": "@jupyter-widgets/controls",
      "model_module_version": "2.0.0",
      "model_name": "LabelStyleModel",
      "state": {
       "_model_module": "@jupyter-widgets/controls",
       "_model_module_version": "2.0.0",
       "_model_name": "LabelStyleModel",
       "_view_count": null,
       "_view_module": "@jupyter-widgets/base",
       "_view_module_version": "2.0.0",
       "_view_name": "StyleView",
       "background": null,
       "description_width": "",
       "font_family": null,
       "font_size": null,
       "font_style": null,
       "font_variant": null,
       "font_weight": null,
       "text_color": null,
       "text_decoration": null
      }
     },
     "9433ccce6e954ac4bee78c776ab5de45": {
      "model_module": "@jupyter-widgets/controls",
      "model_module_version": "2.0.0",
      "model_name": "FloatTextModel",
      "state": {
       "_dom_classes": [],
       "_model_module": "@jupyter-widgets/controls",
       "_model_module_version": "2.0.0",
       "_model_name": "FloatTextModel",
       "_view_count": null,
       "_view_module": "@jupyter-widgets/controls",
       "_view_module_version": "2.0.0",
       "_view_name": "FloatTextView",
       "continuous_update": false,
       "description": "",
       "description_allow_html": false,
       "disabled": false,
       "layout": "IPY_MODEL_b3b52d82f97540b698b1750a8198f321",
       "step": null,
       "style": "IPY_MODEL_c5a004bfaeef42bea5b28b6a6fb96605",
       "tabbable": null,
       "tooltip": null,
       "value": 0.0
      }
     },
     "957b24a1ba8748ec89204eaa363bbb38": {
      "model_module": "@jupyter-widgets/controls",
      "model_module_version": "2.0.0",
      "model_name": "DescriptionStyleModel",
      "state": {
       "_model_module": "@jupyter-widgets/controls",
       "_model_module_version": "2.0.0",
       "_model_name": "DescriptionStyleModel",
       "_view_count": null,
       "_view_module": "@jupyter-widgets/base",
       "_view_module_version": "2.0.0",
       "_view_name": "StyleView",
       "description_width": ""
      }
     },
     "9625cd5b7dc04ccc95af79f932e5fbd8": {
      "model_module": "@jupyter-widgets/base",
      "model_module_version": "2.0.0",
      "model_name": "LayoutModel",
      "state": {
       "_model_module": "@jupyter-widgets/base",
       "_model_module_version": "2.0.0",
       "_model_name": "LayoutModel",
       "_view_count": null,
       "_view_module": "@jupyter-widgets/base",
       "_view_module_version": "2.0.0",
       "_view_name": "LayoutView",
       "align_content": null,
       "align_items": null,
       "align_self": null,
       "border_bottom": null,
       "border_left": null,
       "border_right": null,
       "border_top": null,
       "bottom": null,
       "display": null,
       "flex": null,
       "flex_flow": null,
       "grid_area": null,
       "grid_auto_columns": null,
       "grid_auto_flow": null,
       "grid_auto_rows": null,
       "grid_column": null,
       "grid_gap": null,
       "grid_row": null,
       "grid_template_areas": null,
       "grid_template_columns": null,
       "grid_template_rows": null,
       "height": null,
       "justify_content": null,
       "justify_items": null,
       "left": null,
       "margin": null,
       "max_height": null,
       "max_width": null,
       "min_height": null,
       "min_width": null,
       "object_fit": null,
       "object_position": null,
       "order": null,
       "overflow": null,
       "padding": null,
       "right": null,
       "top": null,
       "visibility": null,
       "width": null
      }
     },
     "969725f0e72b4184adf64c0ff3c5cebc": {
      "model_module": "@jupyter-widgets/controls",
      "model_module_version": "2.0.0",
      "model_name": "DescriptionStyleModel",
      "state": {
       "_model_module": "@jupyter-widgets/controls",
       "_model_module_version": "2.0.0",
       "_model_name": "DescriptionStyleModel",
       "_view_count": null,
       "_view_module": "@jupyter-widgets/base",
       "_view_module_version": "2.0.0",
       "_view_name": "StyleView",
       "description_width": ""
      }
     },
     "9aa2c9595e0e4f53be4019d4ea0c2de8": {
      "model_module": "@jupyter-widgets/controls",
      "model_module_version": "2.0.0",
      "model_name": "DescriptionStyleModel",
      "state": {
       "_model_module": "@jupyter-widgets/controls",
       "_model_module_version": "2.0.0",
       "_model_name": "DescriptionStyleModel",
       "_view_count": null,
       "_view_module": "@jupyter-widgets/base",
       "_view_module_version": "2.0.0",
       "_view_name": "StyleView",
       "description_width": ""
      }
     },
     "9b1848f9e9834626812c9958ad014f81": {
      "model_module": "@jupyter-widgets/controls",
      "model_module_version": "2.0.0",
      "model_name": "LabelModel",
      "state": {
       "_dom_classes": [],
       "_model_module": "@jupyter-widgets/controls",
       "_model_module_version": "2.0.0",
       "_model_name": "LabelModel",
       "_view_count": null,
       "_view_module": "@jupyter-widgets/controls",
       "_view_module_version": "2.0.0",
       "_view_name": "LabelView",
       "description": "",
       "description_allow_html": false,
       "layout": "IPY_MODEL_c6a889eb62854c41a03f5b827ada077c",
       "placeholder": "​",
       "style": "IPY_MODEL_225eeb86362240ab9fcee36a93bc6cbc",
       "tabbable": null,
       "tooltip": null,
       "value": ""
      }
     },
     "9c7e1759eb424259a29e170e62129525": {
      "model_module": "@jupyter-widgets/controls",
      "model_module_version": "2.0.0",
      "model_name": "LabelModel",
      "state": {
       "_dom_classes": [],
       "_model_module": "@jupyter-widgets/controls",
       "_model_module_version": "2.0.0",
       "_model_name": "LabelModel",
       "_view_count": null,
       "_view_module": "@jupyter-widgets/controls",
       "_view_module_version": "2.0.0",
       "_view_name": "LabelView",
       "description": "",
       "description_allow_html": false,
       "layout": "IPY_MODEL_dae22cf7876e42238e7d705a44745167",
       "placeholder": "​",
       "style": "IPY_MODEL_a7e4bbe24aec471ba5abe27ec830b717",
       "tabbable": null,
       "tooltip": null,
       "value": "C2"
      }
     },
     "9dd5a1e01b00486eb5196801a61bb1f7": {
      "model_module": "@jupyter-widgets/base",
      "model_module_version": "2.0.0",
      "model_name": "LayoutModel",
      "state": {
       "_model_module": "@jupyter-widgets/base",
       "_model_module_version": "2.0.0",
       "_model_name": "LayoutModel",
       "_view_count": null,
       "_view_module": "@jupyter-widgets/base",
       "_view_module_version": "2.0.0",
       "_view_name": "LayoutView",
       "align_content": null,
       "align_items": null,
       "align_self": null,
       "border_bottom": null,
       "border_left": null,
       "border_right": null,
       "border_top": null,
       "bottom": null,
       "display": null,
       "flex": null,
       "flex_flow": null,
       "grid_area": null,
       "grid_auto_columns": null,
       "grid_auto_flow": null,
       "grid_auto_rows": null,
       "grid_column": null,
       "grid_gap": null,
       "grid_row": null,
       "grid_template_areas": null,
       "grid_template_columns": null,
       "grid_template_rows": null,
       "height": null,
       "justify_content": null,
       "justify_items": null,
       "left": null,
       "margin": null,
       "max_height": null,
       "max_width": null,
       "min_height": null,
       "min_width": null,
       "object_fit": null,
       "object_position": null,
       "order": null,
       "overflow": null,
       "padding": null,
       "right": null,
       "top": null,
       "visibility": null,
       "width": "100px"
      }
     },
     "9efb81321a074482873d03893f0c0a4c": {
      "model_module": "@jupyter-widgets/controls",
      "model_module_version": "2.0.0",
      "model_name": "HBoxModel",
      "state": {
       "_dom_classes": [],
       "_model_module": "@jupyter-widgets/controls",
       "_model_module_version": "2.0.0",
       "_model_name": "HBoxModel",
       "_view_count": null,
       "_view_module": "@jupyter-widgets/controls",
       "_view_module_version": "2.0.0",
       "_view_name": "HBoxView",
       "box_style": "",
       "children": [
        "IPY_MODEL_f41d0c4a1a944f6581b02227b6861e8e",
        "IPY_MODEL_834fd6ce83d74e6f94614e69754147c9"
       ],
       "layout": "IPY_MODEL_e4acf8531c41422788a91be813028532",
       "tabbable": null,
       "tooltip": null
      }
     },
     "a0fc81b0fb934c9a9b2ef8826489dbca": {
      "model_module": "@jupyter-widgets/controls",
      "model_module_version": "2.0.0",
      "model_name": "HBoxModel",
      "state": {
       "_dom_classes": [],
       "_model_module": "@jupyter-widgets/controls",
       "_model_module_version": "2.0.0",
       "_model_name": "HBoxModel",
       "_view_count": null,
       "_view_module": "@jupyter-widgets/controls",
       "_view_module_version": "2.0.0",
       "_view_name": "HBoxView",
       "box_style": "",
       "children": [
        "IPY_MODEL_1d790c263b8649d4914412be31c43045",
        "IPY_MODEL_e18ecdb19e754b6c8030e8a8fa34f8f8"
       ],
       "layout": "IPY_MODEL_0966863bbf95459481fca3d7d747a9ae",
       "tabbable": null,
       "tooltip": null
      }
     },
     "a446fd615f484845af665e485018ee75": {
      "model_module": "@jupyter-widgets/base",
      "model_module_version": "2.0.0",
      "model_name": "LayoutModel",
      "state": {
       "_model_module": "@jupyter-widgets/base",
       "_model_module_version": "2.0.0",
       "_model_name": "LayoutModel",
       "_view_count": null,
       "_view_module": "@jupyter-widgets/base",
       "_view_module_version": "2.0.0",
       "_view_name": "LayoutView",
       "align_content": null,
       "align_items": null,
       "align_self": null,
       "border_bottom": null,
       "border_left": null,
       "border_right": null,
       "border_top": null,
       "bottom": null,
       "display": null,
       "flex": null,
       "flex_flow": null,
       "grid_area": null,
       "grid_auto_columns": null,
       "grid_auto_flow": null,
       "grid_auto_rows": null,
       "grid_column": null,
       "grid_gap": null,
       "grid_row": null,
       "grid_template_areas": null,
       "grid_template_columns": null,
       "grid_template_rows": null,
       "height": null,
       "justify_content": null,
       "justify_items": null,
       "left": null,
       "margin": null,
       "max_height": null,
       "max_width": null,
       "min_height": null,
       "min_width": null,
       "object_fit": null,
       "object_position": null,
       "order": null,
       "overflow": null,
       "padding": null,
       "right": null,
       "top": null,
       "visibility": null,
       "width": "100px"
      }
     },
     "a450e38e7bab43bf9344b0dddbb69eba": {
      "model_module": "@jupyter-widgets/base",
      "model_module_version": "2.0.0",
      "model_name": "LayoutModel",
      "state": {
       "_model_module": "@jupyter-widgets/base",
       "_model_module_version": "2.0.0",
       "_model_name": "LayoutModel",
       "_view_count": null,
       "_view_module": "@jupyter-widgets/base",
       "_view_module_version": "2.0.0",
       "_view_name": "LayoutView",
       "align_content": null,
       "align_items": null,
       "align_self": null,
       "border_bottom": null,
       "border_left": null,
       "border_right": null,
       "border_top": null,
       "bottom": null,
       "display": null,
       "flex": null,
       "flex_flow": null,
       "grid_area": null,
       "grid_auto_columns": null,
       "grid_auto_flow": null,
       "grid_auto_rows": null,
       "grid_column": null,
       "grid_gap": null,
       "grid_row": null,
       "grid_template_areas": null,
       "grid_template_columns": null,
       "grid_template_rows": null,
       "height": null,
       "justify_content": null,
       "justify_items": null,
       "left": null,
       "margin": null,
       "max_height": null,
       "max_width": null,
       "min_height": null,
       "min_width": null,
       "object_fit": null,
       "object_position": null,
       "order": null,
       "overflow": null,
       "padding": null,
       "right": null,
       "top": null,
       "visibility": null,
       "width": "50px"
      }
     },
     "a4689e5cd89a4417a0018eb7e82b1da6": {
      "model_module": "@jupyter-widgets/base",
      "model_module_version": "2.0.0",
      "model_name": "LayoutModel",
      "state": {
       "_model_module": "@jupyter-widgets/base",
       "_model_module_version": "2.0.0",
       "_model_name": "LayoutModel",
       "_view_count": null,
       "_view_module": "@jupyter-widgets/base",
       "_view_module_version": "2.0.0",
       "_view_name": "LayoutView",
       "align_content": null,
       "align_items": null,
       "align_self": null,
       "border_bottom": null,
       "border_left": null,
       "border_right": null,
       "border_top": null,
       "bottom": null,
       "display": null,
       "flex": null,
       "flex_flow": null,
       "grid_area": null,
       "grid_auto_columns": null,
       "grid_auto_flow": null,
       "grid_auto_rows": null,
       "grid_column": null,
       "grid_gap": null,
       "grid_row": null,
       "grid_template_areas": null,
       "grid_template_columns": null,
       "grid_template_rows": null,
       "height": null,
       "justify_content": null,
       "justify_items": null,
       "left": null,
       "margin": null,
       "max_height": null,
       "max_width": null,
       "min_height": null,
       "min_width": null,
       "object_fit": null,
       "object_position": null,
       "order": null,
       "overflow": null,
       "padding": null,
       "right": null,
       "top": null,
       "visibility": null,
       "width": "100px"
      }
     },
     "a545bcce155d4cc38aecfe29d4d6ac6e": {
      "model_module": "@jupyter-widgets/controls",
      "model_module_version": "2.0.0",
      "model_name": "LabelModel",
      "state": {
       "_dom_classes": [],
       "_model_module": "@jupyter-widgets/controls",
       "_model_module_version": "2.0.0",
       "_model_name": "LabelModel",
       "_view_count": null,
       "_view_module": "@jupyter-widgets/controls",
       "_view_module_version": "2.0.0",
       "_view_name": "LabelView",
       "description": "",
       "description_allow_html": false,
       "layout": "IPY_MODEL_677010fc484b4f8bb20f9387cf2f279f",
       "placeholder": "​",
       "style": "IPY_MODEL_c6ab8ecdb9084c9eafa461ca36c437b7",
       "tabbable": null,
       "tooltip": null,
       "value": "A2"
      }
     },
     "a5e075f9cb204b318ec9d82b152ec541": {
      "model_module": "@jupyter-widgets/base",
      "model_module_version": "2.0.0",
      "model_name": "LayoutModel",
      "state": {
       "_model_module": "@jupyter-widgets/base",
       "_model_module_version": "2.0.0",
       "_model_name": "LayoutModel",
       "_view_count": null,
       "_view_module": "@jupyter-widgets/base",
       "_view_module_version": "2.0.0",
       "_view_name": "LayoutView",
       "align_content": null,
       "align_items": null,
       "align_self": null,
       "border_bottom": null,
       "border_left": null,
       "border_right": null,
       "border_top": null,
       "bottom": null,
       "display": null,
       "flex": null,
       "flex_flow": null,
       "grid_area": null,
       "grid_auto_columns": null,
       "grid_auto_flow": null,
       "grid_auto_rows": null,
       "grid_column": null,
       "grid_gap": null,
       "grid_row": null,
       "grid_template_areas": null,
       "grid_template_columns": null,
       "grid_template_rows": null,
       "height": null,
       "justify_content": null,
       "justify_items": null,
       "left": null,
       "margin": null,
       "max_height": null,
       "max_width": null,
       "min_height": null,
       "min_width": null,
       "object_fit": null,
       "object_position": null,
       "order": null,
       "overflow": null,
       "padding": null,
       "right": null,
       "top": null,
       "visibility": null,
       "width": "100px"
      }
     },
     "a7e4bbe24aec471ba5abe27ec830b717": {
      "model_module": "@jupyter-widgets/controls",
      "model_module_version": "2.0.0",
      "model_name": "LabelStyleModel",
      "state": {
       "_model_module": "@jupyter-widgets/controls",
       "_model_module_version": "2.0.0",
       "_model_name": "LabelStyleModel",
       "_view_count": null,
       "_view_module": "@jupyter-widgets/base",
       "_view_module_version": "2.0.0",
       "_view_name": "StyleView",
       "background": null,
       "description_width": "",
       "font_family": null,
       "font_size": null,
       "font_style": null,
       "font_variant": null,
       "font_weight": null,
       "text_color": null,
       "text_decoration": null
      }
     },
     "ab1a4a780278432e9ea7f2142149273a": {
      "model_module": "@jupyter-widgets/controls",
      "model_module_version": "2.0.0",
      "model_name": "FloatTextModel",
      "state": {
       "_dom_classes": [],
       "_model_module": "@jupyter-widgets/controls",
       "_model_module_version": "2.0.0",
       "_model_name": "FloatTextModel",
       "_view_count": null,
       "_view_module": "@jupyter-widgets/controls",
       "_view_module_version": "2.0.0",
       "_view_name": "FloatTextView",
       "continuous_update": false,
       "description": "",
       "description_allow_html": false,
       "disabled": false,
       "layout": "IPY_MODEL_a5e075f9cb204b318ec9d82b152ec541",
       "step": null,
       "style": "IPY_MODEL_b140b36b0f764c079ea67c1e3d85329a",
       "tabbable": null,
       "tooltip": null,
       "value": 0.0
      }
     },
     "acc786bae40e41fc8e29d2cbe6dd2bf6": {
      "model_module": "@jupyter-widgets/base",
      "model_module_version": "2.0.0",
      "model_name": "LayoutModel",
      "state": {
       "_model_module": "@jupyter-widgets/base",
       "_model_module_version": "2.0.0",
       "_model_name": "LayoutModel",
       "_view_count": null,
       "_view_module": "@jupyter-widgets/base",
       "_view_module_version": "2.0.0",
       "_view_name": "LayoutView",
       "align_content": null,
       "align_items": null,
       "align_self": null,
       "border_bottom": null,
       "border_left": null,
       "border_right": null,
       "border_top": null,
       "bottom": null,
       "display": null,
       "flex": null,
       "flex_flow": null,
       "grid_area": null,
       "grid_auto_columns": null,
       "grid_auto_flow": null,
       "grid_auto_rows": null,
       "grid_column": null,
       "grid_gap": null,
       "grid_row": null,
       "grid_template_areas": null,
       "grid_template_columns": null,
       "grid_template_rows": null,
       "height": null,
       "justify_content": null,
       "justify_items": null,
       "left": null,
       "margin": null,
       "max_height": null,
       "max_width": null,
       "min_height": null,
       "min_width": null,
       "object_fit": null,
       "object_position": null,
       "order": null,
       "overflow": null,
       "padding": null,
       "right": null,
       "top": null,
       "visibility": null,
       "width": "100px"
      }
     },
     "adf1ebbb7fe44337ad62011324426155": {
      "model_module": "@jupyter-widgets/controls",
      "model_module_version": "2.0.0",
      "model_name": "DescriptionStyleModel",
      "state": {
       "_model_module": "@jupyter-widgets/controls",
       "_model_module_version": "2.0.0",
       "_model_name": "DescriptionStyleModel",
       "_view_count": null,
       "_view_module": "@jupyter-widgets/base",
       "_view_module_version": "2.0.0",
       "_view_name": "StyleView",
       "description_width": ""
      }
     },
     "afcd3c1160144bc6ab75fb462793f4b7": {
      "model_module": "@jupyter-widgets/controls",
      "model_module_version": "2.0.0",
      "model_name": "HBoxModel",
      "state": {
       "_dom_classes": [],
       "_model_module": "@jupyter-widgets/controls",
       "_model_module_version": "2.0.0",
       "_model_name": "HBoxModel",
       "_view_count": null,
       "_view_module": "@jupyter-widgets/controls",
       "_view_module_version": "2.0.0",
       "_view_name": "HBoxView",
       "box_style": "",
       "children": [
        "IPY_MODEL_244897612f1444aca90ae5646ce48819",
        "IPY_MODEL_b90da534805948259624871ad575f4bc"
       ],
       "layout": "IPY_MODEL_605a6df758ed46139f1e698062657f6c",
       "tabbable": null,
       "tooltip": null
      }
     },
     "b140b36b0f764c079ea67c1e3d85329a": {
      "model_module": "@jupyter-widgets/controls",
      "model_module_version": "2.0.0",
      "model_name": "DescriptionStyleModel",
      "state": {
       "_model_module": "@jupyter-widgets/controls",
       "_model_module_version": "2.0.0",
       "_model_name": "DescriptionStyleModel",
       "_view_count": null,
       "_view_module": "@jupyter-widgets/base",
       "_view_module_version": "2.0.0",
       "_view_name": "StyleView",
       "description_width": ""
      }
     },
     "b1d277def67d4a75a4834ae318061185": {
      "model_module": "@jupyter-widgets/controls",
      "model_module_version": "2.0.0",
      "model_name": "HBoxModel",
      "state": {
       "_dom_classes": [],
       "_model_module": "@jupyter-widgets/controls",
       "_model_module_version": "2.0.0",
       "_model_name": "HBoxModel",
       "_view_count": null,
       "_view_module": "@jupyter-widgets/controls",
       "_view_module_version": "2.0.0",
       "_view_name": "HBoxView",
       "box_style": "",
       "children": [
        "IPY_MODEL_9b1848f9e9834626812c9958ad014f81",
        "IPY_MODEL_c3a6da13226e4a6589ed93dc1d496265",
        "IPY_MODEL_5c956111264b496d9fe0643d75af1db1",
        "IPY_MODEL_50edaca9431b48e78a1352c7cf1f7f80",
        "IPY_MODEL_8da7b5f2790c49c481e1fce1e621faea",
        "IPY_MODEL_6889e90887584907bd9af841c36eb75d"
       ],
       "layout": "IPY_MODEL_53e5eecce1c7429d954e2834b8bfeb64",
       "tabbable": null,
       "tooltip": null
      }
     },
     "b2f77eccb4484cb68577f7075670298e": {
      "model_module": "@jupyter-widgets/base",
      "model_module_version": "2.0.0",
      "model_name": "LayoutModel",
      "state": {
       "_model_module": "@jupyter-widgets/base",
       "_model_module_version": "2.0.0",
       "_model_name": "LayoutModel",
       "_view_count": null,
       "_view_module": "@jupyter-widgets/base",
       "_view_module_version": "2.0.0",
       "_view_name": "LayoutView",
       "align_content": null,
       "align_items": null,
       "align_self": null,
       "border_bottom": null,
       "border_left": null,
       "border_right": null,
       "border_top": null,
       "bottom": null,
       "display": null,
       "flex": null,
       "flex_flow": null,
       "grid_area": null,
       "grid_auto_columns": null,
       "grid_auto_flow": null,
       "grid_auto_rows": null,
       "grid_column": null,
       "grid_gap": null,
       "grid_row": null,
       "grid_template_areas": null,
       "grid_template_columns": null,
       "grid_template_rows": null,
       "height": null,
       "justify_content": null,
       "justify_items": null,
       "left": null,
       "margin": null,
       "max_height": null,
       "max_width": null,
       "min_height": null,
       "min_width": null,
       "object_fit": null,
       "object_position": null,
       "order": null,
       "overflow": null,
       "padding": null,
       "right": null,
       "top": null,
       "visibility": null,
       "width": "100px"
      }
     },
     "b3b52d82f97540b698b1750a8198f321": {
      "model_module": "@jupyter-widgets/base",
      "model_module_version": "2.0.0",
      "model_name": "LayoutModel",
      "state": {
       "_model_module": "@jupyter-widgets/base",
       "_model_module_version": "2.0.0",
       "_model_name": "LayoutModel",
       "_view_count": null,
       "_view_module": "@jupyter-widgets/base",
       "_view_module_version": "2.0.0",
       "_view_name": "LayoutView",
       "align_content": null,
       "align_items": null,
       "align_self": null,
       "border_bottom": null,
       "border_left": null,
       "border_right": null,
       "border_top": null,
       "bottom": null,
       "display": null,
       "flex": null,
       "flex_flow": null,
       "grid_area": null,
       "grid_auto_columns": null,
       "grid_auto_flow": null,
       "grid_auto_rows": null,
       "grid_column": null,
       "grid_gap": null,
       "grid_row": null,
       "grid_template_areas": null,
       "grid_template_columns": null,
       "grid_template_rows": null,
       "height": null,
       "justify_content": null,
       "justify_items": null,
       "left": null,
       "margin": null,
       "max_height": null,
       "max_width": null,
       "min_height": null,
       "min_width": null,
       "object_fit": null,
       "object_position": null,
       "order": null,
       "overflow": null,
       "padding": null,
       "right": null,
       "top": null,
       "visibility": null,
       "width": "100px"
      }
     },
     "b4122a5e80134539b45f10cbff682150": {
      "model_module": "@jupyter-widgets/controls",
      "model_module_version": "2.0.0",
      "model_name": "ButtonModel",
      "state": {
       "_dom_classes": [],
       "_model_module": "@jupyter-widgets/controls",
       "_model_module_version": "2.0.0",
       "_model_name": "ButtonModel",
       "_view_count": null,
       "_view_module": "@jupyter-widgets/controls",
       "_view_module_version": "2.0.0",
       "_view_name": "ButtonView",
       "button_style": "",
       "description": "Set Matrix!",
       "disabled": false,
       "icon": "",
       "layout": "IPY_MODEL_b5a356b7d92e448786e9b6eb66da7ee1",
       "style": "IPY_MODEL_be3a4642bff94d7e9053de73b1536de7",
       "tabbable": null,
       "tooltip": null
      }
     },
     "b51d4057e6d940e681707df6b63f7b2c": {
      "model_module": "@jupyter-widgets/controls",
      "model_module_version": "2.0.0",
      "model_name": "DescriptionStyleModel",
      "state": {
       "_model_module": "@jupyter-widgets/controls",
       "_model_module_version": "2.0.0",
       "_model_name": "DescriptionStyleModel",
       "_view_count": null,
       "_view_module": "@jupyter-widgets/base",
       "_view_module_version": "2.0.0",
       "_view_name": "StyleView",
       "description_width": ""
      }
     },
     "b5a356b7d92e448786e9b6eb66da7ee1": {
      "model_module": "@jupyter-widgets/base",
      "model_module_version": "2.0.0",
      "model_name": "LayoutModel",
      "state": {
       "_model_module": "@jupyter-widgets/base",
       "_model_module_version": "2.0.0",
       "_model_name": "LayoutModel",
       "_view_count": null,
       "_view_module": "@jupyter-widgets/base",
       "_view_module_version": "2.0.0",
       "_view_name": "LayoutView",
       "align_content": null,
       "align_items": null,
       "align_self": null,
       "border_bottom": null,
       "border_left": null,
       "border_right": null,
       "border_top": null,
       "bottom": null,
       "display": null,
       "flex": null,
       "flex_flow": null,
       "grid_area": null,
       "grid_auto_columns": null,
       "grid_auto_flow": null,
       "grid_auto_rows": null,
       "grid_column": null,
       "grid_gap": null,
       "grid_row": null,
       "grid_template_areas": null,
       "grid_template_columns": null,
       "grid_template_rows": null,
       "height": null,
       "justify_content": null,
       "justify_items": null,
       "left": null,
       "margin": null,
       "max_height": null,
       "max_width": null,
       "min_height": null,
       "min_width": null,
       "object_fit": null,
       "object_position": null,
       "order": null,
       "overflow": null,
       "padding": null,
       "right": null,
       "top": null,
       "visibility": null,
       "width": null
      }
     },
     "b6225cdb7f5b4e9b9211a73c8bb5bd59": {
      "model_module": "@jupyter-widgets/controls",
      "model_module_version": "2.0.0",
      "model_name": "DescriptionStyleModel",
      "state": {
       "_model_module": "@jupyter-widgets/controls",
       "_model_module_version": "2.0.0",
       "_model_name": "DescriptionStyleModel",
       "_view_count": null,
       "_view_module": "@jupyter-widgets/base",
       "_view_module_version": "2.0.0",
       "_view_name": "StyleView",
       "description_width": ""
      }
     },
     "b6ecd18a444f4bb5b3602696aded0aec": {
      "model_module": "@jupyter-widgets/base",
      "model_module_version": "2.0.0",
      "model_name": "LayoutModel",
      "state": {
       "_model_module": "@jupyter-widgets/base",
       "_model_module_version": "2.0.0",
       "_model_name": "LayoutModel",
       "_view_count": null,
       "_view_module": "@jupyter-widgets/base",
       "_view_module_version": "2.0.0",
       "_view_name": "LayoutView",
       "align_content": null,
       "align_items": null,
       "align_self": null,
       "border_bottom": null,
       "border_left": null,
       "border_right": null,
       "border_top": null,
       "bottom": null,
       "display": null,
       "flex": null,
       "flex_flow": null,
       "grid_area": null,
       "grid_auto_columns": null,
       "grid_auto_flow": null,
       "grid_auto_rows": null,
       "grid_column": null,
       "grid_gap": null,
       "grid_row": null,
       "grid_template_areas": null,
       "grid_template_columns": null,
       "grid_template_rows": null,
       "height": null,
       "justify_content": null,
       "justify_items": null,
       "left": null,
       "margin": null,
       "max_height": null,
       "max_width": null,
       "min_height": null,
       "min_width": null,
       "object_fit": null,
       "object_position": null,
       "order": null,
       "overflow": null,
       "padding": null,
       "right": null,
       "top": null,
       "visibility": null,
       "width": "100px"
      }
     },
     "b72084c19aa845ee911573325dcd7a9a": {
      "model_module": "@jupyter-widgets/base",
      "model_module_version": "2.0.0",
      "model_name": "LayoutModel",
      "state": {
       "_model_module": "@jupyter-widgets/base",
       "_model_module_version": "2.0.0",
       "_model_name": "LayoutModel",
       "_view_count": null,
       "_view_module": "@jupyter-widgets/base",
       "_view_module_version": "2.0.0",
       "_view_name": "LayoutView",
       "align_content": null,
       "align_items": null,
       "align_self": null,
       "border_bottom": null,
       "border_left": null,
       "border_right": null,
       "border_top": null,
       "bottom": null,
       "display": null,
       "flex": null,
       "flex_flow": null,
       "grid_area": null,
       "grid_auto_columns": null,
       "grid_auto_flow": null,
       "grid_auto_rows": null,
       "grid_column": null,
       "grid_gap": null,
       "grid_row": null,
       "grid_template_areas": null,
       "grid_template_columns": null,
       "grid_template_rows": null,
       "height": null,
       "justify_content": null,
       "justify_items": null,
       "left": null,
       "margin": null,
       "max_height": null,
       "max_width": null,
       "min_height": null,
       "min_width": null,
       "object_fit": null,
       "object_position": null,
       "order": null,
       "overflow": null,
       "padding": null,
       "right": null,
       "top": null,
       "visibility": null,
       "width": "100px"
      }
     },
     "b770e9545cfd42d4a9c6787c5eac4872": {
      "model_module": "@jupyter-widgets/controls",
      "model_module_version": "2.0.0",
      "model_name": "HBoxModel",
      "state": {
       "_dom_classes": [],
       "_model_module": "@jupyter-widgets/controls",
       "_model_module_version": "2.0.0",
       "_model_name": "HBoxModel",
       "_view_count": null,
       "_view_module": "@jupyter-widgets/controls",
       "_view_module_version": "2.0.0",
       "_view_name": "HBoxView",
       "box_style": "",
       "children": [
        "IPY_MODEL_9c7e1759eb424259a29e170e62129525",
        "IPY_MODEL_ab1a4a780278432e9ea7f2142149273a"
       ],
       "layout": "IPY_MODEL_fa4c1568600247c0baba52074e5644a7",
       "tabbable": null,
       "tooltip": null
      }
     },
     "b7f191a8e2f244119c2fc110bffaf2b8": {
      "model_module": "@jupyter-widgets/controls",
      "model_module_version": "2.0.0",
      "model_name": "DescriptionStyleModel",
      "state": {
       "_model_module": "@jupyter-widgets/controls",
       "_model_module_version": "2.0.0",
       "_model_name": "DescriptionStyleModel",
       "_view_count": null,
       "_view_module": "@jupyter-widgets/base",
       "_view_module_version": "2.0.0",
       "_view_name": "StyleView",
       "description_width": ""
      }
     },
     "b832f7002fb942ff87a77c834d5a6cfe": {
      "model_module": "@jupyter-widgets/controls",
      "model_module_version": "2.0.0",
      "model_name": "DescriptionStyleModel",
      "state": {
       "_model_module": "@jupyter-widgets/controls",
       "_model_module_version": "2.0.0",
       "_model_name": "DescriptionStyleModel",
       "_view_count": null,
       "_view_module": "@jupyter-widgets/base",
       "_view_module_version": "2.0.0",
       "_view_name": "StyleView",
       "description_width": ""
      }
     },
     "b90da534805948259624871ad575f4bc": {
      "model_module": "@jupyter-widgets/controls",
      "model_module_version": "2.0.0",
      "model_name": "FloatTextModel",
      "state": {
       "_dom_classes": [],
       "_model_module": "@jupyter-widgets/controls",
       "_model_module_version": "2.0.0",
       "_model_name": "FloatTextModel",
       "_view_count": null,
       "_view_module": "@jupyter-widgets/controls",
       "_view_module_version": "2.0.0",
       "_view_name": "FloatTextView",
       "continuous_update": false,
       "description": "",
       "description_allow_html": false,
       "disabled": false,
       "layout": "IPY_MODEL_a4689e5cd89a4417a0018eb7e82b1da6",
       "step": null,
       "style": "IPY_MODEL_ccede8ab4b4f4c919eaacdde5c4a4f9b",
       "tabbable": null,
       "tooltip": null,
       "value": 0.0
      }
     },
     "ba999849eb46451ebc5e1deb53bdd667": {
      "model_module": "@jupyter-widgets/controls",
      "model_module_version": "2.0.0",
      "model_name": "FloatTextModel",
      "state": {
       "_dom_classes": [],
       "_model_module": "@jupyter-widgets/controls",
       "_model_module_version": "2.0.0",
       "_model_name": "FloatTextModel",
       "_view_count": null,
       "_view_module": "@jupyter-widgets/controls",
       "_view_module_version": "2.0.0",
       "_view_name": "FloatTextView",
       "continuous_update": false,
       "description": "",
       "description_allow_html": false,
       "disabled": false,
       "layout": "IPY_MODEL_607bcc539c6047bbab64c8fabd719d23",
       "step": null,
       "style": "IPY_MODEL_b6225cdb7f5b4e9b9211a73c8bb5bd59",
       "tabbable": null,
       "tooltip": null,
       "value": 0.0
      }
     },
     "be3a4642bff94d7e9053de73b1536de7": {
      "model_module": "@jupyter-widgets/controls",
      "model_module_version": "2.0.0",
      "model_name": "ButtonStyleModel",
      "state": {
       "_model_module": "@jupyter-widgets/controls",
       "_model_module_version": "2.0.0",
       "_model_name": "ButtonStyleModel",
       "_view_count": null,
       "_view_module": "@jupyter-widgets/base",
       "_view_module_version": "2.0.0",
       "_view_name": "StyleView",
       "button_color": null,
       "font_family": null,
       "font_size": null,
       "font_style": null,
       "font_variant": null,
       "font_weight": null,
       "text_color": null,
       "text_decoration": null
      }
     },
     "c2725085da90480790ad48fce2b38bf1": {
      "model_module": "@jupyter-widgets/controls",
      "model_module_version": "2.0.0",
      "model_name": "HBoxModel",
      "state": {
       "_dom_classes": [],
       "_model_module": "@jupyter-widgets/controls",
       "_model_module_version": "2.0.0",
       "_model_name": "HBoxModel",
       "_view_count": null,
       "_view_module": "@jupyter-widgets/controls",
       "_view_module_version": "2.0.0",
       "_view_name": "HBoxView",
       "box_style": "",
       "children": [
        "IPY_MODEL_ef64b54781b0422ca5456be81b817479",
        "IPY_MODEL_573f13cc073944938e5ea2ccc1ddda8d",
        "IPY_MODEL_70280dd458c442ce8fc7fdb1bc969075",
        "IPY_MODEL_ba999849eb46451ebc5e1deb53bdd667",
        "IPY_MODEL_551b00f9cd3e45a3a185ee0e72591371",
        "IPY_MODEL_ff2cad7816524eccb5b7145f26ea0907"
       ],
       "layout": "IPY_MODEL_89d47e77d02d499095a47e3333deca95",
       "tabbable": null,
       "tooltip": null
      }
     },
     "c3a6da13226e4a6589ed93dc1d496265": {
      "model_module": "@jupyter-widgets/controls",
      "model_module_version": "2.0.0",
      "model_name": "LabelModel",
      "state": {
       "_dom_classes": [],
       "_model_module": "@jupyter-widgets/controls",
       "_model_module_version": "2.0.0",
       "_model_name": "LabelModel",
       "_view_count": null,
       "_view_module": "@jupyter-widgets/controls",
       "_view_module_version": "2.0.0",
       "_view_name": "LabelView",
       "description": "",
       "description_allow_html": false,
       "layout": "IPY_MODEL_e77895212d934ad2830bda81feecc1f9",
       "placeholder": "​",
       "style": "IPY_MODEL_523232db766a4e4e95308ebfad6c9ee8",
       "tabbable": null,
       "tooltip": null,
       "value": "C1"
      }
     },
     "c5a004bfaeef42bea5b28b6a6fb96605": {
      "model_module": "@jupyter-widgets/controls",
      "model_module_version": "2.0.0",
      "model_name": "DescriptionStyleModel",
      "state": {
       "_model_module": "@jupyter-widgets/controls",
       "_model_module_version": "2.0.0",
       "_model_name": "DescriptionStyleModel",
       "_view_count": null,
       "_view_module": "@jupyter-widgets/base",
       "_view_module_version": "2.0.0",
       "_view_name": "StyleView",
       "description_width": ""
      }
     },
     "c5a5deb3419e4640bd7326f79da0d2e1": {
      "model_module": "@jupyter-widgets/controls",
      "model_module_version": "2.0.0",
      "model_name": "LabelModel",
      "state": {
       "_dom_classes": [],
       "_model_module": "@jupyter-widgets/controls",
       "_model_module_version": "2.0.0",
       "_model_name": "LabelModel",
       "_view_count": null,
       "_view_module": "@jupyter-widgets/controls",
       "_view_module_version": "2.0.0",
       "_view_name": "LabelView",
       "description": "",
       "description_allow_html": false,
       "layout": "IPY_MODEL_2f0e6645962942978eca20cab67e7bf8",
       "placeholder": "​",
       "style": "IPY_MODEL_00e1c503fed34962b874021b1ff384a7",
       "tabbable": null,
       "tooltip": null,
       "value": "A1"
      }
     },
     "c6a889eb62854c41a03f5b827ada077c": {
      "model_module": "@jupyter-widgets/base",
      "model_module_version": "2.0.0",
      "model_name": "LayoutModel",
      "state": {
       "_model_module": "@jupyter-widgets/base",
       "_model_module_version": "2.0.0",
       "_model_name": "LayoutModel",
       "_view_count": null,
       "_view_module": "@jupyter-widgets/base",
       "_view_module_version": "2.0.0",
       "_view_name": "LayoutView",
       "align_content": null,
       "align_items": null,
       "align_self": null,
       "border_bottom": null,
       "border_left": null,
       "border_right": null,
       "border_top": null,
       "bottom": null,
       "display": null,
       "flex": null,
       "flex_flow": null,
       "grid_area": null,
       "grid_auto_columns": null,
       "grid_auto_flow": null,
       "grid_auto_rows": null,
       "grid_column": null,
       "grid_gap": null,
       "grid_row": null,
       "grid_template_areas": null,
       "grid_template_columns": null,
       "grid_template_rows": null,
       "height": null,
       "justify_content": null,
       "justify_items": null,
       "left": null,
       "margin": null,
       "max_height": null,
       "max_width": null,
       "min_height": null,
       "min_width": null,
       "object_fit": null,
       "object_position": null,
       "order": null,
       "overflow": null,
       "padding": null,
       "right": null,
       "top": null,
       "visibility": null,
       "width": "100px"
      }
     },
     "c6ab8ecdb9084c9eafa461ca36c437b7": {
      "model_module": "@jupyter-widgets/controls",
      "model_module_version": "2.0.0",
      "model_name": "LabelStyleModel",
      "state": {
       "_model_module": "@jupyter-widgets/controls",
       "_model_module_version": "2.0.0",
       "_model_name": "LabelStyleModel",
       "_view_count": null,
       "_view_module": "@jupyter-widgets/base",
       "_view_module_version": "2.0.0",
       "_view_name": "StyleView",
       "background": null,
       "description_width": "",
       "font_family": null,
       "font_size": null,
       "font_style": null,
       "font_variant": null,
       "font_weight": null,
       "text_color": null,
       "text_decoration": null
      }
     },
     "c6feb6ba27bc4aa9ae52a4c8fa936505": {
      "model_module": "@jupyter-widgets/base",
      "model_module_version": "2.0.0",
      "model_name": "LayoutModel",
      "state": {
       "_model_module": "@jupyter-widgets/base",
       "_model_module_version": "2.0.0",
       "_model_name": "LayoutModel",
       "_view_count": null,
       "_view_module": "@jupyter-widgets/base",
       "_view_module_version": "2.0.0",
       "_view_name": "LayoutView",
       "align_content": null,
       "align_items": null,
       "align_self": null,
       "border_bottom": null,
       "border_left": null,
       "border_right": null,
       "border_top": null,
       "bottom": null,
       "display": null,
       "flex": null,
       "flex_flow": null,
       "grid_area": null,
       "grid_auto_columns": null,
       "grid_auto_flow": null,
       "grid_auto_rows": null,
       "grid_column": null,
       "grid_gap": null,
       "grid_row": null,
       "grid_template_areas": null,
       "grid_template_columns": null,
       "grid_template_rows": null,
       "height": null,
       "justify_content": null,
       "justify_items": null,
       "left": null,
       "margin": null,
       "max_height": null,
       "max_width": null,
       "min_height": null,
       "min_width": null,
       "object_fit": null,
       "object_position": null,
       "order": null,
       "overflow": null,
       "padding": null,
       "right": null,
       "top": null,
       "visibility": null,
       "width": null
      }
     },
     "c984e31f3b67401db34cbc264230c4b4": {
      "model_module": "@jupyter-widgets/controls",
      "model_module_version": "2.0.0",
      "model_name": "HBoxModel",
      "state": {
       "_dom_classes": [],
       "_model_module": "@jupyter-widgets/controls",
       "_model_module_version": "2.0.0",
       "_model_name": "HBoxModel",
       "_view_count": null,
       "_view_module": "@jupyter-widgets/controls",
       "_view_module_version": "2.0.0",
       "_view_name": "HBoxView",
       "box_style": "",
       "children": [
        "IPY_MODEL_c5a5deb3419e4640bd7326f79da0d2e1",
        "IPY_MODEL_2625186537ef461db774a269979fa33a",
        "IPY_MODEL_49383d2a1b1c47638daa9b5dd6ae91c3",
        "IPY_MODEL_cd87ca16ac154a9e83581c76af12292f",
        "IPY_MODEL_7234d931dbc343bcaa7a529da5a0bec1",
        "IPY_MODEL_3355e76ef37f4490b9ec9a1ae8877c65"
       ],
       "layout": "IPY_MODEL_d1984afdc16c4e5ab1798832ab7406e2",
       "tabbable": null,
       "tooltip": null
      }
     },
     "cbb0abe8fc1c4520867372ad8c86cece": {
      "model_module": "@jupyter-widgets/base",
      "model_module_version": "2.0.0",
      "model_name": "LayoutModel",
      "state": {
       "_model_module": "@jupyter-widgets/base",
       "_model_module_version": "2.0.0",
       "_model_name": "LayoutModel",
       "_view_count": null,
       "_view_module": "@jupyter-widgets/base",
       "_view_module_version": "2.0.0",
       "_view_name": "LayoutView",
       "align_content": null,
       "align_items": null,
       "align_self": null,
       "border_bottom": null,
       "border_left": null,
       "border_right": null,
       "border_top": null,
       "bottom": null,
       "display": null,
       "flex": null,
       "flex_flow": null,
       "grid_area": null,
       "grid_auto_columns": null,
       "grid_auto_flow": null,
       "grid_auto_rows": null,
       "grid_column": null,
       "grid_gap": null,
       "grid_row": null,
       "grid_template_areas": null,
       "grid_template_columns": null,
       "grid_template_rows": null,
       "height": null,
       "justify_content": null,
       "justify_items": null,
       "left": null,
       "margin": null,
       "max_height": null,
       "max_width": null,
       "min_height": null,
       "min_width": null,
       "object_fit": null,
       "object_position": null,
       "order": null,
       "overflow": null,
       "padding": null,
       "right": null,
       "top": null,
       "visibility": null,
       "width": null
      }
     },
     "ccede8ab4b4f4c919eaacdde5c4a4f9b": {
      "model_module": "@jupyter-widgets/controls",
      "model_module_version": "2.0.0",
      "model_name": "DescriptionStyleModel",
      "state": {
       "_model_module": "@jupyter-widgets/controls",
       "_model_module_version": "2.0.0",
       "_model_name": "DescriptionStyleModel",
       "_view_count": null,
       "_view_module": "@jupyter-widgets/base",
       "_view_module_version": "2.0.0",
       "_view_name": "StyleView",
       "description_width": ""
      }
     },
     "cd87ca16ac154a9e83581c76af12292f": {
      "model_module": "@jupyter-widgets/controls",
      "model_module_version": "2.0.0",
      "model_name": "FloatTextModel",
      "state": {
       "_dom_classes": [],
       "_model_module": "@jupyter-widgets/controls",
       "_model_module_version": "2.0.0",
       "_model_name": "FloatTextModel",
       "_view_count": null,
       "_view_module": "@jupyter-widgets/controls",
       "_view_module_version": "2.0.0",
       "_view_name": "FloatTextView",
       "continuous_update": false,
       "description": "",
       "description_allow_html": false,
       "disabled": false,
       "layout": "IPY_MODEL_6fe3fe6d06fb4d98b1f16c7d0f5cfd03",
       "step": null,
       "style": "IPY_MODEL_67e19a8c88ec486cab3f29f0d80128cb",
       "tabbable": null,
       "tooltip": null,
       "value": 0.0
      }
     },
     "d0d634e980a746929e5f5c8fe1d6a67d": {
      "model_module": "@jupyter-widgets/controls",
      "model_module_version": "2.0.0",
      "model_name": "LabelStyleModel",
      "state": {
       "_model_module": "@jupyter-widgets/controls",
       "_model_module_version": "2.0.0",
       "_model_name": "LabelStyleModel",
       "_view_count": null,
       "_view_module": "@jupyter-widgets/base",
       "_view_module_version": "2.0.0",
       "_view_name": "StyleView",
       "background": null,
       "description_width": "",
       "font_family": null,
       "font_size": null,
       "font_style": null,
       "font_variant": null,
       "font_weight": null,
       "text_color": null,
       "text_decoration": null
      }
     },
     "d1984afdc16c4e5ab1798832ab7406e2": {
      "model_module": "@jupyter-widgets/base",
      "model_module_version": "2.0.0",
      "model_name": "LayoutModel",
      "state": {
       "_model_module": "@jupyter-widgets/base",
       "_model_module_version": "2.0.0",
       "_model_name": "LayoutModel",
       "_view_count": null,
       "_view_module": "@jupyter-widgets/base",
       "_view_module_version": "2.0.0",
       "_view_name": "LayoutView",
       "align_content": null,
       "align_items": null,
       "align_self": null,
       "border_bottom": null,
       "border_left": null,
       "border_right": null,
       "border_top": null,
       "bottom": null,
       "display": null,
       "flex": null,
       "flex_flow": null,
       "grid_area": null,
       "grid_auto_columns": null,
       "grid_auto_flow": null,
       "grid_auto_rows": null,
       "grid_column": null,
       "grid_gap": null,
       "grid_row": null,
       "grid_template_areas": null,
       "grid_template_columns": null,
       "grid_template_rows": null,
       "height": null,
       "justify_content": null,
       "justify_items": null,
       "left": null,
       "margin": null,
       "max_height": null,
       "max_width": null,
       "min_height": null,
       "min_width": null,
       "object_fit": null,
       "object_position": null,
       "order": null,
       "overflow": null,
       "padding": null,
       "right": null,
       "top": null,
       "visibility": null,
       "width": null
      }
     },
     "d4396072753945adb4572584341eda94": {
      "model_module": "@jupyter-widgets/controls",
      "model_module_version": "2.0.0",
      "model_name": "DropdownModel",
      "state": {
       "_dom_classes": [],
       "_model_module": "@jupyter-widgets/controls",
       "_model_module_version": "2.0.0",
       "_model_name": "DropdownModel",
       "_options_labels": [
        "Benefit",
        "Cost"
       ],
       "_view_count": null,
       "_view_module": "@jupyter-widgets/controls",
       "_view_module_version": "2.0.0",
       "_view_name": "DropdownView",
       "description": "",
       "description_allow_html": false,
       "disabled": false,
       "index": 0,
       "layout": "IPY_MODEL_8b945a84047a468fb27af248ad424f15",
       "style": "IPY_MODEL_eb4f86e9c8c54ca6826acf1d48d119fe",
       "tabbable": null,
       "tooltip": null
      }
     },
     "d572b7f2a8f0450da2884f56cb8499c2": {
      "model_module": "@jupyter-widgets/controls",
      "model_module_version": "2.0.0",
      "model_name": "DropdownModel",
      "state": {
       "_dom_classes": [],
       "_model_module": "@jupyter-widgets/controls",
       "_model_module_version": "2.0.0",
       "_model_name": "DropdownModel",
       "_options_labels": [
        "Benefit",
        "Cost"
       ],
       "_view_count": null,
       "_view_module": "@jupyter-widgets/controls",
       "_view_module_version": "2.0.0",
       "_view_name": "DropdownView",
       "description": "",
       "description_allow_html": false,
       "disabled": false,
       "index": 0,
       "layout": "IPY_MODEL_908c4be42a3e44559c95d3e745db9755",
       "style": "IPY_MODEL_0f7a716d4ab1442088b3d3ae27b8e216",
       "tabbable": null,
       "tooltip": null
      }
     },
     "d8bdbfbce1d8456e92e3b11f91b75845": {
      "model_module": "@jupyter-widgets/controls",
      "model_module_version": "2.0.0",
      "model_name": "FloatTextModel",
      "state": {
       "_dom_classes": [],
       "_model_module": "@jupyter-widgets/controls",
       "_model_module_version": "2.0.0",
       "_model_name": "FloatTextModel",
       "_view_count": null,
       "_view_module": "@jupyter-widgets/controls",
       "_view_module_version": "2.0.0",
       "_view_name": "FloatTextView",
       "continuous_update": false,
       "description": "",
       "description_allow_html": false,
       "disabled": false,
       "layout": "IPY_MODEL_8ffe8c207c9140a584109a9139147a35",
       "step": null,
       "style": "IPY_MODEL_b832f7002fb942ff87a77c834d5a6cfe",
       "tabbable": null,
       "tooltip": null,
       "value": 0.0
      }
     },
     "da3d77b4f8784bc088223eaeff28bb05": {
      "model_module": "@jupyter-widgets/base",
      "model_module_version": "2.0.0",
      "model_name": "LayoutModel",
      "state": {
       "_model_module": "@jupyter-widgets/base",
       "_model_module_version": "2.0.0",
       "_model_name": "LayoutModel",
       "_view_count": null,
       "_view_module": "@jupyter-widgets/base",
       "_view_module_version": "2.0.0",
       "_view_name": "LayoutView",
       "align_content": null,
       "align_items": null,
       "align_self": null,
       "border_bottom": null,
       "border_left": null,
       "border_right": null,
       "border_top": null,
       "bottom": null,
       "display": null,
       "flex": null,
       "flex_flow": null,
       "grid_area": null,
       "grid_auto_columns": null,
       "grid_auto_flow": null,
       "grid_auto_rows": null,
       "grid_column": null,
       "grid_gap": null,
       "grid_row": null,
       "grid_template_areas": null,
       "grid_template_columns": null,
       "grid_template_rows": null,
       "height": null,
       "justify_content": null,
       "justify_items": null,
       "left": null,
       "margin": null,
       "max_height": null,
       "max_width": null,
       "min_height": null,
       "min_width": null,
       "object_fit": null,
       "object_position": null,
       "order": null,
       "overflow": null,
       "padding": null,
       "right": null,
       "top": null,
       "visibility": null,
       "width": null
      }
     },
     "dae22cf7876e42238e7d705a44745167": {
      "model_module": "@jupyter-widgets/base",
      "model_module_version": "2.0.0",
      "model_name": "LayoutModel",
      "state": {
       "_model_module": "@jupyter-widgets/base",
       "_model_module_version": "2.0.0",
       "_model_name": "LayoutModel",
       "_view_count": null,
       "_view_module": "@jupyter-widgets/base",
       "_view_module_version": "2.0.0",
       "_view_name": "LayoutView",
       "align_content": null,
       "align_items": null,
       "align_self": null,
       "border_bottom": null,
       "border_left": null,
       "border_right": null,
       "border_top": null,
       "bottom": null,
       "display": null,
       "flex": null,
       "flex_flow": null,
       "grid_area": null,
       "grid_auto_columns": null,
       "grid_auto_flow": null,
       "grid_auto_rows": null,
       "grid_column": null,
       "grid_gap": null,
       "grid_row": null,
       "grid_template_areas": null,
       "grid_template_columns": null,
       "grid_template_rows": null,
       "height": null,
       "justify_content": null,
       "justify_items": null,
       "left": null,
       "margin": null,
       "max_height": null,
       "max_width": null,
       "min_height": null,
       "min_width": null,
       "object_fit": null,
       "object_position": null,
       "order": null,
       "overflow": null,
       "padding": null,
       "right": null,
       "top": null,
       "visibility": null,
       "width": "100px"
      }
     },
     "dc02248104d94171806a16f348659096": {
      "model_module": "@jupyter-widgets/base",
      "model_module_version": "2.0.0",
      "model_name": "LayoutModel",
      "state": {
       "_model_module": "@jupyter-widgets/base",
       "_model_module_version": "2.0.0",
       "_model_name": "LayoutModel",
       "_view_count": null,
       "_view_module": "@jupyter-widgets/base",
       "_view_module_version": "2.0.0",
       "_view_name": "LayoutView",
       "align_content": null,
       "align_items": null,
       "align_self": null,
       "border_bottom": null,
       "border_left": null,
       "border_right": null,
       "border_top": null,
       "bottom": null,
       "display": null,
       "flex": null,
       "flex_flow": null,
       "grid_area": null,
       "grid_auto_columns": null,
       "grid_auto_flow": null,
       "grid_auto_rows": null,
       "grid_column": null,
       "grid_gap": null,
       "grid_row": null,
       "grid_template_areas": null,
       "grid_template_columns": null,
       "grid_template_rows": null,
       "height": null,
       "justify_content": null,
       "justify_items": null,
       "left": null,
       "margin": null,
       "max_height": null,
       "max_width": null,
       "min_height": null,
       "min_width": null,
       "object_fit": null,
       "object_position": null,
       "order": null,
       "overflow": null,
       "padding": null,
       "right": null,
       "top": null,
       "visibility": null,
       "width": "100px"
      }
     },
     "dcc7e622d9f7495092ec2fbdc6ed4808": {
      "model_module": "@jupyter-widgets/base",
      "model_module_version": "2.0.0",
      "model_name": "LayoutModel",
      "state": {
       "_model_module": "@jupyter-widgets/base",
       "_model_module_version": "2.0.0",
       "_model_name": "LayoutModel",
       "_view_count": null,
       "_view_module": "@jupyter-widgets/base",
       "_view_module_version": "2.0.0",
       "_view_name": "LayoutView",
       "align_content": null,
       "align_items": null,
       "align_self": null,
       "border_bottom": null,
       "border_left": null,
       "border_right": null,
       "border_top": null,
       "bottom": null,
       "display": null,
       "flex": null,
       "flex_flow": null,
       "grid_area": null,
       "grid_auto_columns": null,
       "grid_auto_flow": null,
       "grid_auto_rows": null,
       "grid_column": null,
       "grid_gap": null,
       "grid_row": null,
       "grid_template_areas": null,
       "grid_template_columns": null,
       "grid_template_rows": null,
       "height": null,
       "justify_content": null,
       "justify_items": null,
       "left": null,
       "margin": null,
       "max_height": null,
       "max_width": null,
       "min_height": null,
       "min_width": null,
       "object_fit": null,
       "object_position": null,
       "order": null,
       "overflow": null,
       "padding": null,
       "right": null,
       "top": null,
       "visibility": null,
       "width": "100px"
      }
     },
     "ddea3b52a80a49ac867106d52863184c": {
      "model_module": "@jupyter-widgets/controls",
      "model_module_version": "2.0.0",
      "model_name": "LabelStyleModel",
      "state": {
       "_model_module": "@jupyter-widgets/controls",
       "_model_module_version": "2.0.0",
       "_model_name": "LabelStyleModel",
       "_view_count": null,
       "_view_module": "@jupyter-widgets/base",
       "_view_module_version": "2.0.0",
       "_view_name": "StyleView",
       "background": null,
       "description_width": "",
       "font_family": null,
       "font_size": null,
       "font_style": null,
       "font_variant": null,
       "font_weight": null,
       "text_color": null,
       "text_decoration": null
      }
     },
     "e1797a2973314453ad6eba35f800d0c8": {
      "model_module": "@jupyter-widgets/base",
      "model_module_version": "2.0.0",
      "model_name": "LayoutModel",
      "state": {
       "_model_module": "@jupyter-widgets/base",
       "_model_module_version": "2.0.0",
       "_model_name": "LayoutModel",
       "_view_count": null,
       "_view_module": "@jupyter-widgets/base",
       "_view_module_version": "2.0.0",
       "_view_name": "LayoutView",
       "align_content": null,
       "align_items": null,
       "align_self": null,
       "border_bottom": null,
       "border_left": null,
       "border_right": null,
       "border_top": null,
       "bottom": null,
       "display": null,
       "flex": null,
       "flex_flow": null,
       "grid_area": null,
       "grid_auto_columns": null,
       "grid_auto_flow": null,
       "grid_auto_rows": null,
       "grid_column": null,
       "grid_gap": null,
       "grid_row": null,
       "grid_template_areas": null,
       "grid_template_columns": null,
       "grid_template_rows": null,
       "height": null,
       "justify_content": null,
       "justify_items": null,
       "left": null,
       "margin": null,
       "max_height": null,
       "max_width": null,
       "min_height": null,
       "min_width": null,
       "object_fit": null,
       "object_position": null,
       "order": null,
       "overflow": null,
       "padding": null,
       "right": null,
       "top": null,
       "visibility": null,
       "width": null
      }
     },
     "e18ecdb19e754b6c8030e8a8fa34f8f8": {
      "model_module": "@jupyter-widgets/controls",
      "model_module_version": "2.0.0",
      "model_name": "DropdownModel",
      "state": {
       "_dom_classes": [],
       "_model_module": "@jupyter-widgets/controls",
       "_model_module_version": "2.0.0",
       "_model_name": "DropdownModel",
       "_options_labels": [
        "Benefit",
        "Cost"
       ],
       "_view_count": null,
       "_view_module": "@jupyter-widgets/controls",
       "_view_module_version": "2.0.0",
       "_view_name": "DropdownView",
       "description": "",
       "description_allow_html": false,
       "disabled": false,
       "index": 0,
       "layout": "IPY_MODEL_31aef1e40aa544c1b640da8154b0c9cc",
       "style": "IPY_MODEL_80de1e635c5747538bc19edb4857a431",
       "tabbable": null,
       "tooltip": null
      }
     },
     "e1ae7aebeff644b2bbe319e396394f4b": {
      "model_module": "@jupyter-widgets/controls",
      "model_module_version": "2.0.0",
      "model_name": "ButtonModel",
      "state": {
       "_dom_classes": [],
       "_model_module": "@jupyter-widgets/controls",
       "_model_module_version": "2.0.0",
       "_model_name": "ButtonModel",
       "_view_count": null,
       "_view_module": "@jupyter-widgets/controls",
       "_view_module_version": "2.0.0",
       "_view_name": "ButtonView",
       "button_style": "",
       "description": "Set Matrix!",
       "disabled": false,
       "icon": "",
       "layout": "IPY_MODEL_9625cd5b7dc04ccc95af79f932e5fbd8",
       "style": "IPY_MODEL_46d503d5cedc4901b1490549aedc2c00",
       "tabbable": null,
       "tooltip": null
      }
     },
     "e270f7afa7be45b7952e1307520e4d11": {
      "model_module": "@jupyter-widgets/base",
      "model_module_version": "2.0.0",
      "model_name": "LayoutModel",
      "state": {
       "_model_module": "@jupyter-widgets/base",
       "_model_module_version": "2.0.0",
       "_model_name": "LayoutModel",
       "_view_count": null,
       "_view_module": "@jupyter-widgets/base",
       "_view_module_version": "2.0.0",
       "_view_name": "LayoutView",
       "align_content": null,
       "align_items": null,
       "align_self": null,
       "border_bottom": null,
       "border_left": null,
       "border_right": null,
       "border_top": null,
       "bottom": null,
       "display": null,
       "flex": null,
       "flex_flow": null,
       "grid_area": null,
       "grid_auto_columns": null,
       "grid_auto_flow": null,
       "grid_auto_rows": null,
       "grid_column": null,
       "grid_gap": null,
       "grid_row": null,
       "grid_template_areas": null,
       "grid_template_columns": null,
       "grid_template_rows": null,
       "height": null,
       "justify_content": null,
       "justify_items": null,
       "left": null,
       "margin": null,
       "max_height": null,
       "max_width": null,
       "min_height": null,
       "min_width": null,
       "object_fit": null,
       "object_position": null,
       "order": null,
       "overflow": null,
       "padding": null,
       "right": null,
       "top": null,
       "visibility": null,
       "width": "50px"
      }
     },
     "e3e7ad9f4aa74269b05c7ab746a2ec06": {
      "model_module": "@jupyter-widgets/controls",
      "model_module_version": "2.0.0",
      "model_name": "LabelStyleModel",
      "state": {
       "_model_module": "@jupyter-widgets/controls",
       "_model_module_version": "2.0.0",
       "_model_name": "LabelStyleModel",
       "_view_count": null,
       "_view_module": "@jupyter-widgets/base",
       "_view_module_version": "2.0.0",
       "_view_name": "StyleView",
       "background": null,
       "description_width": "",
       "font_family": null,
       "font_size": null,
       "font_style": null,
       "font_variant": null,
       "font_weight": null,
       "text_color": null,
       "text_decoration": null
      }
     },
     "e4537197375446e2bbb956dff9106ceb": {
      "model_module": "@jupyter-widgets/controls",
      "model_module_version": "2.0.0",
      "model_name": "HBoxModel",
      "state": {
       "_dom_classes": [],
       "_model_module": "@jupyter-widgets/controls",
       "_model_module_version": "2.0.0",
       "_model_name": "HBoxModel",
       "_view_count": null,
       "_view_module": "@jupyter-widgets/controls",
       "_view_module_version": "2.0.0",
       "_view_name": "HBoxView",
       "box_style": "",
       "children": [
        "IPY_MODEL_7fd93d75719b4527b3741ab6b34df692",
        "IPY_MODEL_7a654c7f641945d48729f2d6a487e74d"
       ],
       "layout": "IPY_MODEL_6af1cd76c4dc498f8a9cd421ece4453b",
       "tabbable": null,
       "tooltip": null
      }
     },
     "e4732a4cf0c544d29da865ececd135ac": {
      "model_module": "@jupyter-widgets/base",
      "model_module_version": "2.0.0",
      "model_name": "LayoutModel",
      "state": {
       "_model_module": "@jupyter-widgets/base",
       "_model_module_version": "2.0.0",
       "_model_name": "LayoutModel",
       "_view_count": null,
       "_view_module": "@jupyter-widgets/base",
       "_view_module_version": "2.0.0",
       "_view_name": "LayoutView",
       "align_content": null,
       "align_items": null,
       "align_self": null,
       "border_bottom": null,
       "border_left": null,
       "border_right": null,
       "border_top": null,
       "bottom": null,
       "display": null,
       "flex": null,
       "flex_flow": null,
       "grid_area": null,
       "grid_auto_columns": null,
       "grid_auto_flow": null,
       "grid_auto_rows": null,
       "grid_column": null,
       "grid_gap": null,
       "grid_row": null,
       "grid_template_areas": null,
       "grid_template_columns": null,
       "grid_template_rows": null,
       "height": null,
       "justify_content": null,
       "justify_items": null,
       "left": null,
       "margin": null,
       "max_height": null,
       "max_width": null,
       "min_height": null,
       "min_width": null,
       "object_fit": null,
       "object_position": null,
       "order": null,
       "overflow": null,
       "padding": null,
       "right": null,
       "top": null,
       "visibility": null,
       "width": null
      }
     },
     "e4acf8531c41422788a91be813028532": {
      "model_module": "@jupyter-widgets/base",
      "model_module_version": "2.0.0",
      "model_name": "LayoutModel",
      "state": {
       "_model_module": "@jupyter-widgets/base",
       "_model_module_version": "2.0.0",
       "_model_name": "LayoutModel",
       "_view_count": null,
       "_view_module": "@jupyter-widgets/base",
       "_view_module_version": "2.0.0",
       "_view_name": "LayoutView",
       "align_content": null,
       "align_items": null,
       "align_self": null,
       "border_bottom": null,
       "border_left": null,
       "border_right": null,
       "border_top": null,
       "bottom": null,
       "display": null,
       "flex": null,
       "flex_flow": null,
       "grid_area": null,
       "grid_auto_columns": null,
       "grid_auto_flow": null,
       "grid_auto_rows": null,
       "grid_column": null,
       "grid_gap": null,
       "grid_row": null,
       "grid_template_areas": null,
       "grid_template_columns": null,
       "grid_template_rows": null,
       "height": null,
       "justify_content": null,
       "justify_items": null,
       "left": null,
       "margin": null,
       "max_height": null,
       "max_width": null,
       "min_height": null,
       "min_width": null,
       "object_fit": null,
       "object_position": null,
       "order": null,
       "overflow": null,
       "padding": null,
       "right": null,
       "top": null,
       "visibility": null,
       "width": null
      }
     },
     "e726a4de9edd4614a5b07a862e807ae3": {
      "model_module": "@jupyter-widgets/controls",
      "model_module_version": "2.0.0",
      "model_name": "HBoxModel",
      "state": {
       "_dom_classes": [],
       "_model_module": "@jupyter-widgets/controls",
       "_model_module_version": "2.0.0",
       "_model_name": "HBoxModel",
       "_view_count": null,
       "_view_module": "@jupyter-widgets/controls",
       "_view_module_version": "2.0.0",
       "_view_name": "HBoxView",
       "box_style": "",
       "children": [
        "IPY_MODEL_fb71335a28334ccabdf0aee820cd7749",
        "IPY_MODEL_04ff3f7c722c4c509a62facfcc49279d"
       ],
       "layout": "IPY_MODEL_e1797a2973314453ad6eba35f800d0c8",
       "tabbable": null,
       "tooltip": null
      }
     },
     "e77895212d934ad2830bda81feecc1f9": {
      "model_module": "@jupyter-widgets/base",
      "model_module_version": "2.0.0",
      "model_name": "LayoutModel",
      "state": {
       "_model_module": "@jupyter-widgets/base",
       "_model_module_version": "2.0.0",
       "_model_name": "LayoutModel",
       "_view_count": null,
       "_view_module": "@jupyter-widgets/base",
       "_view_module_version": "2.0.0",
       "_view_name": "LayoutView",
       "align_content": null,
       "align_items": null,
       "align_self": null,
       "border_bottom": null,
       "border_left": null,
       "border_right": null,
       "border_top": null,
       "bottom": null,
       "display": null,
       "flex": null,
       "flex_flow": null,
       "grid_area": null,
       "grid_auto_columns": null,
       "grid_auto_flow": null,
       "grid_auto_rows": null,
       "grid_column": null,
       "grid_gap": null,
       "grid_row": null,
       "grid_template_areas": null,
       "grid_template_columns": null,
       "grid_template_rows": null,
       "height": null,
       "justify_content": null,
       "justify_items": null,
       "left": null,
       "margin": null,
       "max_height": null,
       "max_width": null,
       "min_height": null,
       "min_width": null,
       "object_fit": null,
       "object_position": null,
       "order": null,
       "overflow": null,
       "padding": null,
       "right": null,
       "top": null,
       "visibility": null,
       "width": "100px"
      }
     },
     "eaadaa09142a44a9ba77c8fc25c97b5b": {
      "model_module": "@jupyter-widgets/controls",
      "model_module_version": "2.0.0",
      "model_name": "FloatTextModel",
      "state": {
       "_dom_classes": [],
       "_model_module": "@jupyter-widgets/controls",
       "_model_module_version": "2.0.0",
       "_model_name": "FloatTextModel",
       "_view_count": null,
       "_view_module": "@jupyter-widgets/controls",
       "_view_module_version": "2.0.0",
       "_view_name": "FloatTextView",
       "continuous_update": false,
       "description": "",
       "description_allow_html": false,
       "disabled": false,
       "layout": "IPY_MODEL_f93771cf0a8d4eeead51e948846de860",
       "step": null,
       "style": "IPY_MODEL_9aa2c9595e0e4f53be4019d4ea0c2de8",
       "tabbable": null,
       "tooltip": null,
       "value": 0.0
      }
     },
     "eb4f86e9c8c54ca6826acf1d48d119fe": {
      "model_module": "@jupyter-widgets/controls",
      "model_module_version": "2.0.0",
      "model_name": "DescriptionStyleModel",
      "state": {
       "_model_module": "@jupyter-widgets/controls",
       "_model_module_version": "2.0.0",
       "_model_name": "DescriptionStyleModel",
       "_view_count": null,
       "_view_module": "@jupyter-widgets/base",
       "_view_module_version": "2.0.0",
       "_view_name": "StyleView",
       "description_width": ""
      }
     },
     "ee8a4043213d4c68a57ada0b3e222945": {
      "model_module": "@jupyter-widgets/base",
      "model_module_version": "2.0.0",
      "model_name": "LayoutModel",
      "state": {
       "_model_module": "@jupyter-widgets/base",
       "_model_module_version": "2.0.0",
       "_model_name": "LayoutModel",
       "_view_count": null,
       "_view_module": "@jupyter-widgets/base",
       "_view_module_version": "2.0.0",
       "_view_name": "LayoutView",
       "align_content": null,
       "align_items": null,
       "align_self": null,
       "border_bottom": null,
       "border_left": null,
       "border_right": null,
       "border_top": null,
       "bottom": null,
       "display": null,
       "flex": null,
       "flex_flow": null,
       "grid_area": null,
       "grid_auto_columns": null,
       "grid_auto_flow": null,
       "grid_auto_rows": null,
       "grid_column": null,
       "grid_gap": null,
       "grid_row": null,
       "grid_template_areas": null,
       "grid_template_columns": null,
       "grid_template_rows": null,
       "height": null,
       "justify_content": null,
       "justify_items": null,
       "left": null,
       "margin": null,
       "max_height": null,
       "max_width": null,
       "min_height": null,
       "min_width": null,
       "object_fit": null,
       "object_position": null,
       "order": null,
       "overflow": null,
       "padding": null,
       "right": null,
       "top": null,
       "visibility": null,
       "width": "50px"
      }
     },
     "ef64b54781b0422ca5456be81b817479": {
      "model_module": "@jupyter-widgets/controls",
      "model_module_version": "2.0.0",
      "model_name": "LabelModel",
      "state": {
       "_dom_classes": [],
       "_model_module": "@jupyter-widgets/controls",
       "_model_module_version": "2.0.0",
       "_model_name": "LabelModel",
       "_view_count": null,
       "_view_module": "@jupyter-widgets/controls",
       "_view_module_version": "2.0.0",
       "_view_name": "LabelView",
       "description": "",
       "description_allow_html": false,
       "layout": "IPY_MODEL_a450e38e7bab43bf9344b0dddbb69eba",
       "placeholder": "​",
       "style": "IPY_MODEL_5c940136e7854b65812317cf9dd4a9e8",
       "tabbable": null,
       "tooltip": null,
       "value": "A3"
      }
     },
     "f03336d61e944312b96f05d39c52c72f": {
      "model_module": "@jupyter-widgets/controls",
      "model_module_version": "2.0.0",
      "model_name": "HBoxModel",
      "state": {
       "_dom_classes": [],
       "_model_module": "@jupyter-widgets/controls",
       "_model_module_version": "2.0.0",
       "_model_name": "HBoxModel",
       "_view_count": null,
       "_view_module": "@jupyter-widgets/controls",
       "_view_module_version": "2.0.0",
       "_view_name": "HBoxView",
       "box_style": "",
       "children": [
        "IPY_MODEL_8f6cb280495f4335a74063162a09aeac",
        "IPY_MODEL_d572b7f2a8f0450da2884f56cb8499c2"
       ],
       "layout": "IPY_MODEL_c6feb6ba27bc4aa9ae52a4c8fa936505",
       "tabbable": null,
       "tooltip": null
      }
     },
     "f1e6c94f98c24f0fa6b2a503623e46e5": {
      "model_module": "@jupyter-widgets/base",
      "model_module_version": "2.0.0",
      "model_name": "LayoutModel",
      "state": {
       "_model_module": "@jupyter-widgets/base",
       "_model_module_version": "2.0.0",
       "_model_name": "LayoutModel",
       "_view_count": null,
       "_view_module": "@jupyter-widgets/base",
       "_view_module_version": "2.0.0",
       "_view_name": "LayoutView",
       "align_content": null,
       "align_items": null,
       "align_self": null,
       "border_bottom": null,
       "border_left": null,
       "border_right": null,
       "border_top": null,
       "bottom": null,
       "display": null,
       "flex": null,
       "flex_flow": null,
       "grid_area": null,
       "grid_auto_columns": null,
       "grid_auto_flow": null,
       "grid_auto_rows": null,
       "grid_column": null,
       "grid_gap": null,
       "grid_row": null,
       "grid_template_areas": null,
       "grid_template_columns": null,
       "grid_template_rows": null,
       "height": null,
       "justify_content": null,
       "justify_items": null,
       "left": null,
       "margin": null,
       "max_height": null,
       "max_width": null,
       "min_height": null,
       "min_width": null,
       "object_fit": null,
       "object_position": null,
       "order": null,
       "overflow": null,
       "padding": null,
       "right": null,
       "top": null,
       "visibility": null,
       "width": null
      }
     },
     "f253e605bb294f47aada7cae5a25d208": {
      "model_module": "@jupyter-widgets/base",
      "model_module_version": "2.0.0",
      "model_name": "LayoutModel",
      "state": {
       "_model_module": "@jupyter-widgets/base",
       "_model_module_version": "2.0.0",
       "_model_name": "LayoutModel",
       "_view_count": null,
       "_view_module": "@jupyter-widgets/base",
       "_view_module_version": "2.0.0",
       "_view_name": "LayoutView",
       "align_content": null,
       "align_items": null,
       "align_self": null,
       "border_bottom": null,
       "border_left": null,
       "border_right": null,
       "border_top": null,
       "bottom": null,
       "display": null,
       "flex": null,
       "flex_flow": null,
       "grid_area": null,
       "grid_auto_columns": null,
       "grid_auto_flow": null,
       "grid_auto_rows": null,
       "grid_column": null,
       "grid_gap": null,
       "grid_row": null,
       "grid_template_areas": null,
       "grid_template_columns": null,
       "grid_template_rows": null,
       "height": null,
       "justify_content": null,
       "justify_items": null,
       "left": null,
       "margin": null,
       "max_height": null,
       "max_width": null,
       "min_height": null,
       "min_width": null,
       "object_fit": null,
       "object_position": null,
       "order": null,
       "overflow": null,
       "padding": null,
       "right": null,
       "top": null,
       "visibility": null,
       "width": "50px"
      }
     },
     "f2b7d8ac965049ec9d338bff7995a757": {
      "model_module": "@jupyter-widgets/controls",
      "model_module_version": "2.0.0",
      "model_name": "DescriptionStyleModel",
      "state": {
       "_model_module": "@jupyter-widgets/controls",
       "_model_module_version": "2.0.0",
       "_model_name": "DescriptionStyleModel",
       "_view_count": null,
       "_view_module": "@jupyter-widgets/base",
       "_view_module_version": "2.0.0",
       "_view_name": "StyleView",
       "description_width": ""
      }
     },
     "f2f499ae8fec444980fa98512d3dfebb": {
      "model_module": "@jupyter-widgets/controls",
      "model_module_version": "2.0.0",
      "model_name": "DescriptionStyleModel",
      "state": {
       "_model_module": "@jupyter-widgets/controls",
       "_model_module_version": "2.0.0",
       "_model_name": "DescriptionStyleModel",
       "_view_count": null,
       "_view_module": "@jupyter-widgets/base",
       "_view_module_version": "2.0.0",
       "_view_name": "StyleView",
       "description_width": ""
      }
     },
     "f41d0c4a1a944f6581b02227b6861e8e": {
      "model_module": "@jupyter-widgets/controls",
      "model_module_version": "2.0.0",
      "model_name": "LabelModel",
      "state": {
       "_dom_classes": [],
       "_model_module": "@jupyter-widgets/controls",
       "_model_module_version": "2.0.0",
       "_model_name": "LabelModel",
       "_view_count": null,
       "_view_module": "@jupyter-widgets/controls",
       "_view_module_version": "2.0.0",
       "_view_name": "LabelView",
       "description": "",
       "description_allow_html": false,
       "layout": "IPY_MODEL_b72084c19aa845ee911573325dcd7a9a",
       "placeholder": "​",
       "style": "IPY_MODEL_2f3741f8168746a99333e16946b28d74",
       "tabbable": null,
       "tooltip": null,
       "value": "C4"
      }
     },
     "f7617264487f455e816879dd62cd2982": {
      "model_module": "@jupyter-widgets/controls",
      "model_module_version": "2.0.0",
      "model_name": "FloatTextModel",
      "state": {
       "_dom_classes": [],
       "_model_module": "@jupyter-widgets/controls",
       "_model_module_version": "2.0.0",
       "_model_name": "FloatTextModel",
       "_view_count": null,
       "_view_module": "@jupyter-widgets/controls",
       "_view_module_version": "2.0.0",
       "_view_name": "FloatTextView",
       "continuous_update": false,
       "description": "",
       "description_allow_html": false,
       "disabled": false,
       "layout": "IPY_MODEL_5d63b0cbf1154b5ebcf49b3fc326dced",
       "step": null,
       "style": "IPY_MODEL_53b41b93988c4f4189813431c82ea869",
       "tabbable": null,
       "tooltip": null,
       "value": 0.0
      }
     },
     "f93771cf0a8d4eeead51e948846de860": {
      "model_module": "@jupyter-widgets/base",
      "model_module_version": "2.0.0",
      "model_name": "LayoutModel",
      "state": {
       "_model_module": "@jupyter-widgets/base",
       "_model_module_version": "2.0.0",
       "_model_name": "LayoutModel",
       "_view_count": null,
       "_view_module": "@jupyter-widgets/base",
       "_view_module_version": "2.0.0",
       "_view_name": "LayoutView",
       "align_content": null,
       "align_items": null,
       "align_self": null,
       "border_bottom": null,
       "border_left": null,
       "border_right": null,
       "border_top": null,
       "bottom": null,
       "display": null,
       "flex": null,
       "flex_flow": null,
       "grid_area": null,
       "grid_auto_columns": null,
       "grid_auto_flow": null,
       "grid_auto_rows": null,
       "grid_column": null,
       "grid_gap": null,
       "grid_row": null,
       "grid_template_areas": null,
       "grid_template_columns": null,
       "grid_template_rows": null,
       "height": null,
       "justify_content": null,
       "justify_items": null,
       "left": null,
       "margin": null,
       "max_height": null,
       "max_width": null,
       "min_height": null,
       "min_width": null,
       "object_fit": null,
       "object_position": null,
       "order": null,
       "overflow": null,
       "padding": null,
       "right": null,
       "top": null,
       "visibility": null,
       "width": "100px"
      }
     },
     "fa4c1568600247c0baba52074e5644a7": {
      "model_module": "@jupyter-widgets/base",
      "model_module_version": "2.0.0",
      "model_name": "LayoutModel",
      "state": {
       "_model_module": "@jupyter-widgets/base",
       "_model_module_version": "2.0.0",
       "_model_name": "LayoutModel",
       "_view_count": null,
       "_view_module": "@jupyter-widgets/base",
       "_view_module_version": "2.0.0",
       "_view_name": "LayoutView",
       "align_content": null,
       "align_items": null,
       "align_self": null,
       "border_bottom": null,
       "border_left": null,
       "border_right": null,
       "border_top": null,
       "bottom": null,
       "display": null,
       "flex": null,
       "flex_flow": null,
       "grid_area": null,
       "grid_auto_columns": null,
       "grid_auto_flow": null,
       "grid_auto_rows": null,
       "grid_column": null,
       "grid_gap": null,
       "grid_row": null,
       "grid_template_areas": null,
       "grid_template_columns": null,
       "grid_template_rows": null,
       "height": null,
       "justify_content": null,
       "justify_items": null,
       "left": null,
       "margin": null,
       "max_height": null,
       "max_width": null,
       "min_height": null,
       "min_width": null,
       "object_fit": null,
       "object_position": null,
       "order": null,
       "overflow": null,
       "padding": null,
       "right": null,
       "top": null,
       "visibility": null,
       "width": null
      }
     },
     "fad57333b8bf44d691c7795e38f0bc62": {
      "model_module": "@jupyter-widgets/controls",
      "model_module_version": "2.0.0",
      "model_name": "HBoxModel",
      "state": {
       "_dom_classes": [],
       "_model_module": "@jupyter-widgets/controls",
       "_model_module_version": "2.0.0",
       "_model_name": "HBoxModel",
       "_view_count": null,
       "_view_module": "@jupyter-widgets/controls",
       "_view_module_version": "2.0.0",
       "_view_name": "HBoxView",
       "box_style": "",
       "children": [
        "IPY_MODEL_255b1452ff7d417db6a5f2ec7e57126e",
        "IPY_MODEL_760f9f57f9ae433281f2db2617a223e7"
       ],
       "layout": "IPY_MODEL_91b0e7dea6db4709833df022bc4ec605",
       "tabbable": null,
       "tooltip": null
      }
     },
     "fb71335a28334ccabdf0aee820cd7749": {
      "model_module": "@jupyter-widgets/controls",
      "model_module_version": "2.0.0",
      "model_name": "LabelModel",
      "state": {
       "_dom_classes": [],
       "_model_module": "@jupyter-widgets/controls",
       "_model_module_version": "2.0.0",
       "_model_name": "LabelModel",
       "_view_count": null,
       "_view_module": "@jupyter-widgets/controls",
       "_view_module_version": "2.0.0",
       "_view_name": "LabelView",
       "description": "",
       "description_allow_html": false,
       "layout": "IPY_MODEL_b6ecd18a444f4bb5b3602696aded0aec",
       "placeholder": "​",
       "style": "IPY_MODEL_735fcb7b3b24437f8d5bc51aced49752",
       "tabbable": null,
       "tooltip": null,
       "value": "C1"
      }
     },
     "fef05e4263034fbdad2a910e84592ffb": {
      "model_module": "@jupyter-widgets/controls",
      "model_module_version": "2.0.0",
      "model_name": "DescriptionStyleModel",
      "state": {
       "_model_module": "@jupyter-widgets/controls",
       "_model_module_version": "2.0.0",
       "_model_name": "DescriptionStyleModel",
       "_view_count": null,
       "_view_module": "@jupyter-widgets/base",
       "_view_module_version": "2.0.0",
       "_view_name": "StyleView",
       "description_width": ""
      }
     },
     "ff2cad7816524eccb5b7145f26ea0907": {
      "model_module": "@jupyter-widgets/controls",
      "model_module_version": "2.0.0",
      "model_name": "FloatTextModel",
      "state": {
       "_dom_classes": [],
       "_model_module": "@jupyter-widgets/controls",
       "_model_module_version": "2.0.0",
       "_model_name": "FloatTextModel",
       "_view_count": null,
       "_view_module": "@jupyter-widgets/controls",
       "_view_module_version": "2.0.0",
       "_view_name": "FloatTextView",
       "continuous_update": false,
       "description": "",
       "description_allow_html": false,
       "disabled": false,
       "layout": "IPY_MODEL_0a4379d6fb534206b3f73c471dd872b0",
       "step": null,
       "style": "IPY_MODEL_5182f993b5124e1ab65eb56f3c99b526",
       "tabbable": null,
       "tooltip": null,
       "value": 0.0
      }
     }
    },
    "version_major": 2,
    "version_minor": 0
   }
  }
 },
 "nbformat": 4,
 "nbformat_minor": 5
}
